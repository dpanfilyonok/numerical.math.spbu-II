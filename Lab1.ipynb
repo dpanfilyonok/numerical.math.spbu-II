{
  "cells": [
    {
      "cell_type": "code",
      "execution_count": 1,
      "metadata": {
        "dotnet_interactive": {
          "language": "fsharp"
        }
      },
      "source": [
        "#r \"nuget: MathNet.Numerics.FSharp, 4.15.0\"\n",
        "\n",
        "open MathNet.Numerics.LinearAlgebra"
      ],
      "outputs": []
    },
    {
      "cell_type": "markdown",
      "metadata": {},
      "source": [
        "## 1.1 Постановка задачи\n",
        "1) Решить две системы (одну с “точной” правой частью, вторую с изменённой)\n",
        "2) Найти число обусловленности исходной матрицы\n",
        "3) Посчитать фактическую погрешность и оценку погрешности"
      ]
    },
    {
      "cell_type": "markdown",
      "metadata": {},
      "source": [
        "### Вариант 9"
      ]
    },
    {
      "cell_type": "code",
      "execution_count": 1,
      "metadata": {
        "dotnet_interactive": {
          "language": "fsharp"
        }
      },
      "source": [
        "let a = matrix [\n",
        "    [-401.64; 200.12]\n",
        "    [1200.72; -601.76]\n",
        "]\n",
        "\n",
        "let bAccurate = vector [200.; -600.]\n",
        "let bAltered = vector [199.; -601.]"
      ],
      "outputs": []
    },
    {
      "cell_type": "markdown",
      "metadata": {},
      "source": [
        "### Решение"
      ]
    },
    {
      "cell_type": "code",
      "execution_count": 1,
      "metadata": {
        "dotnet_interactive": {
          "language": "fsharp"
        }
      },
      "source": [
        "let solutionAccurate = a.Solve bAccurate\n",
        "let solutionAltered = a.Solve bAltered\n",
        "\n",
        "let condA = a.ConditionNumber()\n",
        "\n",
        "let factError = (solutionAltered - solutionAccurate).L2Norm() / solutionAccurate.L2Norm()\n",
        "let estimateError = ()\n",
        "\n",
        "condA"
      ],
      "outputs": []
    },
    {
      "cell_type": "markdown",
      "metadata": {},
      "source": [
        "## 1.2 Постановка задачи\n",
        "1) Реализовать метод Гаусса с выбором главного элемента для решения СЛАУ\n",
        "2) Реализовать метод Жордана для нахождения обратной матрицы\n",
        "3) Реализовать метод LU-разложения для нахождения определителя матрицы"
      ]
    },
    {
      "cell_type": "markdown",
      "metadata": {},
      "source": [
        "### Вариант 9"
      ]
    },
    {
      "cell_type": "code",
      "execution_count": 1,
      "metadata": {
        "dotnet_interactive": {
          "language": "fsharp"
        }
      },
      "source": [
        "let a = matrix [\n",
        "    [12.78572; 1.534675; -3.947418]\n",
        "    [1.534675; 9.709232; 0.918435]\n",
        "    [-3.947418; 0.918435; 7.703946]\n",
        "]\n",
        "\n",
        "let b = vector [9.60565; 7.30777; 4.21575]"
      ],
      "outputs": []
    },
    {
      "cell_type": "markdown",
      "metadata": {},
      "source": [
        "### Метод Гаусса в выбором главных компонент"
      ]
    },
    {
      "cell_type": "code",
      "execution_count": 1,
      "metadata": {
        "dotnet_interactive": {
          "language": "fsharp"
        }
      },
      "source": [
        "let solveGauss (matrix: Matrix<float>) (freeVector: Vector<float>) = \n",
        "    let n = matrix.RowCount\n",
        "    let extendedMatrix = matrix |> Matrix.appendCol freeVector\n",
        "    for k = 0 to n - 1 do\n",
        "        let temp = extendedMatrix.[k, k]\n",
        "        if abs temp > 1e-16 then\n",
        "            for j = k + 1 to n do\n",
        "                extendedMatrix.[k, j] <- extendedMatrix.[k, j] / temp\n",
        "        for i = k + 1 to n - 1 do\n",
        "            let temp = extendedMatrix.[i, k]\n",
        "            for j = k to n do\n",
        "                extendedMatrix.[i, j] <- extendedMatrix.[i, j] - extendedMatrix.[k, j] * temp \n",
        "\n",
        "    let solution = DenseVector.zero<float> n\n",
        "    for i = n - 1 downto 0 do\n",
        "        let mutable sum = 0.\n",
        "        for j = i + 1 to n - 1 do\n",
        "            sum <- sum + extendedMatrix.[i, j] * solution.[j]\n",
        "        solution.[i] <- extendedMatrix.[i, n] - sum\n",
        "\n",
        "    solution   "
      ],
      "outputs": []
    },
    {
      "cell_type": "code",
      "execution_count": 1,
      "metadata": {
        "dotnet_interactive": {
          "language": "fsharp"
        }
      },
      "source": [
        "display <| solveGauss a b\n",
        "display <| a.Solve b"
      ],
      "outputs": []
    },
    {
      "cell_type": "markdown",
      "metadata": {},
      "source": [
        "### Метод Жордана для нахождения обратной матрицы"
      ]
    },
    {
      "cell_type": "code",
      "execution_count": 1,
      "metadata": {
        "dotnet_interactive": {
          "language": "fsharp"
        }
      },
      "source": [
        "let inverseJordan (matrix: Matrix<float>) = \n",
        "    let n = matrix.RowCount\n",
        "    let extendedMatrix = matrix.Append <| DenseMatrix.identity n\n",
        "    for k = 0 to n - 1 do\n",
        "        let temp = extendedMatrix.[k, k]\n",
        "        if abs temp > 1e-16 then\n",
        "            for j = k + 1 to 2 * n - 1 do\n",
        "                extendedMatrix.[k, j] <- extendedMatrix.[k, j] / temp\n",
        "        for i in [0 .. k - 1] @ [k + 1 .. n - 1] do\n",
        "            let temp = extendedMatrix.[i, k]\n",
        "            for j = k to 2 * n - 1 do\n",
        "                extendedMatrix.[i, j] <- extendedMatrix.[i, j] - extendedMatrix.[k, j] * temp   \n",
        "    \n",
        "    extendedMatrix"
      ],
      "outputs": []
    },
    {
      "cell_type": "code",
      "execution_count": 1,
      "metadata": {
        "dotnet_interactive": {
          "language": "fsharp"
        }
      },
      "source": [
        "display <| inverseJordan a\n",
        "display <| a.Inverse()"
      ],
      "outputs": []
    },
    {
      "cell_type": "markdown",
      "metadata": {},
      "source": [
        "### Метод LU-разложения для нахождения определителя матрицы"
      ]
    },
    {
      "cell_type": "code",
      "execution_count": 1,
      "metadata": {
        "dotnet_interactive": {
          "language": "fsharp"
        }
      },
      "source": [
        "let detLU (matrix: Matrix<float>) = \n",
        "    let n = matrix.RowCount\n",
        "    let l = DenseMatrix.zero<float> n n\n",
        "    let u = DenseMatrix.identity<float> n\n",
        "\n",
        "    for i = 0 to n - 1 do\n",
        "        for j = i to n - 1 do\n",
        "            let mutable sum = 0.\n",
        "            for k = 0 to i - 1 do\n",
        "                sum <- l.[j, k] * u.[k, i]\n",
        "            l.[j, i] <- matrix.[j, i] - sum\n",
        "\n",
        "        for j = i to n - 1 do\n",
        "            let mutable sum = 0.\n",
        "            for k = 0 to i - 1 do\n",
        "                sum <- l.[i, k] * u.[k, j]\n",
        "            u.[i, j] <- (matrix.[i, j] - sum) / l.[i, i]\n",
        "\n",
        "    l.Diagonal() |> Seq.reduce (*)\n",
        ""
      ],
      "outputs": []
    },
    {
      "cell_type": "code",
      "execution_count": 1,
      "metadata": {
        "dotnet_interactive": {
          "language": "fsharp"
        }
      },
      "source": [
        "display <| detLU a\n",
        "display <| a.Determinant()"
      ],
      "outputs": []
    }
  ],
  "metadata": {
    "kernelspec": {
      "display_name": ".NET (C#)",
      "language": "C#",
      "name": ".net-csharp"
    },
    "language_info": {
      "file_extension": ".cs",
      "mimetype": "text/x-csharp",
      "name": "C#",
      "pygments_lexer": "csharp",
      "version": "8.0"
    }
  },
  "nbformat": 4,
  "nbformat_minor": 4
}