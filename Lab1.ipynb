{
  "cells": [
    {
      "cell_type": "code",
      "execution_count": null,
      "metadata": {
        "dotnet_interactive": {
          "language": "fsharp"
        }
      },
      "outputs": [],
      "source": [
        "#r \"nuget: MathNet.Numerics.FSharp, 4.15.0\"\n",
        "\n",
        "open MathNet.Numerics.LinearAlgebra"
      ]
    },
    {
      "cell_type": "markdown",
      "metadata": {},
      "source": [
        "## 1.1 Постановка задачи\n",
        "1) Решить две системы (одну с “точной” правой частью, вторую с изменённой)  \n",
        "2) Найти число обусловленности исходной матрицы  \n",
        "3) Посчитать фактическую погрешность и оценку погрешности"
      ]
    },
    {
      "cell_type": "markdown",
      "metadata": {},
      "source": [
        "### Вариант 9"
      ]
    },
    {
      "cell_type": "code",
      "execution_count": null,
      "metadata": {
        "dotnet_interactive": {
          "language": "fsharp"
        }
      },
      "outputs": [],
      "source": [
        "let a = matrix [\r\n",
        "    [-401.64; 200.12]\r\n",
        "    [1200.72; -601.76]\r\n",
        "]\r\n",
        "\r\n",
        "let bAccurate = vector [200.; -600.]\r\n",
        "let bAltered = vector [199.; -601.]\r\n",
        "\r\n",
        "let deltaA = DenseMatrix.zero<float> 2 2\r\n",
        "let deltaB = bAltered - bAccurate"
      ]
    },
    {
      "cell_type": "markdown",
      "metadata": {},
      "source": [
        "### Решение"
      ]
    },
    {
      "cell_type": "code",
      "execution_count": null,
      "metadata": {
        "dotnet_interactive": {
          "language": "fsharp"
        }
      },
      "outputs": [
        {
          "data": {
            "text/plain": "Решение с точной правой частью: "
          },
          "output_type": "unknown"
        },
        {
          "data": {
            "text/plain": "seq [-0.1996007984; 0.5988023952]"
          },
          "output_type": "unknown"
        },
        {
          "data": {
            "text/plain": "\r\n"
          },
          "output_type": "unknown"
        },
        {
          "data": {
            "text/plain": "Решение с изменённой правой частью: "
          },
          "output_type": "unknown"
        },
        {
          "data": {
            "text/plain": "seq [0.3720273738; 1.741060736]"
          },
          "output_type": "unknown"
        },
        {
          "data": {
            "text/plain": "\r\n"
          },
          "output_type": "unknown"
        },
        {
          "data": {
            "text/plain": "Число обусловенности: "
          },
          "output_type": "unknown"
        },
        {
          "data": {
            "text/plain": "1429.430666"
          },
          "output_type": "unknown"
        },
        {
          "data": {
            "text/plain": "\r\n"
          },
          "output_type": "unknown"
        },
        {
          "data": {
            "text/plain": "Фактическая погрешность: "
          },
          "output_type": "unknown"
        },
        {
          "data": {
            "text/plain": "2.023638716"
          },
          "output_type": "unknown"
        },
        {
          "data": {
            "text/plain": "\r\n"
          },
          "output_type": "unknown"
        },
        {
          "data": {
            "text/plain": "Оценка погрешности: "
          },
          "output_type": "unknown"
        },
        {
          "data": {
            "text/plain": "3.196304139"
          },
          "output_type": "unknown"
        },
        {
          "data": {
            "text/plain": "\r\n"
          },
          "output_type": "unknown"
        }
      ],
      "source": [
        "let conditionNumber (matrix: Matrix<'a>) = \r\n",
        "    matrix.Inverse().L2Norm() * matrix.L2Norm()\r\n",
        "\r\n",
        "let solutionAccurate = a.Solve bAccurate\r\n",
        "let solutionAltered = a.Solve bAltered\r\n",
        "\r\n",
        "let condA = conditionNumber a\r\n",
        "\r\n",
        "let errorFact = (solutionAltered - solutionAccurate).L2Norm() / solutionAccurate.L2Norm()\r\n",
        "let errorEstimation = \r\n",
        "    condA / (1. - condA * deltaA.L2Norm() / a.L2Norm()) * \r\n",
        "    (deltaB.L2Norm() / bAccurate.L2Norm() + deltaA.L2Norm() / a.L2Norm())\r\n",
        "\r\n",
        "printfn \"Решение с точной правой частью: %A\" solutionAccurate \r\n",
        "printfn \"Решение с изменённой правой частью: %A\" solutionAltered\r\n",
        "printfn \"Число обусловенности: %A\" condA\r\n",
        "printfn \"Фактическая погрешность: %A\" errorFact\r\n",
        "printfn \"Оценка погрешности: %A\" errorEstimation"
      ]
    },
    {
      "cell_type": "markdown",
      "metadata": {},
      "source": [
        "## 1.2 Постановка задачи\n",
        "1) Реализовать метод Гаусса с выбором главного элемента для решения СЛАУ  \n",
        "2) Реализовать метод Жордана для нахождения обратной матрицы  \n",
        "3) Реализовать метод LU-разложения для нахождения определителя матрицы"
      ]
    },
    {
      "cell_type": "markdown",
      "metadata": {},
      "source": [
        "### Вариант 9"
      ]
    },
    {
      "cell_type": "code",
      "execution_count": null,
      "metadata": {
        "dotnet_interactive": {
          "language": "fsharp"
        }
      },
      "outputs": [],
      "source": [
        "let a = matrix [\n",
        "    [12.78572; 1.534675; -3.947418]\n",
        "    [1.534675; 9.709232; 0.918435]\n",
        "    [-3.947418; 0.918435; 7.703946]\n",
        "]\n",
        "\n",
        "let b = vector [9.60565; 7.30777; 4.21575]"
      ]
    },
    {
      "cell_type": "markdown",
      "metadata": {},
      "source": [
        "### Метод Гаусса в выбором главных компонент"
      ]
    },
    {
      "cell_type": "code",
      "execution_count": null,
      "metadata": {
        "dotnet_interactive": {
          "language": "fsharp"
        }
      },
      "outputs": [],
      "source": [
        "let solveGauss (matrix: Matrix<float>) (freeVector: Vector<float>) = \n",
        "    let n = matrix.RowCount\n",
        "    let extendedMatrix = matrix |> Matrix.appendCol freeVector\n",
        "    for k = 0 to n - 1 do\n",
        "        let temp = extendedMatrix.[k, k]\n",
        "        if abs temp > 1e-16 then\n",
        "            for j = k + 1 to n do\n",
        "                extendedMatrix.[k, j] <- extendedMatrix.[k, j] / temp\n",
        "        for i = k + 1 to n - 1 do\n",
        "            let temp = extendedMatrix.[i, k]\n",
        "            for j = k to n do\n",
        "                extendedMatrix.[i, j] <- extendedMatrix.[i, j] - extendedMatrix.[k, j] * temp \n",
        "\n",
        "    let solution = DenseVector.zero<float> n\n",
        "    for i = n - 1 downto 0 do\n",
        "        let mutable sum = 0.\n",
        "        for j = i + 1 to n - 1 do\n",
        "            sum <- sum + extendedMatrix.[i, j] * solution.[j]\n",
        "        solution.[i] <- extendedMatrix.[i, n] - sum\n",
        "\n",
        "    solution   "
      ]
    },
    {
      "cell_type": "code",
      "execution_count": null,
      "metadata": {
        "dotnet_interactive": {
          "language": "fsharp"
        }
      },
      "outputs": [
        {
          "data": {
            "text/plain": "Решение системы методом Гаусса: "
          },
          "output_type": "unknown"
        },
        {
          "data": {
            "text/plain": "seq [1.00000036; 0.5000044523; 1.000000238]"
          },
          "output_type": "unknown"
        },
        {
          "data": {
            "text/plain": "\r\n"
          },
          "output_type": "unknown"
        },
        {
          "data": {
            "text/plain": "Компоненты вектора невязки R = b - Ax: "
          },
          "output_type": "unknown"
        },
        {
          "data": {
            "text/plain": "DenseVector 3-Double\r\n0,000000000000000000\r\n0,000000000000000000\r\n0,000000000000000000\r\n"
          },
          "output_type": "unknown"
        },
        {
          "data": {
            "text/plain": "\r\n"
          },
          "output_type": "unknown"
        }
      ],
      "source": [
        "let solution = solveGauss a b\r\n",
        "printfn \"Решение системы методом Гаусса: %A\" solution\r\n",
        "printfn \"Компоненты вектора невязки R = b - Ax: %s\" <| (b - a * solution).ToString(\"N18\")"
      ]
    },
    {
      "cell_type": "markdown",
      "metadata": {},
      "source": [
        "### Метод Жордана для нахождения обратной матрицы"
      ]
    },
    {
      "cell_type": "code",
      "execution_count": null,
      "metadata": {
        "dotnet_interactive": {
          "language": "fsharp"
        }
      },
      "outputs": [],
      "source": [
        "let inverseJordan (matrix: Matrix<float>) = \r\n",
        "    let n = matrix.RowCount\r\n",
        "    let extendedMatrix = matrix.Append <| DenseMatrix.identity n\r\n",
        "    for k = 0 to n - 1 do\r\n",
        "        let temp = extendedMatrix.[k, k]\r\n",
        "        if abs temp > 1e-16 then\r\n",
        "            for j = k + 1 to 2 * n - 1 do\r\n",
        "                extendedMatrix.[k, j] <- extendedMatrix.[k, j] / temp\r\n",
        "        for i in [0 .. k - 1] @ [k + 1 .. n - 1] do\r\n",
        "            let temp = extendedMatrix.[i, k]\r\n",
        "            for j = k to 2 * n - 1 do\r\n",
        "                extendedMatrix.[i, j] <- extendedMatrix.[i, j] - extendedMatrix.[k, j] * temp   \r\n",
        "    \r\n",
        "    extendedMatrix.[*, n .. 2 * n - 1]"
      ]
    },
    {
      "cell_type": "code",
      "execution_count": null,
      "metadata": {
        "dotnet_interactive": {
          "language": "fsharp"
        }
      },
      "outputs": [
        {
          "data": {
            "text/plain": "Обратная матрица: "
          },
          "output_type": "unknown"
        },
        {
          "data": {
            "text/plain": "DenseMatrix 3x3-Double\r\n 0,0966723  -0,0201937   0,0519412\r\n-0,0201937    0,108388  -0,0232686\r\n 0,0519412  -0,0232686    0,159192\r\n"
          },
          "output_type": "unknown"
        },
        {
          "data": {
            "text/plain": "\r\n"
          },
          "output_type": "unknown"
        },
        {
          "data": {
            "text/plain": "Обратная матрица методом Жордана: "
          },
          "output_type": "unknown"
        },
        {
          "data": {
            "text/plain": "DenseMatrix 3x3-Double\r\n 0,0966723  -0,0201937   0,0519412\r\n-0,0201937    0,108388  -0,0232686\r\n 0,0519412  -0,0232686    0,159192\r\n"
          },
          "output_type": "unknown"
        },
        {
          "data": {
            "text/plain": "\r\n"
          },
          "output_type": "unknown"
        },
        {
          "data": {
            "text/plain": "Компоненты матрицы невязки: "
          },
          "output_type": "unknown"
        },
        {
          "data": {
            "text/plain": "DenseMatrix 3x3-Double\r\n 0,000000000000000014  -0,000000000000000003   0,000000000000000000\r\n 0,000000000000000003  -0,000000000000000014   0,000000000000000003\r\n-0,000000000000000007   0,000000000000000000  -0,000000000000000028\r\n"
          },
          "output_type": "unknown"
        },
        {
          "data": {
            "text/plain": "\r\n"
          },
          "output_type": "unknown"
        }
      ],
      "source": [
        "let inversed = inverseJordan a\r\n",
        "printfn \"Обратная матрица: %A\" <| a.Inverse()\r\n",
        "printfn \"Обратная матрица методом Жордана: %A\" inversed\r\n",
        "printfn \"Компоненты матрицы невязки: %s\" <| (a.Inverse() - inversed).ToString(\"N18\")\r\n"
      ]
    },
    {
      "cell_type": "markdown",
      "metadata": {},
      "source": [
        "### Метод LU-разложения для нахождения определителя матрицы"
      ]
    },
    {
      "cell_type": "code",
      "execution_count": null,
      "metadata": {
        "dotnet_interactive": {
          "language": "fsharp"
        }
      },
      "outputs": [],
      "source": [
        "let detLU (matrix: Matrix<float>) = \r\n",
        "    let n = matrix.RowCount\r\n",
        "    let l = DenseMatrix.zero<float> n n\r\n",
        "    let u = DenseMatrix.zero<float> n n\r\n",
        "\r\n",
        "    for i = 0 to n - 1 do\r\n",
        "        for j = i to n - 1 do\r\n",
        "            let mutable sum = 0.\r\n",
        "            for k = 0 to i - 1 do\r\n",
        "                sum <- sum + l.[j, k] * u.[k, i]\r\n",
        "            l.[j, i] <- matrix.[j, i] - sum\r\n",
        "\r\n",
        "        for j = i to n - 1 do\r\n",
        "            let mutable sum = 0.\r\n",
        "            for k = 0 to i - 1 do\r\n",
        "                sum <- sum + l.[i, k] * u.[k, j]\r\n",
        "            u.[i, j] <- (matrix.[i, j] - sum) / l.[i, i]\r\n",
        "\r\n",
        "    l.Diagonal() |> Seq.reduce (*)\r\n"
      ]
    },
    {
      "cell_type": "code",
      "execution_count": null,
      "metadata": {
        "dotnet_interactive": {
          "language": "fsharp"
        }
      },
      "outputs": [
        {
          "data": {
            "text/plain": "Определитель матрицы: "
          },
          "output_type": "unknown"
        },
        {
          "data": {
            "text/plain": "765.0165055"
          },
          "output_type": "unknown"
        },
        {
          "data": {
            "text/plain": "\r\n"
          },
          "output_type": "unknown"
        },
        {
          "data": {
            "text/plain": "Определитель матрицы с помощью LU-разложения: "
          },
          "output_type": "unknown"
        },
        {
          "data": {
            "text/plain": "765.0165055"
          },
          "output_type": "unknown"
        },
        {
          "data": {
            "text/plain": "\r\n"
          },
          "output_type": "unknown"
        }
      ],
      "source": [
        "printfn \"Определитель матрицы: %A\" <| a.Determinant()\r\n",
        "printfn \"Определитель матрицы с помощью LU-разложения: %A\" <| detLU a"
      ]
    }
  ],
  "metadata": {
    "kernelspec": {
      "display_name": ".NET (C#)",
      "language": "C#",
      "name": ".net-csharp"
    },
    "language_info": {
      "name": "C#",
      "version": ""
    }
  },
  "nbformat": 4,
  "nbformat_minor": 4
}