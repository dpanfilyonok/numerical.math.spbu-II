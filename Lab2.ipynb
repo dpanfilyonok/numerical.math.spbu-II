{
 "cells": [
  {
   "cell_type": "code",
   "execution_count": null,
   "metadata": {
    "dotnet_interactive": {
     "language": "fsharp"
    }
   },
   "outputs": [
    {
     "data": {
      "text/plain": "Installed package MathNet.Numerics.FSharp version 4.15.0"
     },
     "output_type": "unknown"
    }
   ],
   "source": [
    "#r \"nuget: MathNet.Numerics.FSharp, 4.15.0\"\r\n",
    "\r\n",
    "open MathNet.Numerics.LinearAlgebra"
   ]
  },
  {
   "cell_type": "markdown",
   "metadata": {},
   "source": [
    "## Варинат 9"
   ]
  },
  {
   "cell_type": "code",
   "execution_count": null,
   "metadata": {
    "dotnet_interactive": {
     "language": "fsharp"
    }
   },
   "outputs": [],
   "source": [
    "let a = matrix [\r\n",
    "    [-401.64; 200.12]\r\n",
    "    [1200.72; -601.76]\r\n",
    "]\r\n",
    "\r\n",
    "let b = vector [200.; -600.]"
   ]
  },
  {
   "cell_type": "markdown",
   "metadata": {},
   "source": [
    "1) Найти решение методом Гаусса"
   ]
  },
  {
   "cell_type": "code",
   "execution_count": null,
   "metadata": {
    "dotnet_interactive": {
     "language": "fsharp"
    }
   },
   "outputs": [],
   "source": [
    "let solveGauss (matrix: Matrix<float>) (freeVector: Vector<float>) = \r\n",
    "    let n = matrix.RowCount\r\n",
    "    let extendedMatrix = matrix |> Matrix.appendCol freeVector\r\n",
    "    for k = 0 to n - 1 do\r\n",
    "        let temp = extendedMatrix.[k, k]\r\n",
    "        if abs temp > 1e-16 then\r\n",
    "            for j = k + 1 to n do\r\n",
    "                extendedMatrix.[k, j] <- extendedMatrix.[k, j] / temp\r\n",
    "        for i = k + 1 to n - 1 do\r\n",
    "            let temp = extendedMatrix.[i, k]\r\n",
    "            for j = k to n do\r\n",
    "                extendedMatrix.[i, j] <- extendedMatrix.[i, j] - extendedMatrix.[k, j] * temp \r\n",
    "\r\n",
    "    let solution = DenseVector.zero<float> n\r\n",
    "    for i = n - 1 downto 0 do\r\n",
    "        let mutable sum = 0.\r\n",
    "        for j = i + 1 to n - 1 do\r\n",
    "            sum <- sum + extendedMatrix.[i, j] * solution.[j]\r\n",
    "        solution.[i] <- extendedMatrix.[i, n] - sum\r\n",
    "\r\n",
    "    solution  "
   ]
  },
  {
   "cell_type": "code",
   "execution_count": null,
   "metadata": {
    "dotnet_interactive": {
     "language": "fsharp"
    }
   },
   "outputs": [],
   "source": [
    "let solution = solveGauss a b\r\n",
    "printfn \"Решение системы методом Гаусса: %A\" solution"
   ]
  },
  {
   "cell_type": "markdown",
   "metadata": {},
   "source": [
    "2) Преобразовать исходную систему к системе вида x = HDx+gD, где HD = E − D−1A,\r\n",
    "gD = D−1\r\n",
    "b. Здесь D - диагональная матрица, у которой на диагонали находятся\r\n",
    "диагональные элементы матрицы A. Вычислить ||H_D||∞."
   ]
  },
  {
   "cell_type": "code",
   "execution_count": null,
   "metadata": {
    "dotnet_interactive": {
     "language": "fsharp"
    }
   },
   "outputs": [],
   "source": [
    "let transform (matrix: Matrix<float>) (freeVector: Vector<float>) = \r\n",
    "    let h = DenseMatrix.identity matrix.RowCount - (DenseMatrix.ofDiag <| matrix.Diagonal()).Inverse() * matrix\r\n",
    "    let g = (DenseMatrix.ofDiag <| matrix.Diagonal()).Inverse() * freeVector\r\n",
    "    h, g"
   ]
  },
  {
   "cell_type": "code",
   "execution_count": null,
   "metadata": {
    "dotnet_interactive": {
     "language": "fsharp"
    }
   },
   "outputs": [],
   "source": [
    "let (h, g) = transform a b\r\n",
    "let norm = h.InfinityNorm()"
   ]
  },
  {
   "cell_type": "markdown",
   "metadata": {
    "dotnet_interactive": {
     "language": "fsharp"
    }
   },
   "source": [
    "3) Найти априорную оценку"
   ]
  },
  {
   "cell_type": "code",
   "execution_count": null,
   "metadata": {
    "dotnet_interactive": {
     "language": "fsharp"
    }
   },
   "outputs": [],
   "source": [
    "let epsilon = 0.001"
   ]
  },
  {
   "cell_type": "code",
   "execution_count": null,
   "metadata": {
    "dotnet_interactive": {
     "language": "fsharp"
    }
   },
   "outputs": [],
   "source": [
    "let firstEstiomation = DenseVector.zero<float> h.RowCount"
   ]
  },
  {
   "cell_type": "code",
   "execution_count": null,
   "metadata": {
    "dotnet_interactive": {
     "language": "fsharp"
    }
   },
   "outputs": [],
   "source": [
    "let calculatePrioriEstimation k (h: Matrix<float>) (g: Vector<float>) (firstEstiomation: Vector<float>) =\r\n",
    "    h.InfinityNorm() ** k * firstEstiomation.InfinityNorm() +  h.InfinityNorm() ** k / (1. - h.InfinityNorm()) * g.InfinityNorm()"
   ]
  },
  {
   "cell_type": "code",
   "execution_count": null,
   "metadata": {
    "dotnet_interactive": {
     "language": "fsharp"
    }
   },
   "outputs": [],
   "source": [
    "let getIterationsCount accuracy (h: Matrix<float>) (g: Vector<float>) (firstEstiomation: Vector<float>) = \r\n",
    "    let mutable iterationsCount = 1.\r\n",
    "    while calculatePrioriEstimation iterationsCount h g firstEstiomation >= accuracy do \r\n",
    "        iterationsCount <- iterationsCount + 1.\r\n",
    "\r\n",
    "    int iterationsCount"
   ]
  },
  {
   "cell_type": "code",
   "execution_count": null,
   "metadata": {
    "dotnet_interactive": {
     "language": "fsharp"
    }
   },
   "outputs": [
    {
     "data": {
      "text/plain": "Для получения решения с априорной оценкой "
     },
     "output_type": "unknown"
    },
    {
     "data": {
      "text/plain": "0.001000"
     },
     "output_type": "unknown"
    },
    {
     "data": {
      "text/plain": " необходимо "
     },
     "output_type": "unknown"
    },
    {
     "data": {
      "text/plain": "1"
     },
     "output_type": "unknown"
    },
    {
     "data": {
      "text/plain": " итераций"
     },
     "output_type": "unknown"
    },
    {
     "data": {
      "text/plain": "\r\n"
     },
     "output_type": "unknown"
    }
   ],
   "source": [
    "printfn \"Для получения решения с априорной оценкой %f необходимо %i итераций\" \r\n",
    "    <| epsilon\r\n",
    "    <| getIterationsCount epsilon h g firstEstiomation"
   ]
  },
  {
   "cell_type": "markdown",
   "metadata": {},
   "source": [
    "4) Вычислить решение методом простой итерации с точностью"
   ]
  },
  {
   "cell_type": "code",
   "execution_count": null,
   "metadata": {
    "dotnet_interactive": {
     "language": "fsharp"
    }
   },
   "outputs": [],
   "source": [
    "let solveIterative step accuracy (h: Matrix<float>) (g: Vector<float>) = \r\n",
    "    let mutable previousEstimation = firstEstiomation\r\n",
    "    let mutable currentEstimation: Vector<float> = step h g previousEstimation\r\n",
    "    let mutable iterationCount = 1\r\n",
    "    while (previousEstimation - currentEstimation).L2Norm() >= accuracy do\r\n",
    "        previousEstimation <- currentEstimation\r\n",
    "        currentEstimation <- step h g currentEstimation\r\n",
    "        iterationCount <- iterationCount + 1\r\n",
    "    \r\n",
    "    currentEstimation, iterationCount"
   ]
  },
  {
   "cell_type": "code",
   "execution_count": null,
   "metadata": {
    "dotnet_interactive": {
     "language": "fsharp"
    }
   },
   "outputs": [],
   "source": [
    "let solveSimpleIteration (h: Matrix<float>) (g: Vector<float>) =\r\n",
    "    let step (h: Matrix<float>) (g: Vector<float>) (previousX: Vector<float>) = \r\n",
    "        h * previousX + g\r\n",
    "\r\n",
    "    solveIterative step epsilon h g"
   ]
  },
  {
   "cell_type": "code",
   "execution_count": null,
   "metadata": {
    "dotnet_interactive": {
     "language": "fsharp"
    }
   },
   "outputs": [
    {
     "data": {
      "text/plain": "Решение системы методом простой итерации: "
     },
     "output_type": "unknown"
    },
    {
     "data": {
      "text/plain": "seq [-0.1994224163; 0.5982672489]"
     },
     "output_type": "unknown"
    },
    {
     "data": {
      "text/plain": "\r\n"
     },
     "output_type": "unknown"
    }
   ],
   "source": [
    "let (solution, iterationCount) = solveSimpleIteration h g\r\n",
    "printfn \"Решение системы методом простой итерации: %A\" solution"
   ]
  },
  {
   "cell_type": "markdown",
   "metadata": {},
   "source": [
    "5) Вычислить решение системы методом Зейделя"
   ]
  },
  {
   "cell_type": "code",
   "execution_count": null,
   "metadata": {
    "dotnet_interactive": {
     "language": "fsharp"
    }
   },
   "outputs": [],
   "source": [
    "let solveSeidel (h: Matrix<float>) (g: Vector<float>) =\r\n",
    "    let step (h: Matrix<float>) (g: Vector<float>) (previousX: Vector<float>) = \r\n",
    "        let x = DenseVector.zero<float> previousX.Count\r\n",
    "        for i = 0 to x.Count - 1 do\r\n",
    "            x.[i] <- g.[i]\r\n",
    "            for j = 0 to i - 2 do\r\n",
    "                x.[i] <- x.[i] + h.[i, j] * x.[i]\r\n",
    "            for j = i - 1 to x.Count - 1 do\r\n",
    "                x.[i] <- x.[i] + h.[i, j] * previousX.[i]\r\n",
    "        x\r\n",
    "\r\n",
    "    solveIterative step epsilon h g"
   ]
  }
 ],
 "metadata": {
  "kernelspec": {
   "display_name": ".NET (F#)",
   "language": "F#",
   "name": ".net-fsharp"
  },
  "language_info": {
   "file_extension": ".fs",
   "mimetype": "text/x-fsharp",
   "name": "C#",
   "pygments_lexer": "fsharp",
   "version": "4.5"
  },
  "orig_nbformat": 2
 },
 "nbformat": 4,
 "nbformat_minor": 2
}