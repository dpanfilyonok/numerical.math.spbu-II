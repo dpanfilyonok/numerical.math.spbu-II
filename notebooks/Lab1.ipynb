{
  "cells": [
    {
      "cell_type": "code",
      "execution_count": 1,
      "metadata": {
        "dotnet_interactive": {
          "language": "fsharp"
        }
      },
      "outputs": [
        {
          "data": {
            "text/html": "\r\n<div>\r\n    <div id='dotnet-interactive-this-cell-6712.f854ace4ef544a49adc7f2bedc084913' style='display: none'>\r\n        The below script needs to be able to find the current output cell; this is an easy method to get it.\r\n    </div>\r\n    <script type='text/javascript'>\r\n// ensure `require` is available globally\r\nif (typeof require !== typeof Function || typeof require.config !== typeof Function) {\r\n    let require_script = document.createElement('script');\r\n    require_script.setAttribute('src', 'https://cdnjs.cloudflare.com/ajax/libs/require.js/2.3.6/require.min.js');\r\n    require_script.setAttribute('type', 'text/javascript');\r\n    require_script.onload = function () {\r\n        loadDotnetInteractiveApi();\r\n    };\r\n\r\n    document.getElementsByTagName('head')[0].appendChild(require_script);\r\n}\r\nelse {\r\n    loadDotnetInteractiveApi();\r\n}\r\n\r\nasync function probeAddresses(probingAddresses) {\r\n    function timeout(ms, promise) {\r\n        return new Promise(function (resolve, reject) {\r\n            setTimeout(function () {\r\n                reject(new Error('timeout'))\r\n            }, ms)\r\n            promise.then(resolve, reject)\r\n        })\r\n    }\r\n\r\n    if (Array.isArray(probingAddresses)) {\r\n        for (let i = 0; i < probingAddresses.length; i++) {\r\n\r\n            let rootUrl = probingAddresses[i];\r\n\r\n            if (!rootUrl.endsWith('/')) {\r\n                rootUrl = `${rootUrl}/`;\r\n            }\r\n\r\n            try {\r\n                let response = await timeout(1000, fetch(`${rootUrl}discovery`, {\r\n                    method: 'POST',\r\n                    cache: 'no-cache',\r\n                    mode: 'cors',\r\n                    timeout: 1000,\r\n                    headers: {\r\n                        'Content-Type': 'text/plain'\r\n                    },\r\n                    body: probingAddresses[i]\r\n                }));\r\n\r\n                if (response.status == 200) {\r\n                    return rootUrl;\r\n                }\r\n            }\r\n            catch (e) { }\r\n        }\r\n    }\r\n}\r\n\r\nfunction loadDotnetInteractiveApi() {\r\n    probeAddresses([\"http://192.168.1.46:1002/\", \"http://192.168.56.1:1002/\", \"http://192.168.99.1:1002/\", \"http://127.0.0.1:1002/\"])\r\n        .then((root) => {\r\n            // use probing to find host url and api resources\r\n            // load interactive helpers and language services\r\n            let dotnetInteractiveRequire = require.config({\r\n                context: '6712.f854ace4ef544a49adc7f2bedc084913',\r\n                paths: {\r\n                    'dotnet-interactive': `${root}resources`\r\n                }\r\n            }) || require;\r\n\r\n            let dotnetInteractiveExtensionsRequire = require.config({\r\n                context: '6712.f854ace4ef544a49adc7f2bedc084913',\r\n                paths: {\r\n                    'dotnet-interactive-extensions': `${root}extensions`\r\n                }\r\n            }) || require;\r\n\r\n            if (!window.dotnetInteractiveRequire) {\r\n                window.dotnetInteractiveRequire = dotnetInteractiveRequire;\r\n            }\r\n\r\n            if (!window.dotnetInteractiveExtensionsRequire) {\r\n                window.dotnetInteractiveExtensionsRequire = dotnetInteractiveExtensionsRequire;\r\n            }\r\n\r\n            window.getExtensionRequire = function(extensionName, extensionCacheBuster) {\r\n                let paths = {};\r\n                paths[extensionName] = `${root}extensions/${extensionName}/resources/`;\r\n                \r\n                let internalRequire = require.config({\r\n                    context: extensionCacheBuster,\r\n                    paths: paths,\r\n                    urlArgs: `cacheBuster=${extensionCacheBuster}`\r\n                    }) || require;\r\n\r\n                return internalRequire\r\n            };\r\n        \r\n            dotnetInteractiveRequire([\r\n                    'dotnet-interactive/dotnet-interactive'\r\n                ],\r\n                function (dotnet) {\r\n                    dotnet.init(window);\r\n                },\r\n                function (error) {\r\n                    console.log(error);\r\n                }\r\n            );\r\n        })\r\n        .catch(error => {console.log(error);});\r\n    }\r\n    </script>\r\n</div>"
          },
          "metadata": {},
          "output_type": "display_data"
        },
        {
          "data": {
            "text/plain": "Installed package MathNet.Numerics.FSharp version 4.15.0"
          },
          "metadata": {},
          "output_type": "display_data"
        }
      ],
      "source": [
        "#r \"nuget: MathNet.Numerics.FSharp, 4.15.0\"\n",
        "\n",
        "open MathNet.Numerics.LinearAlgebra"
      ]
    },
    {
      "cell_type": "markdown",
      "metadata": {},
      "source": [
        "## 1.1 Постановка задачи\n",
        "1) Решить две системы (одну с “точной” правой частью, вторую с изменённой)  \n",
        "2) Найти число обусловленности исходной матрицы  \n",
        "3) Посчитать фактическую погрешность и оценку погрешности"
      ]
    },
    {
      "cell_type": "markdown",
      "metadata": {},
      "source": [
        "### Вариант 9"
      ]
    },
    {
      "cell_type": "code",
      "execution_count": 2,
      "metadata": {
        "dotnet_interactive": {
          "language": "fsharp"
        }
      },
      "outputs": [],
      "source": [
        "let a = matrix [\r\n",
        "    [-401.64; 200.12]\r\n",
        "    [1200.72; -601.76]\r\n",
        "]\r\n",
        "\r\n",
        "let bAccurate = vector [200.; -600.]\r\n",
        "let bAltered = vector [199.; -601.]\r\n",
        "\r\n",
        "let deltaA = DenseMatrix.zero<float> 2 2\r\n",
        "let deltaB = bAltered - bAccurate"
      ]
    },
    {
      "cell_type": "markdown",
      "metadata": {},
      "source": [
        "### Решение"
      ]
    },
    {
      "cell_type": "code",
      "execution_count": 3,
      "metadata": {
        "dotnet_interactive": {
          "language": "fsharp"
        }
      },
      "outputs": [],
      "source": [
        "let conditionNumber (matrix: Matrix<'a>) = \r\n",
        "    matrix.Inverse().L2Norm() * matrix.L2Norm()\r\n",
        "\r\n",
        "let solutionAccurate = a.Solve bAccurate\r\n",
        "let solutionAltered = a.Solve bAltered\r\n",
        "\r\n",
        "let condA = conditionNumber a\r\n",
        "\r\n",
        "let errorFact = (solutionAltered - solutionAccurate).L2Norm() / solutionAccurate.L2Norm()\r\n",
        "let errorEstimation = \r\n",
        "    condA / (1. - condA * deltaA.L2Norm() / a.L2Norm()) * \r\n",
        "    (deltaB.L2Norm() / bAccurate.L2Norm() + deltaA.L2Norm() / a.L2Norm())\r\n",
        "\r\n",
        "// printfn \"Решение с точной правой частью: %A\" solutionAccurate \r\n",
        "// printfn \"Решение с изменённой правой частью: %A\" solutionAltered\r\n",
        "// printfn \"Число обусловенности: %A\" condA\r\n",
        "// printfn \"Фактическая погрешность: %A\" errorFact\r\n",
        "// printfn \"Оценка погрешности: %A\" errorEstimation"
      ]
    },
    {
      "cell_type": "markdown",
      "metadata": {},
      "source": [
        "## 1.2 Постановка задачи\n",
        "1) Реализовать метод Гаусса с выбором главного элемента для решения СЛАУ  \n",
        "2) Реализовать метод Жордана для нахождения обратной матрицы  \n",
        "3) Реализовать метод LU-разложения для нахождения определителя матрицы"
      ]
    },
    {
      "cell_type": "markdown",
      "metadata": {},
      "source": [
        "### Вариант 9"
      ]
    },
    {
      "cell_type": "code",
      "execution_count": 4,
      "metadata": {
        "dotnet_interactive": {
          "language": "fsharp"
        }
      },
      "outputs": [],
      "source": [
        "let a = matrix [\n",
        "    [12.78572; 1.534675; -3.947418]\n",
        "    [1.534675; 9.709232; 0.918435]\n",
        "    [-3.947418; 0.918435; 7.703946]\n",
        "]\n",
        "\n",
        "let b = vector [9.60565; 7.30777; 4.21575]"
      ]
    },
    {
      "cell_type": "markdown",
      "metadata": {},
      "source": [
        "### Метод Гаусса в выбором главных компонент"
      ]
    },
    {
      "cell_type": "code",
      "execution_count": 5,
      "metadata": {
        "dotnet_interactive": {
          "language": "fsharp"
        }
      },
      "outputs": [],
      "source": [
        "let solveGauss (matrix: Matrix<float>) (freeVector: Vector<float>) = \r\n",
        "    let n = matrix.RowCount\r\n",
        "    let extendedMatrix = matrix |> Matrix.appendCol freeVector\r\n",
        "    for k = 0 to n - 1 do\r\n",
        "        let temp = extendedMatrix.[k, k]\r\n",
        "        if abs temp > 1e-16 then\r\n",
        "            for j = k + 1 to n do\r\n",
        "                extendedMatrix.[k, j] <- extendedMatrix.[k, j] / temp\r\n",
        "        for i = k + 1 to n - 1 do\r\n",
        "            let temp = extendedMatrix.[i, k]\r\n",
        "            for j = k to n do\r\n",
        "                extendedMatrix.[i, j] <- extendedMatrix.[i, j] - extendedMatrix.[k, j] * temp \r\n",
        "\r\n",
        "    let solution = DenseVector.zero<float> n\r\n",
        "    for i = n - 1 downto 0 do\r\n",
        "        let mutable sum = 0.\r\n",
        "        for j = i + 1 to n - 1 do\r\n",
        "            sum <- sum + extendedMatrix.[i, j] * solution.[j]\r\n",
        "        solution.[i] <- extendedMatrix.[i, n] - sum\r\n",
        "\r\n",
        "    solution   "
      ]
    },
    {
      "cell_type": "code",
      "execution_count": 6,
      "metadata": {
        "dotnet_interactive": {
          "language": "fsharp"
        }
      },
      "outputs": [],
      "source": [
        "// let solution = solveGauss a b\r\n",
        "// printfn \"Решение системы методом Гаусса: %A\" solution\r\n",
        "// printfn \"Компоненты вектора невязки R = b - Ax: %s\" <| (b - a * solution).ToString(\"N18\")"
      ]
    },
    {
      "cell_type": "markdown",
      "metadata": {},
      "source": [
        "### Метод Жордана для нахождения обратной матрицы"
      ]
    },
    {
      "cell_type": "code",
      "execution_count": 7,
      "metadata": {
        "dotnet_interactive": {
          "language": "fsharp"
        }
      },
      "outputs": [],
      "source": [
        "let inverseJordan (matrix: Matrix<float>) = \r\n",
        "    let n = matrix.RowCount\r\n",
        "    let extendedMatrix = matrix.Append <| DenseMatrix.identity n\r\n",
        "    for k = 0 to n - 1 do\r\n",
        "        let temp = extendedMatrix.[k, k]\r\n",
        "        if abs temp > 1e-16 then\r\n",
        "            for j = k + 1 to 2 * n - 1 do\r\n",
        "                extendedMatrix.[k, j] <- extendedMatrix.[k, j] / temp\r\n",
        "        for i in [0 .. k - 1] @ [k + 1 .. n - 1] do\r\n",
        "            let temp = extendedMatrix.[i, k]\r\n",
        "            for j = k to 2 * n - 1 do\r\n",
        "                extendedMatrix.[i, j] <- extendedMatrix.[i, j] - extendedMatrix.[k, j] * temp   \r\n",
        "    \r\n",
        "    extendedMatrix.[*, n .. 2 * n - 1]"
      ]
    },
    {
      "cell_type": "code",
      "execution_count": 8,
      "metadata": {
        "dotnet_interactive": {
          "language": "fsharp"
        }
      },
      "outputs": [],
      "source": [
        "// let inversed = inverseJordan a\r\n",
        "// printfn \"Обратная матрица: %A\" <| a.Inverse()\r\n",
        "// printfn \"Обратная матрица методом Жордана: %A\" inversed\r\n",
        "// printfn \"Компоненты матрицы невязки: %s\" <| (a.Inverse() - inversed).ToString(\"N18\")\r\n"
      ]
    },
    {
      "cell_type": "markdown",
      "metadata": {},
      "source": [
        "### Метод LU-разложения для нахождения определителя матрицы"
      ]
    },
    {
      "cell_type": "code",
      "execution_count": 9,
      "metadata": {
        "dotnet_interactive": {
          "language": "fsharp"
        }
      },
      "outputs": [],
      "source": [
        "let detLU (matrix: Matrix<float>) = \r\n",
        "    let n = matrix.RowCount\r\n",
        "    let l = DenseMatrix.zero<float> n n\r\n",
        "    let u = DenseMatrix.zero<float> n n\r\n",
        "\r\n",
        "    for i = 0 to n - 1 do\r\n",
        "        for j = i to n - 1 do\r\n",
        "            let mutable sum = 0.\r\n",
        "            for k = 0 to i - 1 do\r\n",
        "                sum <- sum + l.[j, k] * u.[k, i]\r\n",
        "            l.[j, i] <- matrix.[j, i] - sum\r\n",
        "\r\n",
        "        for j = i to n - 1 do\r\n",
        "            let mutable sum = 0.\r\n",
        "            for k = 0 to i - 1 do\r\n",
        "                sum <- sum + l.[i, k] * u.[k, j]\r\n",
        "            u.[i, j] <- (matrix.[i, j] - sum) / l.[i, i]\r\n",
        "\r\n",
        "    l.Diagonal() |> Seq.reduce (*)\r\n"
      ]
    },
    {
      "cell_type": "code",
      "execution_count": 11,
      "metadata": {
        "dotnet_interactive": {
          "language": "fsharp"
        }
      },
      "outputs": [
        {
          "name": "stdout",
          "output_type": "stream",
          "text": [
            "Определитель матрицы: 765.0165055\n",
            "Определитель матрицы с помощью LU-разложения: 765.0165055\n"
          ]
        }
      ],
      "source": [
        "printfn \"Определитель матрицы: %A\" <| a.Determinant()\r\n",
        "printfn \"Определитель матрицы с помощью LU-разложения: %A\" <| detLU a"
      ]
    }
  ],
  "metadata": {
    "kernelspec": {
      "display_name": ".NET (C#)",
      "language": "C#",
      "name": ".net-csharp"
    },
    "language_info": {
      "file_extension": ".cs",
      "mimetype": "text/x-csharp",
      "name": "C#",
      "pygments_lexer": "csharp",
      "version": "9.0"
    }
  },
  "nbformat": 4,
  "nbformat_minor": 4
}