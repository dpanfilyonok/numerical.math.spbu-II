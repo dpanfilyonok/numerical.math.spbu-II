{
 "cells": [
  {
   "cell_type": "code",
   "execution_count": 50,
   "metadata": {
    "dotnet_interactive": {
     "language": "fsharp"
    }
   },
   "outputs": [],
   "source": [
    "#r \"nuget: MathNet.Numerics.FSharp, 4.15.0\"\r\n",
    "\r\n",
    "open MathNet.Numerics.LinearAlgebra"
   ]
  },
  {
   "cell_type": "markdown",
   "metadata": {},
   "source": [
    "# Итерационные методы решения линейных систем. \r\n",
    "## Варинат 9"
   ]
  },
  {
   "cell_type": "code",
   "execution_count": 51,
   "metadata": {
    "dotnet_interactive": {
     "language": "fsharp"
    }
   },
   "outputs": [],
   "source": [
    "let a = matrix [\r\n",
    "    [12.78572; 1.534675; -3.947418]\r\n",
    "    [1.534675; 9.709232; 0.918435]\r\n",
    "    [-3.947418; 0.918435; 7.703946]\r\n",
    "]\r\n",
    "\r\n",
    "let b = vector [9.60565; 7.30777; 4.21575]"
   ]
  },
  {
   "cell_type": "code",
   "execution_count": 52,
   "metadata": {
    "dotnet_interactive": {
     "language": "fsharp"
    }
   },
   "outputs": [
    {
     "name": "stdout",
     "output_type": "stream",
     "text": [
      "Точное решение СЛАУ: seq [1.00000036; 0.5000044523; 1.000000238]\n"
     ]
    }
   ],
   "source": [
    "let accurateSolution = a.Solve b\r\n",
    "\r\n",
    "printfn \"Точное решение СЛАУ: %A\" accurateSolution"
   ]
  },
  {
   "cell_type": "markdown",
   "metadata": {},
   "source": [
    "**Задание 2.** Преобразовать исходную систему к системе вида x = H * x + g, где H = E − D^(−1) * A, g = D^(−1) * b. Здесь D - диагональная матрица, у которой на диагонали находятся диагональные элементы матрицы A. Вычислить ||H||∞."
   ]
  },
  {
   "cell_type": "code",
   "execution_count": 53,
   "metadata": {
    "dotnet_interactive": {
     "language": "fsharp"
    }
   },
   "outputs": [],
   "source": [
    "let transform (matrix: Matrix<float>) (freeVector: Vector<float>) = \r\n",
    "    let n = matrix.RowCount \r\n",
    "\r\n",
    "    // H = E - D^(-1) * A   \r\n",
    "    let h = DenseMatrix.init n n (fun i j -> if i = j then 0. else - matrix.[i, j] / matrix.[i, i])\r\n",
    "       \r\n",
    "    // g = D ^ (-1) * b     \r\n",
    "    let g = DenseVector.init n (fun i -> freeVector.[i] / matrix.[i, i])\r\n",
    "\r\n",
    "    h, g"
   ]
  },
  {
   "cell_type": "code",
   "execution_count": 54,
   "metadata": {
    "dotnet_interactive": {
     "language": "fsharp"
    }
   },
   "outputs": [
    {
     "name": "stdout",
     "output_type": "stream",
     "text": [
      "Матрица H = DenseMatrix 3x3-Double\n",
      "        0   -0,12003   0,308736\n",
      "-0,158063          0  -0,094594\n",
      " 0,512389  -0,119216          0\n",
      "\n",
      "Вектор g = DenseVector 3-Double\n",
      " 0,75128\n",
      "0,752662\n",
      " 0,54722\n",
      "\n",
      "||H||_inf = 0.631605\n"
     ]
    }
   ],
   "source": [
    "let (h, g) = transform a b\r\n",
    "\r\n",
    "printfn \"Матрица H = %O\" h\r\n",
    "printfn \"Вектор g = %O\" g\r\n",
    "printfn \"||H||_inf = %f\" <| h.InfinityNorm()"
   ]
  },
  {
   "cell_type": "markdown",
   "metadata": {
    "dotnet_interactive": {
     "language": "fsharp"
    }
   },
   "source": [
    "**Задание 3.** Найти априорную оценку того k, при котором ||x∗ − xk||∞ < ε, ε = 0.001"
   ]
  },
  {
   "cell_type": "code",
   "execution_count": 55,
   "metadata": {
    "dotnet_interactive": {
     "language": "fsharp"
    }
   },
   "outputs": [],
   "source": [
    "let epsilon = 0.001\r\n",
    "\r\n",
    "let calculatePrioriEstimation (h: Matrix<float>) (g: Vector<float>) (firstEstiomation: Vector<float>) iterationsCount =\r\n",
    "    h.InfinityNorm() ** (float iterationsCount) * firstEstiomation.InfinityNorm() +  \r\n",
    "    h.InfinityNorm() ** (float iterationsCount) / (1. - h.InfinityNorm()) * g.InfinityNorm()\r\n",
    "\r\n",
    "let getIterationsCount accuracy (h: Matrix<float>) (g: Vector<float>) (firstEstiomation: Vector<float>)  = \r\n",
    "    let mutable iterationsCount = 1\r\n",
    "    while calculatePrioriEstimation h g firstEstiomation iterationsCount >= accuracy do \r\n",
    "        iterationsCount <- iterationsCount + 1\r\n",
    "\r\n",
    "    int iterationsCount"
   ]
  },
  {
   "cell_type": "code",
   "execution_count": 56,
   "metadata": {
    "dotnet_interactive": {
     "language": "fsharp"
    }
   },
   "outputs": [
    {
     "name": "stdout",
     "output_type": "stream",
     "text": [
      "Для получения решения с априорной оценкой 0.000828 (< 0.001000) необходимо 17 итераций\n"
     ]
    }
   ],
   "source": [
    "let firstEstimation = DenseVector.zero<float> h.RowCount\r\n",
    "\r\n",
    "let approximateIterationCount = getIterationsCount epsilon h g firstEstimation\r\n",
    "let prioriEstimation = calculatePrioriEstimation h g firstEstimation approximateIterationCount\r\n",
    "printfn \"Для получения решения с априорной оценкой %f (< %f) необходимо %i итераций\"\r\n",
    "    <| prioriEstimation\r\n",
    "    <| epsilon\r\n",
    "    <| approximateIterationCount"
   ]
  },
  {
   "cell_type": "markdown",
   "metadata": {},
   "source": [
    "**Задание 4.** Вычислить решение методом простой итерации с точностью ε = 0.001. Сравнить требуемое фактическое число итераций с априорным значением k. Вывести фактическую погрешность, апостериорную оценку, априорную оценку. Уточнить последнее приближение по Люстернику. Вывести его фактическую погрешность."
   ]
  },
  {
   "cell_type": "code",
   "execution_count": 57,
   "metadata": {
    "dotnet_interactive": {
     "language": "fsharp"
    }
   },
   "outputs": [],
   "source": [
    "let getMaxEigenValue (matrix: Matrix<float>) = \r\n",
    "    matrix.Evd().EigenValues.AbsoluteMaximum().Magnitude\r\n",
    "\r\n",
    "// Достаточное условие сходимости: ||H|| < 1\r\n",
    "// Необходимое и достаточное условие сходимости: ρ(H) < 1\r\n",
    "let solveIterative accuracy (h: Matrix<float>) (g: Vector<float>) step = \r\n",
    "    let mutable previousEstimation = firstEstimation\r\n",
    "    let mutable currentEstimation: Vector<float> = step h g previousEstimation\r\n",
    "    let mutable iterationCount = 1\r\n",
    "\r\n",
    "    let calculatePosteriorEstimation (previousEstimation: Vector<float>) (currentEstimation: Vector<float>) = \r\n",
    "        h.InfinityNorm() / (1. - h.InfinityNorm()) * (currentEstimation - previousEstimation).InfinityNorm()\r\n",
    "\r\n",
    "    while calculatePosteriorEstimation previousEstimation currentEstimation >= accuracy do\r\n",
    "        previousEstimation <- currentEstimation\r\n",
    "        currentEstimation <- step h g currentEstimation\r\n",
    "        iterationCount <- iterationCount + 1\r\n",
    "\r\n",
    "    let optimizeLusternik (previousEstimation: Vector<float>) (currentEstimation: Vector<float>) = \r\n",
    "        let maxEigen = getMaxEigenValue h\r\n",
    "        if maxEigen > 1. then\r\n",
    "            currentEstimation\r\n",
    "        else \r\n",
    "            previousEstimation + (1. / (1. - maxEigen)) * (currentEstimation - previousEstimation)\r\n",
    "    \r\n",
    "    currentEstimation,  \r\n",
    "    {|\r\n",
    "        FactIterationCount = iterationCount\r\n",
    "        PosteriorEstimation = calculatePosteriorEstimation previousEstimation currentEstimation\r\n",
    "        LusternikOptimization = optimizeLusternik previousEstimation currentEstimation\r\n",
    "    |} "
   ]
  },
  {
   "cell_type": "code",
   "execution_count": 58,
   "metadata": {
    "dotnet_interactive": {
     "language": "fsharp"
    }
   },
   "outputs": [],
   "source": [
    "let solveSimpleIteration accuracy (h: Matrix<float>) (g: Vector<float>) =\r\n",
    "    solveIterative accuracy h g <| fun (h: Matrix<float>) (g: Vector<float>) (previousX: Vector<float>) ->\r\n",
    "        h * previousX + g"
   ]
  },
  {
   "cell_type": "code",
   "execution_count": 59,
   "metadata": {
    "dotnet_interactive": {
     "language": "fsharp"
    }
   },
   "outputs": [
    {
     "name": "stdout",
     "output_type": "stream",
     "text": [
      "Решение системы методом простой итерации: DenseVector 3-Double\n",
      "0,999681\n",
      "0,500186\n",
      "0,999633\n",
      "\n",
      "Априорное число итераций: 17\n",
      "Фактическое число итераций: 10\n",
      "Фактическая погрешность решения: 0,0003668999994144162\n",
      "Априорная оценка решения: 0,0008276837452870448\n",
      "Апостериорная оценка решения: 0,000880313980431832\n",
      "Решение с уточнением по Люстернику: DenseVector 3-Double\n",
      "0,999941\n",
      "0,499999\n",
      " 1,00007\n",
      "\n",
      "Фактическая погрешность решения по Люстернику: 7,435848701287107E-05\n"
     ]
    }
   ],
   "source": [
    "let (solutionSimpleIteration, infoSimpleIteration) = solveSimpleIteration epsilon h g\r\n",
    "printfn \"Решение системы методом простой итерации: %O\" solutionSimpleIteration\r\n",
    "printfn \"Априорное число итераций: %O\" approximateIterationCount\r\n",
    "printfn \"Фактическое число итераций: %O\" infoSimpleIteration.FactIterationCount\r\n",
    "printfn \"Фактическая погрешность решения: %O\" <| (solutionSimpleIteration - accurateSolution).InfinityNorm()\r\n",
    "printfn \"Априорная оценка решения: %O\" prioriEstimation\r\n",
    "printfn \"Апостериорная оценка решения: %O\" infoSimpleIteration.PosteriorEstimation\r\n",
    "printfn \"Решение с уточнением по Люстернику: %O\" infoSimpleIteration.LusternikOptimization\r\n",
    "printfn \"Фактическая погрешность решения по Люстернику: %O\" <| (infoSimpleIteration.LusternikOptimization - accurateSolution).InfinityNorm()"
   ]
  },
  {
   "cell_type": "markdown",
   "metadata": {},
   "source": [
    "**Задание 5.** Вычислить решение систем методом Зейделя с точностью ε = 0.001."
   ]
  },
  {
   "cell_type": "code",
   "execution_count": 60,
   "metadata": {
    "dotnet_interactive": {
     "language": "fsharp"
    }
   },
   "outputs": [],
   "source": [
    "let solveSeidel accuracy (h: Matrix<float>) (g: Vector<float>) =\r\n",
    "    solveIterative accuracy h g <| fun (h: Matrix<float>) (g: Vector<float>) (previousX: Vector<float>) ->\r\n",
    "        let x = DenseVector.zero<float> previousX.Count\r\n",
    "        for i = 0 to x.Count - 1 do\r\n",
    "            x.[i] <- h.[i, *] * x.[0 .. i - 1].ToColumnMatrix().Stack(previousX.[i .. x.Count - 1].ToColumnMatrix()).Column(0) + g.[i]\r\n",
    "        x"
   ]
  },
  {
   "cell_type": "code",
   "execution_count": 61,
   "metadata": {
    "dotnet_interactive": {
     "language": "fsharp"
    }
   },
   "outputs": [
    {
     "name": "stdout",
     "output_type": "stream",
     "text": [
      "Решение системы методом простой итерации: DenseVector 3-Double\n",
      "0,999859\n",
      "0,500061\n",
      "0,999921\n",
      "\n",
      "Априорное число итераций: 17\n",
      "Фактическое число итераций: 6\n",
      "Фактическая погрешность решения: 0,00014160843960953073\n",
      "Априорная оценка решения: 0,0008276837452870448\n",
      "Апостериорная оценка решения: 0,0008576139159981784\n",
      "Решение с уточнением по Люстернику: DenseVector 3-Double\n",
      "1,00029\n",
      "0,49989\n",
      "1,00016\n",
      "\n",
      "Фактическая погрешность решения по Люстернику: 0,0002882716110590433\n"
     ]
    }
   ],
   "source": [
    "let (solutionSeidel, infoSeidel) = solveSeidel epsilon h g\r\n",
    "printfn \"Решение системы методом простой итерации: %O\" solutionSeidel\r\n",
    "printfn \"Априорное число итераций: %O\" approximateIterationCount\r\n",
    "printfn \"Фактическое число итераций: %O\" infoSeidel.FactIterationCount\r\n",
    "printfn \"Фактическая погрешность решения: %O\" <| (solutionSeidel - accurateSolution).InfinityNorm()\r\n",
    "printfn \"Априорная оценка решения: %O\" prioriEstimation\r\n",
    "printfn \"Апостериорная оценка решения: %O\" infoSeidel.PosteriorEstimation\r\n",
    "printfn \"Решение с уточнением по Люстернику: %O\" infoSeidel.LusternikOptimization\r\n",
    "printfn \"Фактическая погрешность решения по Люстернику: %O\" <| (infoSeidel.LusternikOptimization - accurateSolution).InfinityNorm()"
   ]
  },
  {
   "cell_type": "markdown",
   "metadata": {},
   "source": [
    "**Задание 7.** Получить решение системы Ax = b методом верхней релаксации с точностью ε = 0.001. В качестве критерия использовать фактическую погрешность."
   ]
  },
  {
   "cell_type": "code",
   "execution_count": 62,
   "metadata": {
    "dotnet_interactive": {
     "language": "fsharp"
    }
   },
   "outputs": [],
   "source": [
    "// Метод будет сходиться, если матрица самосопряженная, положительно-определенная и кроме того 0 < q < 2.\r\n",
    "let solveUpperRelaxation accuracy (h: Matrix<float>) (g: Vector<float>) =\r\n",
    "    let q = 2. / (1. + sqrt (1. - (getMaxEigenValue h) ** 2.)) \r\n",
    "    \r\n",
    "    solveIterative accuracy h g <| fun (h: Matrix<float>) (g: Vector<float>) (previousX: Vector<float>) ->\r\n",
    "        let x = DenseVector.zero<float> previousX.Count\r\n",
    "        for i = 0 to x.Count - 1 do\r\n",
    "            x.[i] <- \r\n",
    "                previousX.[i] + \r\n",
    "                q * (h.[i, 0 .. i - 1] * x.[0 .. i - 1] + \r\n",
    "                    h.[i, i + 1 .. x.Count - 1] * previousX.[i + 1 .. x.Count - 1] - \r\n",
    "                    previousX.[i] + g.[i])\r\n",
    "        x"
   ]
  },
  {
   "cell_type": "code",
   "execution_count": 63,
   "metadata": {
    "dotnet_interactive": {
     "language": "fsharp"
    }
   },
   "outputs": [
    {
     "name": "stdout",
     "output_type": "stream",
     "text": [
      "Решение системы методом простой итерации: DenseVector 3-Double\n",
      "0,999969\n",
      "0,500021\n",
      "0,999989\n",
      "\n",
      "Априорное число итераций: 17\n",
      "Фактическое число итераций: 5\n",
      "Фактическая погрешность решения: 3,1450158422541286E-05\n",
      "Априорная оценка решения: 0,0008276837452870448\n",
      "Апостериорная оценка решения: 0,0005429939199840995\n",
      "Решение с уточнением по Люстернику: DenseVector 3-Double\n",
      "1,00024\n",
      "0,49999\n",
      " 1,0001\n",
      "\n",
      "Фактическая погрешность решения по Люстернику: 0,00024072622477411265\n"
     ]
    }
   ],
   "source": [
    "let (solutionUpperRelaxation, infoUpperRelaxation) = solveUpperRelaxation epsilon h g\r\n",
    "printfn \"Решение системы методом простой итерации: %O\" solutionUpperRelaxation\r\n",
    "printfn \"Априорное число итераций: %O\" approximateIterationCount\r\n",
    "printfn \"Фактическое число итераций: %O\" infoUpperRelaxation.FactIterationCount\r\n",
    "printfn \"Фактическая погрешность решения: %O\" <| (solutionUpperRelaxation - accurateSolution).InfinityNorm()\r\n",
    "printfn \"Априорная оценка решения: %O\" prioriEstimation\r\n",
    "printfn \"Апостериорная оценка решения: %O\" infoUpperRelaxation.PosteriorEstimation\r\n",
    "printfn \"Решение с уточнением по Люстернику: %O\" infoUpperRelaxation.LusternikOptimization\r\n",
    "printfn \"Фактическая погрешность решения по Люстернику: %O\" <| (infoUpperRelaxation.LusternikOptimization - accurateSolution).InfinityNorm()"
   ]
  }
 ],
 "metadata": {
  "kernelspec": {
   "display_name": ".NET (F#)",
   "language": "F#",
   "name": ".net-fsharp"
  },
  "language_info": {
   "file_extension": ".fs",
   "mimetype": "text/x-fsharp",
   "name": "C#",
   "pygments_lexer": "fsharp",
   "version": "4.5"
  },
  "orig_nbformat": 3
 },
 "nbformat": 4,
 "nbformat_minor": 2
}