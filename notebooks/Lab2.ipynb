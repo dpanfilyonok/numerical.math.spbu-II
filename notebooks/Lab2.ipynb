{
 "cells": [
  {
   "cell_type": "code",
   "execution_count": 1,
   "metadata": {
    "dotnet_interactive": {
     "language": "fsharp"
    }
   },
   "outputs": [
    {
     "data": {
      "text/html": "\r\n<div>\r\n    <div id='dotnet-interactive-this-cell-6976.c2e1ff374a864defa49bd3dd2749a1bb' style='display: none'>\r\n        The below script needs to be able to find the current output cell; this is an easy method to get it.\r\n    </div>\r\n    <script type='text/javascript'>\r\n// ensure `require` is available globally\r\nif (typeof require !== typeof Function || typeof require.config !== typeof Function) {\r\n    let require_script = document.createElement('script');\r\n    require_script.setAttribute('src', 'https://cdnjs.cloudflare.com/ajax/libs/require.js/2.3.6/require.min.js');\r\n    require_script.setAttribute('type', 'text/javascript');\r\n    require_script.onload = function () {\r\n        loadDotnetInteractiveApi();\r\n    };\r\n\r\n    document.getElementsByTagName('head')[0].appendChild(require_script);\r\n}\r\nelse {\r\n    loadDotnetInteractiveApi();\r\n}\r\n\r\nasync function probeAddresses(probingAddresses) {\r\n    function timeout(ms, promise) {\r\n        return new Promise(function (resolve, reject) {\r\n            setTimeout(function () {\r\n                reject(new Error('timeout'))\r\n            }, ms)\r\n            promise.then(resolve, reject)\r\n        })\r\n    }\r\n\r\n    if (Array.isArray(probingAddresses)) {\r\n        for (let i = 0; i < probingAddresses.length; i++) {\r\n\r\n            let rootUrl = probingAddresses[i];\r\n\r\n            if (!rootUrl.endsWith('/')) {\r\n                rootUrl = `${rootUrl}/`;\r\n            }\r\n\r\n            try {\r\n                let response = await timeout(1000, fetch(`${rootUrl}discovery`, {\r\n                    method: 'POST',\r\n                    cache: 'no-cache',\r\n                    mode: 'cors',\r\n                    timeout: 1000,\r\n                    headers: {\r\n                        'Content-Type': 'text/plain'\r\n                    },\r\n                    body: probingAddresses[i]\r\n                }));\r\n\r\n                if (response.status == 200) {\r\n                    return rootUrl;\r\n                }\r\n            }\r\n            catch (e) { }\r\n        }\r\n    }\r\n}\r\n\r\nfunction loadDotnetInteractiveApi() {\r\n    probeAddresses([\"http://192.168.1.46:1006/\", \"http://192.168.56.1:1006/\", \"http://192.168.99.1:1006/\", \"http://127.0.0.1:1006/\"])\r\n        .then((root) => {\r\n            // use probing to find host url and api resources\r\n            // load interactive helpers and language services\r\n            let dotnetInteractiveRequire = require.config({\r\n                context: '6976.c2e1ff374a864defa49bd3dd2749a1bb',\r\n                paths: {\r\n                    'dotnet-interactive': `${root}resources`\r\n                }\r\n            }) || require;\r\n\r\n            let dotnetInteractiveExtensionsRequire = require.config({\r\n                context: '6976.c2e1ff374a864defa49bd3dd2749a1bb',\r\n                paths: {\r\n                    'dotnet-interactive-extensions': `${root}extensions`\r\n                }\r\n            }) || require;\r\n\r\n            if (!window.dotnetInteractiveRequire) {\r\n                window.dotnetInteractiveRequire = dotnetInteractiveRequire;\r\n            }\r\n\r\n            if (!window.dotnetInteractiveExtensionsRequire) {\r\n                window.dotnetInteractiveExtensionsRequire = dotnetInteractiveExtensionsRequire;\r\n            }\r\n\r\n            window.getExtensionRequire = function(extensionName, extensionCacheBuster) {\r\n                let paths = {};\r\n                paths[extensionName] = `${root}extensions/${extensionName}/resources/`;\r\n                \r\n                let internalRequire = require.config({\r\n                    context: extensionCacheBuster,\r\n                    paths: paths,\r\n                    urlArgs: `cacheBuster=${extensionCacheBuster}`\r\n                    }) || require;\r\n\r\n                return internalRequire\r\n            };\r\n        \r\n            dotnetInteractiveRequire([\r\n                    'dotnet-interactive/dotnet-interactive'\r\n                ],\r\n                function (dotnet) {\r\n                    dotnet.init(window);\r\n                },\r\n                function (error) {\r\n                    console.log(error);\r\n                }\r\n            );\r\n        })\r\n        .catch(error => {console.log(error);});\r\n    }\r\n    </script>\r\n</div>"
     },
     "metadata": {},
     "output_type": "display_data"
    },
    {
     "data": {
      "text/plain": "Installed package MathNet.Numerics.FSharp version 4.15.0"
     },
     "metadata": {},
     "output_type": "display_data"
    }
   ],
   "source": [
    "#r \"nuget: MathNet.Numerics.FSharp, 4.15.0\"\r\n",
    "\r\n",
    "open MathNet.Numerics.LinearAlgebra"
   ]
  },
  {
   "cell_type": "markdown",
   "metadata": {},
   "source": [
    "## Варинат 9"
   ]
  },
  {
   "cell_type": "code",
   "execution_count": 2,
   "metadata": {
    "dotnet_interactive": {
     "language": "fsharp"
    }
   },
   "outputs": [],
   "source": [
    "let a = matrix [\r\n",
    "    [-401.64; 200.12]\r\n",
    "    [1200.72; -601.76]\r\n",
    "]\r\n",
    "\r\n",
    "let b = vector [200.; -600.]"
   ]
  },
  {
   "cell_type": "markdown",
   "metadata": {},
   "source": [
    "1) Найти решение методом Гаусса"
   ]
  },
  {
   "cell_type": "code",
   "execution_count": 3,
   "metadata": {
    "dotnet_interactive": {
     "language": "fsharp"
    }
   },
   "outputs": [],
   "source": [
    "let solveGauss (matrix: Matrix<float>) (freeVector: Vector<float>) = \r\n",
    "    let n = matrix.RowCount\r\n",
    "    let extendedMatrix = matrix |> Matrix.appendCol freeVector\r\n",
    "    for k = 0 to n - 1 do\r\n",
    "        let temp = extendedMatrix.[k, k]\r\n",
    "        if abs temp > 1e-16 then\r\n",
    "            for j = k + 1 to n do\r\n",
    "                extendedMatrix.[k, j] <- extendedMatrix.[k, j] / temp\r\n",
    "        for i = k + 1 to n - 1 do\r\n",
    "            let temp = extendedMatrix.[i, k]\r\n",
    "            for j = k to n do\r\n",
    "                extendedMatrix.[i, j] <- extendedMatrix.[i, j] - extendedMatrix.[k, j] * temp \r\n",
    "\r\n",
    "    let solution = DenseVector.zero<float> n\r\n",
    "    for i = n - 1 downto 0 do\r\n",
    "        let mutable sum = 0.\r\n",
    "        for j = i + 1 to n - 1 do\r\n",
    "            sum <- sum + extendedMatrix.[i, j] * solution.[j]\r\n",
    "        solution.[i] <- extendedMatrix.[i, n] - sum\r\n",
    "\r\n",
    "    solution  "
   ]
  },
  {
   "cell_type": "code",
   "execution_count": 4,
   "metadata": {
    "dotnet_interactive": {
     "language": "fsharp"
    }
   },
   "outputs": [
    {
     "name": "stdout",
     "output_type": "stream",
     "text": [
      "Решение системы методом Гаусса: seq [-0.1996007984; 0.5988023952]\n"
     ]
    }
   ],
   "source": [
    "let solution = solveGauss a b\r\n",
    "printfn \"Решение системы методом Гаусса: %A\" solution"
   ]
  },
  {
   "cell_type": "markdown",
   "metadata": {},
   "source": [
    "2) Преобразовать исходную систему к системе вида x = H * x + g, где H = E − D^(−1) * A, g = D^(−1) * b. Здесь D - диагональная матрица, у которой на диагонали находятся диагональные элементы матрицы A. Вычислить ||H||∞."
   ]
  },
  {
   "cell_type": "code",
   "execution_count": 5,
   "metadata": {
    "dotnet_interactive": {
     "language": "fsharp"
    }
   },
   "outputs": [],
   "source": [
    "let transform (matrix: Matrix<float>) (freeVector: Vector<float>) = \r\n",
    "    let n = matrix.RowCount \r\n",
    "\r\n",
    "    // H = E - D^(-1) * A   \r\n",
    "    let h = DenseMatrix.init n n (fun i j -> if i = j then 0. else - matrix.[i, j] / matrix.[i, i])\r\n",
    "       \r\n",
    "    // g = D ^ (-1) * b     \r\n",
    "    let g = DenseVector.init n (fun i -> freeVector.[i] / matrix.[i, i])\r\n",
    "\r\n",
    "    h, g"
   ]
  },
  {
   "cell_type": "code",
   "execution_count": 6,
   "metadata": {
    "dotnet_interactive": {
     "language": "fsharp"
    }
   },
   "outputs": [
    {
     "name": "stdout",
     "output_type": "stream",
     "text": [
      "Matrix H = DenseMatrix 2x2-Double\n",
      "      0  0,498257\n",
      "1,99535         0\n",
      "\n",
      "Vector g = DenseVector 2-Double\n",
      "-0,497958\n",
      " 0,997075\n",
      "\n",
      "||H||_inf = 1.995347\n"
     ]
    }
   ],
   "source": [
    "let (h, g) = transform a b\r\n",
    "let norm = h.InfinityNorm()\r\n",
    "\r\n",
    "printfn \"Matrix H = %O\" h\r\n",
    "printfn \"Vector g = %O\" g\r\n",
    "printfn \"||H||_inf = %f\" norm"
   ]
  },
  {
   "cell_type": "markdown",
   "metadata": {
    "dotnet_interactive": {
     "language": "fsharp"
    }
   },
   "source": [
    "3) Найти априорную оценку того k, при котором ||x∗ − xk||∞ < ε, ε = 0.001"
   ]
  },
  {
   "cell_type": "code",
   "execution_count": 7,
   "metadata": {
    "dotnet_interactive": {
     "language": "fsharp"
    }
   },
   "outputs": [],
   "source": [
    "let epsilon = 0.001\r\n",
    "\r\n",
    "let firstEstimation = DenseVector.zero<float> h.RowCount\r\n",
    "\r\n",
    "let calculatePrioriEstimation k (h: Matrix<float>) (g: Vector<float>) (firstEstiomation: Vector<float>) =\r\n",
    "    h.InfinityNorm() ** k * firstEstiomation.InfinityNorm() +  h.InfinityNorm() ** k / (1. - h.InfinityNorm()) * g.InfinityNorm()\r\n",
    "\r\n",
    "let getIterationsCount accuracy (h: Matrix<float>) (g: Vector<float>) (firstEstiomation: Vector<float>) = \r\n",
    "    let mutable iterationsCount = 1.\r\n",
    "    while calculatePrioriEstimation iterationsCount h g firstEstiomation >= accuracy do \r\n",
    "        iterationsCount <- iterationsCount + 1.\r\n",
    "\r\n",
    "    int iterationsCount"
   ]
  },
  {
   "cell_type": "code",
   "execution_count": 8,
   "metadata": {
    "dotnet_interactive": {
     "language": "fsharp"
    }
   },
   "outputs": [
    {
     "name": "stdout",
     "output_type": "stream",
     "text": [
      "Для получения решения с априорной оценкой 0.001000 необходимо 1 итераций\n"
     ]
    }
   ],
   "source": [
    "printfn \"Для получения решения с априорной оценкой %f необходимо %i итераций\" \r\n",
    "    <| epsilon\r\n",
    "    <| getIterationsCount epsilon h g firstEstimation"
   ]
  },
  {
   "cell_type": "markdown",
   "metadata": {},
   "source": [
    "4) Вычислить решение методом простой итерации с точностью ε = 0.001. Сравнить требуемое фактическое число итераций с априорным значением k. Вывести фактическую погрешность, апостериорную оценку, априорную оценку. Уточнить последнее приближение по Люстернику. Вывести его фактическую погрешность."
   ]
  },
  {
   "cell_type": "code",
   "execution_count": 10,
   "metadata": {
    "dotnet_interactive": {
     "language": "fsharp"
    }
   },
   "outputs": [],
   "source": [
    "let solveIterative step accuracy (h: Matrix<float>) (g: Vector<float>) = \r\n",
    "    let mutable previousEstimation = firstEstimation\r\n",
    "    let mutable currentEstimation: Vector<float> = step h g previousEstimation\r\n",
    "    let mutable iterationCount = 1\r\n",
    "    while (previousEstimation - currentEstimation).L2Norm() >= accuracy do\r\n",
    "        previousEstimation <- currentEstimation\r\n",
    "        currentEstimation <- step h g currentEstimation\r\n",
    "        iterationCount <- iterationCount + 1\r\n",
    "    \r\n",
    "    currentEstimation, iterationCount\r\n",
    "\r\n",
    "let calculatePosteriorEstimation (h: Matrix<float>) (g: Vector<float>) (previousEstiomation: Vector<float>) (currentEstiomation: Vector<float>) = \r\n",
    "    h.InfinityNorm() / (1. - h.InfinityNorm()) * (currentEstiomation - previousEstiomation).InfinityNorm()\r\n",
    "    \r\n",
    "let solveSimpleIteration (h: Matrix<float>) (g: Vector<float>) =\r\n",
    "    let step (h: Matrix<float>) (g: Vector<float>) (previousX: Vector<float>) = \r\n",
    "        h * previousX + g\r\n",
    "\r\n",
    "    solveIterative step epsilon h g"
   ]
  },
  {
   "cell_type": "code",
   "execution_count": 11,
   "metadata": {
    "dotnet_interactive": {
     "language": "fsharp"
    }
   },
   "outputs": [],
   "source": [
    "let getMaxEigenValue (matrix: Matrix<float>) = \r\n",
    "    matrix.Evd().EigenValues.AbsoluteMaximum().Real\r\n",
    "\r\n",
    "let optimizeLusternik (matrix: Matrix<float>) (previousEstiomation: Vector<float>) (currentEstiomation: Vector<float>) = \r\n",
    "    let maxEigen = getMaxEigenValue matrix\r\n",
    "    if maxEigen > 1. then\r\n",
    "        currentEstiomation\r\n",
    "    else \r\n",
    "        previousEstiomation + (1. / (1. - maxEigen)) * (currentEstiomation - previousEstiomation)\r\n"
   ]
  },
  {
   "cell_type": "code",
   "execution_count": 12,
   "metadata": {
    "dotnet_interactive": {
     "language": "fsharp"
    }
   },
   "outputs": [
    {
     "name": "stdout",
     "output_type": "stream",
     "text": [
      "Решение системы методом простой итерации: DenseVector 2-Double\n",
      "-0,199422\n",
      " 0,598267\n",
      "\n"
     ]
    }
   ],
   "source": [
    "let (solution, iterationCount) = solveSimpleIteration h g\r\n",
    "printfn \"Решение системы методом простой итерации: %O\" solution"
   ]
  },
  {
   "cell_type": "markdown",
   "metadata": {},
   "source": [
    "5) Вычислить решение систем методом Зейделя с точностью ε = 0.001."
   ]
  },
  {
   "cell_type": "code",
   "execution_count": 13,
   "metadata": {
    "dotnet_interactive": {
     "language": "fsharp"
    }
   },
   "outputs": [],
   "source": [
    "let solveSeidel (h: Matrix<float>) (g: Vector<float>) =\r\n",
    "    let step (h: Matrix<float>) (g: Vector<float>) (previousX: Vector<float>) = \r\n",
    "        let x = DenseVector.zero<float> previousX.Count\r\n",
    "        for i = 0 to x.Count - 1 do\r\n",
    "            x.[i] <- g.[i]\r\n",
    "            for j = 0 to i - 2 do\r\n",
    "                x.[i] <- x.[i] + h.[i, j] * x.[i]\r\n",
    "            for j = i - 1 to x.Count - 1 do\r\n",
    "                x.[i] <- x.[i] + h.[i, j] * previousX.[i]\r\n",
    "        x\r\n",
    "\r\n",
    "    solveIterative step epsilon h g"
   ]
  },
  {
   "cell_type": "code",
   "execution_count": 14,
   "metadata": {
    "dotnet_interactive": {
     "language": "fsharp"
    }
   },
   "outputs": [
    {
     "ename": "Unhandled exception",
     "evalue": "System.ArgumentOutOfRangeException: Specified argument was out of the range of valid values. (Parameter 'column')\r\n   at MathNet.Numerics.LinearAlgebra.Storage.MatrixStorage`1.ValidateRange(Int32 row, Int32 column)\r\n   at FSI_0016.solveSeidel@3.Invoke(Matrix`1 h, Vector`1 g, Vector`1 previousX)\r\n   at FSI_0013.solveIterative(FSharpFunc`2 step, Double accuracy, Matrix`1 h, Vector`1 g)\r\n   at FSI_0016.solveSeidel(Matrix`1 h, Vector`1 g)\r\n   at <StartupCode$FSI_0017>.$FSI_0017.main@()",
     "output_type": "error",
     "traceback": [
      "System.ArgumentOutOfRangeException: Specified argument was out of the range of valid values. (Parameter 'column')\r\n   at MathNet.Numerics.LinearAlgebra.Storage.MatrixStorage`1.ValidateRange(Int32 row, Int32 column)\r\n   at FSI_0016.solveSeidel@3.Invoke(Matrix`1 h, Vector`1 g, Vector`1 previousX)\r\n   at FSI_0013.solveIterative(FSharpFunc`2 step, Double accuracy, Matrix`1 h, Vector`1 g)\r\n   at FSI_0016.solveSeidel(Matrix`1 h, Vector`1 g)\r\n   at <StartupCode$FSI_0017>.$FSI_0017.main@()",
      "   at MathNet.Numerics.LinearAlgebra.Storage.MatrixStorage`1.ValidateRange(Int32 row, Int32 column)",
      "   at FSI_0016.solveSeidel@3.Invoke(Matrix`1 h, Vector`1 g, Vector`1 previousX)",
      "   at FSI_0013.solveIterative(FSharpFunc`2 step, Double accuracy, Matrix`1 h, Vector`1 g)",
      "   at FSI_0016.solveSeidel(Matrix`1 h, Vector`1 g)",
      "   at <StartupCode$FSI_0017>.$FSI_0017.main@()"
     ]
    }
   ],
   "source": [
    "printfn \"Solution by Seidel method with accuracy = %f: %O\" \r\n",
    "    <| epsilon \r\n",
    "    <| solveSeidel h g"
   ]
  },
  {
   "cell_type": "markdown",
   "metadata": {},
   "source": [
    "7) Получить решение системы Ax = b методом верхней релаксации с точностью ε = 0.001. В качестве критерия использовать фактическую погрешность."
   ]
  },
  {
   "cell_type": "code",
   "execution_count": 15,
   "metadata": {
    "dotnet_interactive": {
     "language": "fsharp"
    }
   },
   "outputs": [],
   "source": [
    "let solveUpperRelaxation (h: Matrix<float>) (g: Vector<float>) =\r\n",
    "    let q = 2. / (1. + sqrt (1. - (getMaxEigenValue h) ** 2.)) \r\n",
    "    let step (h: Matrix<float>) (g: Vector<float>) (previousX: Vector<float>) = \r\n",
    "        let x = DenseVector.zero<float> previousX.Count\r\n",
    "        for i = 0 to x.Count - 1 do\r\n",
    "            x.[i] <- g.[i] - previousX.[i]\r\n",
    "            for j = 0 to i - 2 do\r\n",
    "                x.[i] <- x.[i] + h.[i, j] * x.[i]\r\n",
    "            for j = i - 1 to x.Count - 1 do\r\n",
    "                x.[i] <- x.[i] + h.[i, j] * previousX.[i]\r\n",
    "            x.[i] <- previousX.[i] + q * x.[i]\r\n",
    "        x\r\n",
    "    \r\n",
    "    solveIterative step epsilon h g \r\n",
    "    "
   ]
  }
 ],
 "metadata": {
  "language_info": {},
  "orig_nbformat": 3
 },
 "nbformat": 4,
 "nbformat_minor": 2
}