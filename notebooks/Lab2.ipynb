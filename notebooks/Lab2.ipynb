{
 "cells": [
  {
   "cell_type": "code",
   "execution_count": null,
   "metadata": {
    "dotnet_interactive": {
     "language": "fsharp"
    }
   },
   "outputs": [
    {
     "data": {
      "text/plain": "Installed package MathNet.Numerics.FSharp version 4.15.0"
     },
     "output_type": "unknown"
    }
   ],
   "source": [
    "#r \"nuget: MathNet.Numerics.FSharp, 4.15.0\"\r\n",
    "\r\n",
    "open MathNet.Numerics.LinearAlgebra"
   ]
  },
  {
   "cell_type": "markdown",
   "metadata": {},
   "source": [
    "# Итерационные методы решения линейных систем. \r\n",
    "## Варинат 9"
   ]
  },
  {
   "cell_type": "code",
   "execution_count": null,
   "metadata": {
    "dotnet_interactive": {
     "language": "fsharp"
    }
   },
   "outputs": [],
   "source": [
    "let a = matrix [\r\n",
    "    [12.78572; 1.534675; -3.947418]\r\n",
    "    [1.534675; 9.709232; 0.918435]\r\n",
    "    [-3.947418; 0.918435; 7.703946]\r\n",
    "]\r\n",
    "\r\n",
    "let b = vector [9.60565; 7.30777; 4.21575]"
   ]
  },
  {
   "cell_type": "code",
   "execution_count": null,
   "metadata": {
    "dotnet_interactive": {
     "language": "fsharp"
    }
   },
   "outputs": [
    {
     "data": {
      "text/plain": "Точное решение СЛАУ: "
     },
     "output_type": "unknown"
    },
    {
     "data": {
      "text/plain": "seq [1.00000036; 0.5000044523; 1.000000238]"
     },
     "output_type": "unknown"
    },
    {
     "data": {
      "text/plain": "\r\n"
     },
     "output_type": "unknown"
    }
   ],
   "source": [
    "let accurateSolution = a.Solve b\r\n",
    "\r\n",
    "printfn \"Точное решение СЛАУ: %A\" accurateSolution"
   ]
  },
  {
   "cell_type": "markdown",
   "metadata": {},
   "source": [
    "**Задание 2.** Преобразовать исходную систему к системе вида x = H * x + g, где H = E − D^(−1) * A, g = D^(−1) * b. Здесь D - диагональная матрица, у которой на диагонали находятся диагональные элементы матрицы A. Вычислить ||H||∞."
   ]
  },
  {
   "cell_type": "code",
   "execution_count": null,
   "metadata": {
    "dotnet_interactive": {
     "language": "fsharp"
    }
   },
   "outputs": [],
   "source": [
    "let transform (matrix: Matrix<float>) (freeVector: Vector<float>) = \r\n",
    "    let n = matrix.RowCount \r\n",
    "\r\n",
    "    // H = E - D^(-1) * A   \r\n",
    "    let h = DenseMatrix.init n n (fun i j -> if i = j then 0. else - matrix.[i, j] / matrix.[i, i])\r\n",
    "       \r\n",
    "    // g = D ^ (-1) * b     \r\n",
    "    let g = DenseVector.init n (fun i -> freeVector.[i] / matrix.[i, i])\r\n",
    "\r\n",
    "    h, g"
   ]
  },
  {
   "cell_type": "code",
   "execution_count": null,
   "metadata": {
    "dotnet_interactive": {
     "language": "fsharp"
    }
   },
   "outputs": [
    {
     "data": {
      "text/plain": "Matrix H = "
     },
     "output_type": "unknown"
    },
    {
     "data": {
      "text/plain": "DenseMatrix 3x3-Double\r\n        0   -0,12003   0,308736\r\n-0,158063          0  -0,094594\r\n 0,512389  -0,119216          0\r\n"
     },
     "output_type": "unknown"
    },
    {
     "data": {
      "text/plain": "\r\n"
     },
     "output_type": "unknown"
    },
    {
     "data": {
      "text/plain": "Vector g = "
     },
     "output_type": "unknown"
    },
    {
     "data": {
      "text/plain": "DenseVector 3-Double\r\n 0,75128\r\n0,752662\r\n 0,54722\r\n"
     },
     "output_type": "unknown"
    },
    {
     "data": {
      "text/plain": "\r\n"
     },
     "output_type": "unknown"
    },
    {
     "data": {
      "text/plain": "||H||_inf = "
     },
     "output_type": "unknown"
    },
    {
     "data": {
      "text/plain": "0.631605"
     },
     "output_type": "unknown"
    },
    {
     "data": {
      "text/plain": "\r\n"
     },
     "output_type": "unknown"
    }
   ],
   "source": [
    "let (h, g) = transform a b\r\n",
    "\r\n",
    "printfn \"Матрица H = %O\" h\r\n",
    "printfn \"Вектор g = %O\" g\r\n",
    "printfn \"||H||_inf = %f\" <| h.InfinityNorm()"
   ]
  },
  {
   "cell_type": "markdown",
   "metadata": {
    "dotnet_interactive": {
     "language": "fsharp"
    }
   },
   "source": [
    "**Задание 3.** Найти априорную оценку того k, при котором ||x∗ − xk||∞ < ε, ε = 0.001"
   ]
  },
  {
   "cell_type": "code",
   "execution_count": null,
   "metadata": {
    "dotnet_interactive": {
     "language": "fsharp"
    }
   },
   "outputs": [],
   "source": [
    "let epsilon = 0.001\r\n",
    "\r\n",
    "let calculatePrioriEstimation (h: Matrix<float>) (g: Vector<float>) (firstEstiomation: Vector<float>) iterationsCount =\r\n",
    "    h.InfinityNorm() ** (float iterationsCount) * firstEstiomation.InfinityNorm() +  \r\n",
    "    h.InfinityNorm() ** (float iterationsCount) / (1. - h.InfinityNorm()) * g.InfinityNorm()\r\n",
    "\r\n",
    "let getIterationsCount accuracy (h: Matrix<float>) (g: Vector<float>) (firstEstiomation: Vector<float>)  = \r\n",
    "    let mutable iterationsCount = 1\r\n",
    "    while calculatePrioriEstimation h g firstEstiomation iterationsCount >= accuracy do \r\n",
    "        iterationsCount <- iterationsCount + 1\r\n",
    "\r\n",
    "    int iterationsCount"
   ]
  },
  {
   "cell_type": "code",
   "execution_count": null,
   "metadata": {
    "dotnet_interactive": {
     "language": "fsharp"
    }
   },
   "outputs": [
    {
     "data": {
      "text/plain": "Для получения решения с априорной оценкой "
     },
     "output_type": "unknown"
    },
    {
     "data": {
      "text/plain": "0.000828"
     },
     "output_type": "unknown"
    },
    {
     "data": {
      "text/plain": " (< "
     },
     "output_type": "unknown"
    },
    {
     "data": {
      "text/plain": "0.001000"
     },
     "output_type": "unknown"
    },
    {
     "data": {
      "text/plain": ") необходимо "
     },
     "output_type": "unknown"
    },
    {
     "data": {
      "text/plain": "17"
     },
     "output_type": "unknown"
    },
    {
     "data": {
      "text/plain": " итераций"
     },
     "output_type": "unknown"
    },
    {
     "data": {
      "text/plain": "\r\n"
     },
     "output_type": "unknown"
    }
   ],
   "source": [
    "let firstEstimation = DenseVector.zero<float> h.RowCount\r\n",
    "\r\n",
    "let approximateIterationCount = getIterationsCount epsilon h g firstEstimation\r\n",
    "let prioriEstimation = calculatePrioriEstimation h g firstEstimation approximateIterationCount\r\n",
    "printfn \"Для получения решения с априорной оценкой %f (< %f) необходимо %i итераций\"\r\n",
    "    <| prioriEstimation\r\n",
    "    <| epsilon\r\n",
    "    <| approximateIterationCount"
   ]
  },
  {
   "cell_type": "markdown",
   "metadata": {},
   "source": [
    "**Задание 4.** Вычислить решение методом простой итерации с точностью ε = 0.001. Сравнить требуемое фактическое число итераций с априорным значением k. Вывести фактическую погрешность, апостериорную оценку, априорную оценку. Уточнить последнее приближение по Люстернику. Вывести его фактическую погрешность."
   ]
  },
  {
   "cell_type": "code",
   "execution_count": null,
   "metadata": {
    "dotnet_interactive": {
     "language": "fsharp"
    }
   },
   "outputs": [],
   "source": [
    "let getMaxEigenValue (matrix: Matrix<float>) = \r\n",
    "    matrix.Evd().EigenValues.AbsoluteMaximum().Real\r\n",
    "\r\n",
    "let solveIterative accuracy (h: Matrix<float>) (g: Vector<float>) step = \r\n",
    "    let mutable previousEstimation = firstEstimation\r\n",
    "    let mutable currentEstimation: Vector<float> = step h g previousEstimation\r\n",
    "    let mutable iterationCount = 1\r\n",
    "\r\n",
    "    let calculatePosteriorEstimation (previousEstimation: Vector<float>) (currentEstimation: Vector<float>) = \r\n",
    "        h.InfinityNorm() / (1. - h.InfinityNorm()) * (currentEstimation - previousEstimation).InfinityNorm()\r\n",
    "\r\n",
    "    while calculatePosteriorEstimation previousEstimation currentEstimation >= accuracy do\r\n",
    "        previousEstimation <- currentEstimation\r\n",
    "        currentEstimation <- step h g currentEstimation\r\n",
    "        iterationCount <- iterationCount + 1\r\n",
    "\r\n",
    "    let optimizeLusternik (previousEstimation: Vector<float>) (currentEstimation: Vector<float>) = \r\n",
    "        let maxEigen = getMaxEigenValue h\r\n",
    "        if maxEigen > 1. then\r\n",
    "            currentEstimation\r\n",
    "        else \r\n",
    "            previousEstimation + (1. / (1. - maxEigen)) * (currentEstimation - previousEstimation)\r\n",
    "    \r\n",
    "    currentEstimation, \r\n",
    "    {|\r\n",
    "        FactIterationCount = iterationCount\r\n",
    "        PosteriorEstimation = calculatePosteriorEstimation previousEstimation currentEstimation\r\n",
    "        LusternikOptimization = optimizeLusternik previousEstimation currentEstimation\r\n",
    "    |} \r\n"
   ]
  },
  {
   "cell_type": "code",
   "execution_count": null,
   "metadata": {
    "dotnet_interactive": {
     "language": "fsharp"
    }
   },
   "outputs": [],
   "source": [
    "// метод простой итерации\r\n",
    "let solveSimpleIteration accuracy (h: Matrix<float>) (g: Vector<float>) =\r\n",
    "    solveIterative accuracy h g <| fun (h: Matrix<float>) (g: Vector<float>) (previousX: Vector<float>) ->\r\n",
    "        h * previousX + g"
   ]
  },
  {
   "cell_type": "code",
   "execution_count": null,
   "metadata": {
    "dotnet_interactive": {
     "language": "fsharp"
    }
   },
   "outputs": [
    {
     "data": {
      "text/plain": "Решение системы методом простой итерации: "
     },
     "output_type": "unknown"
    },
    {
     "data": {
      "text/plain": "DenseVector 3-Double\r\n0,999681\r\n0,500186\r\n0,999633\r\n"
     },
     "output_type": "unknown"
    },
    {
     "data": {
      "text/plain": "\r\n"
     },
     "output_type": "unknown"
    },
    {
     "data": {
      "text/plain": "Априорное число итераций: "
     },
     "output_type": "unknown"
    },
    {
     "data": {
      "text/plain": "17"
     },
     "output_type": "unknown"
    },
    {
     "data": {
      "text/plain": "\r\n"
     },
     "output_type": "unknown"
    },
    {
     "data": {
      "text/plain": "Фактическое число итераций: "
     },
     "output_type": "unknown"
    },
    {
     "data": {
      "text/plain": "10"
     },
     "output_type": "unknown"
    },
    {
     "data": {
      "text/plain": "\r\n"
     },
     "output_type": "unknown"
    },
    {
     "data": {
      "text/plain": "Фактическая погрешность решения: "
     },
     "output_type": "unknown"
    },
    {
     "data": {
      "text/plain": "0,0003668999994144162"
     },
     "output_type": "unknown"
    },
    {
     "data": {
      "text/plain": "\r\n"
     },
     "output_type": "unknown"
    },
    {
     "data": {
      "text/plain": "Априорная оценка решения: "
     },
     "output_type": "unknown"
    },
    {
     "data": {
      "text/plain": "0,0008276837452870448"
     },
     "output_type": "unknown"
    },
    {
     "data": {
      "text/plain": "\r\n"
     },
     "output_type": "unknown"
    },
    {
     "data": {
      "text/plain": "Апостериорная оценка решения: "
     },
     "output_type": "unknown"
    },
    {
     "data": {
      "text/plain": "0,000880313980431832"
     },
     "output_type": "unknown"
    },
    {
     "data": {
      "text/plain": "\r\n"
     },
     "output_type": "unknown"
    },
    {
     "data": {
      "text/plain": "Решение с уточнением по Люстернику: "
     },
     "output_type": "unknown"
    },
    {
     "data": {
      "text/plain": "DenseVector 3-Double\r\n0,999941\r\n0,499999\r\n 1,00007\r\n"
     },
     "output_type": "unknown"
    },
    {
     "data": {
      "text/plain": "\r\n"
     },
     "output_type": "unknown"
    },
    {
     "data": {
      "text/plain": "Фактическая погрешность решения по Люстернику: "
     },
     "output_type": "unknown"
    },
    {
     "data": {
      "text/plain": "7,435848701287107E-05"
     },
     "output_type": "unknown"
    },
    {
     "data": {
      "text/plain": "\r\n"
     },
     "output_type": "unknown"
    }
   ],
   "source": [
    "let (solutionSimpleIteration, infoSimpleIteration) = solveSimpleIteration epsilon h g\r\n",
    "printfn \"Решение системы методом простой итерации: %O\" solutionSimpleIteration\r\n",
    "printfn \"Априорное число итераций: %O\" approximateIterationCount\r\n",
    "printfn \"Фактическое число итераций: %O\" infoSimpleIteration.FactIterationCount\r\n",
    "printfn \"Фактическая погрешность решения: %O\" <| (solutionSimpleIteration - accurateSolution).InfinityNorm()\r\n",
    "printfn \"Априорная оценка решения: %O\" prioriEstimation\r\n",
    "printfn \"Апостериорная оценка решения: %O\" infoSimpleIteration.PosteriorEstimation\r\n",
    "printfn \"Решение с уточнением по Люстернику: %O\" infoSimpleIteration.LusternikOptimization\r\n",
    "printfn \"Фактическая погрешность решения по Люстернику: %O\" <| (infoSimpleIteration.LusternikOptimization - accurateSolution).InfinityNorm()"
   ]
  },
  {
   "cell_type": "markdown",
   "metadata": {},
   "source": [
    "**Задание 5.** Вычислить решение систем методом Зейделя с точностью ε = 0.001."
   ]
  },
  {
   "cell_type": "code",
   "execution_count": null,
   "metadata": {
    "dotnet_interactive": {
     "language": "fsharp"
    }
   },
   "outputs": [],
   "source": [
    "let solveSeidel accuracy (h: Matrix<float>) (g: Vector<float>) =\r\n",
    "    solveIterative accuracy h g <| fun (h: Matrix<float>) (g: Vector<float>) (previousX: Vector<float>) ->\r\n",
    "        let x = DenseVector.zero<float> previousX.Count\r\n",
    "        for i = 0 to x.Count - 1 do\r\n",
    "            x.[i] <- g.[i]\r\n",
    "            for j = 0 to i - 2 do\r\n",
    "                x.[i] <- x.[i] + h.[i, j] * x.[j]\r\n",
    "            for j = i  to x.Count - 1 do\r\n",
    "                x.[i] <- x.[i] + h.[i, j] * previousX.[j]\r\n",
    "        x"
   ]
  },
  {
   "cell_type": "code",
   "execution_count": null,
   "metadata": {
    "dotnet_interactive": {
     "language": "fsharp"
    }
   },
   "outputs": [
    {
     "data": {
      "text/plain": "Решение системы методом простой итерации: "
     },
     "output_type": "unknown"
    },
    {
     "data": {
      "text/plain": "DenseVector 3-Double\r\n1,00006\r\n0,65244\r\n1,05964\r\n"
     },
     "output_type": "unknown"
    },
    {
     "data": {
      "text/plain": "\r\n"
     },
     "output_type": "unknown"
    },
    {
     "data": {
      "text/plain": "Априорное число итераций: "
     },
     "output_type": "unknown"
    },
    {
     "data": {
      "text/plain": "17"
     },
     "output_type": "unknown"
    },
    {
     "data": {
      "text/plain": "\r\n"
     },
     "output_type": "unknown"
    },
    {
     "data": {
      "text/plain": "Фактическое число итераций: "
     },
     "output_type": "unknown"
    },
    {
     "data": {
      "text/plain": "16"
     },
     "output_type": "unknown"
    },
    {
     "data": {
      "text/plain": "\r\n"
     },
     "output_type": "unknown"
    },
    {
     "data": {
      "text/plain": "Фактическая погрешность решения: "
     },
     "output_type": "unknown"
    },
    {
     "data": {
      "text/plain": "0,1524352857686706"
     },
     "output_type": "unknown"
    },
    {
     "data": {
      "text/plain": "\r\n"
     },
     "output_type": "unknown"
    },
    {
     "data": {
      "text/plain": "Априорная оценка решения: "
     },
     "output_type": "unknown"
    },
    {
     "data": {
      "text/plain": "0,0008276837452870448"
     },
     "output_type": "unknown"
    },
    {
     "data": {
      "text/plain": "\r\n"
     },
     "output_type": "unknown"
    },
    {
     "data": {
      "text/plain": "Апостериорная оценка решения: "
     },
     "output_type": "unknown"
    },
    {
     "data": {
      "text/plain": "0,000476556807770769"
     },
     "output_type": "unknown"
    },
    {
     "data": {
      "text/plain": "\r\n"
     },
     "output_type": "unknown"
    },
    {
     "data": {
      "text/plain": "Решение с уточнением по Люстернику: "
     },
     "output_type": "unknown"
    },
    {
     "data": {
      "text/plain": "DenseVector 3-Double\r\n  1,0003\r\n0,652378\r\n 1,05976\r\n"
     },
     "output_type": "unknown"
    },
    {
     "data": {
      "text/plain": "\r\n"
     },
     "output_type": "unknown"
    },
    {
     "data": {
      "text/plain": "Фактическая погрешность решения по Люстернику: "
     },
     "output_type": "unknown"
    },
    {
     "data": {
      "text/plain": "0,15237399053940304"
     },
     "output_type": "unknown"
    },
    {
     "data": {
      "text/plain": "\r\n"
     },
     "output_type": "unknown"
    }
   ],
   "source": [
    "let (solutionSeidel, infoSeidel) = solveSeidel epsilon h g\r\n",
    "printfn \"Решение системы методом простой итерации: %O\" solutionSeidel\r\n",
    "printfn \"Априорное число итераций: %O\" approximateIterationCount\r\n",
    "printfn \"Фактическое число итераций: %O\" info.FactIterationCount\r\n",
    "printfn \"Фактическая погрешность решения: %O\" <| (solutionSeidel - accurateSolution).InfinityNorm()\r\n",
    "printfn \"Априорная оценка решения: %O\" prioriEstimation\r\n",
    "printfn \"Апостериорная оценка решения: %O\" infoSeidel.PosteriorEstimation\r\n",
    "printfn \"Решение с уточнением по Люстернику: %O\" infoSeidel.LusternikOptimization\r\n",
    "printfn \"Фактическая погрешность решения по Люстернику: %O\" <| (infoSeidel.LusternikOptimization - accurateSolution).InfinityNorm()"
   ]
  },
  {
   "cell_type": "markdown",
   "metadata": {},
   "source": [
    "**Задание 7.** Получить решение системы Ax = b методом верхней релаксации с точностью ε = 0.001. В качестве критерия использовать фактическую погрешность."
   ]
  },
  {
   "cell_type": "code",
   "execution_count": null,
   "metadata": {
    "dotnet_interactive": {
     "language": "fsharp"
    }
   },
   "outputs": [],
   "source": [
    "let solveUpperRelaxation accuracy (h: Matrix<float>) (g: Vector<float>) =\r\n",
    "    let q = 2. / (1. + sqrt (1. - (getMaxEigenValue h) ** 2.)) \r\n",
    "    \r\n",
    "    solveIterative accuracy h g <| fun (h: Matrix<float>) (g: Vector<float>) (previousX: Vector<float>) ->\r\n",
    "        let x = DenseVector.zero<float> previousX.Count\r\n",
    "        for i = 0 to x.Count - 1 do\r\n",
    "            x.[i] <- g.[i] - previousX.[i]\r\n",
    "            for j = 0 to i - 2 do\r\n",
    "                x.[i] <- x.[i] + h.[i, j] * x.[i]\r\n",
    "            for j = i to x.Count - 1 do\r\n",
    "                x.[i] <- x.[i] + h.[i, j] * previousX.[i]\r\n",
    "            x.[i] <- previousX.[i] + q * x.[i]\r\n",
    "        x"
   ]
  },
  {
   "cell_type": "code",
   "execution_count": null,
   "metadata": {
    "dotnet_interactive": {
     "language": "fsharp"
    }
   },
   "outputs": [
    {
     "data": {
      "text/plain": "Решение системы методом простой итерации: "
     },
     "output_type": "unknown"
    },
    {
     "data": {
      "text/plain": "DenseVector 3-Double\r\n0,926026\r\n0,687618\r\n0,547052\r\n"
     },
     "output_type": "unknown"
    },
    {
     "data": {
      "text/plain": "\r\n"
     },
     "output_type": "unknown"
    },
    {
     "data": {
      "text/plain": "Априорное число итераций: "
     },
     "output_type": "unknown"
    },
    {
     "data": {
      "text/plain": "17"
     },
     "output_type": "unknown"
    },
    {
     "data": {
      "text/plain": "\r\n"
     },
     "output_type": "unknown"
    },
    {
     "data": {
      "text/plain": "Фактическое число итераций: "
     },
     "output_type": "unknown"
    },
    {
     "data": {
      "text/plain": "16"
     },
     "output_type": "unknown"
    },
    {
     "data": {
      "text/plain": "\r\n"
     },
     "output_type": "unknown"
    },
    {
     "data": {
      "text/plain": "Фактическая погрешность решения: "
     },
     "output_type": "unknown"
    },
    {
     "data": {
      "text/plain": "0,45294849896634515"
     },
     "output_type": "unknown"
    },
    {
     "data": {
      "text/plain": "\r\n"
     },
     "output_type": "unknown"
    },
    {
     "data": {
      "text/plain": "Априорная оценка решения: "
     },
     "output_type": "unknown"
    },
    {
     "data": {
      "text/plain": "0,0008276837452870448"
     },
     "output_type": "unknown"
    },
    {
     "data": {
      "text/plain": "\r\n"
     },
     "output_type": "unknown"
    },
    {
     "data": {
      "text/plain": "Апостериорная оценка решения: "
     },
     "output_type": "unknown"
    },
    {
     "data": {
      "text/plain": "0,0007648064423191916"
     },
     "output_type": "unknown"
    },
    {
     "data": {
      "text/plain": "\r\n"
     },
     "output_type": "unknown"
    },
    {
     "data": {
      "text/plain": "Решение с уточнением по Люстернику: "
     },
     "output_type": "unknown"
    },
    {
     "data": {
      "text/plain": "DenseVector 3-Double\r\n0,926026\r\n0,687618\r\n0,546668\r\n"
     },
     "output_type": "unknown"
    },
    {
     "data": {
      "text/plain": "\r\n"
     },
     "output_type": "unknown"
    },
    {
     "data": {
      "text/plain": "Фактическая погрешность решения по Люстернику: "
     },
     "output_type": "unknown"
    },
    {
     "data": {
      "text/plain": "0,4533318591544703"
     },
     "output_type": "unknown"
    },
    {
     "data": {
      "text/plain": "\r\n"
     },
     "output_type": "unknown"
    }
   ],
   "source": [
    "let (solutionUpperRelaxation, infoUpperRelaxation) = solveUpperRelaxation epsilon h g\r\n",
    "printfn \"Решение системы методом простой итерации: %O\" solutionUpperRelaxation\r\n",
    "printfn \"Априорное число итераций: %O\" approximateIterationCount\r\n",
    "printfn \"Фактическое число итераций: %O\" infoUpperRelaxation.FactIterationCount\r\n",
    "printfn \"Фактическая погрешность решения: %O\" <| (solutionUpperRelaxation - accurateSolution).InfinityNorm()\r\n",
    "printfn \"Априорная оценка решения: %O\" prioriEstimation\r\n",
    "printfn \"Апостериорная оценка решения: %O\" infoUpperRelaxation.PosteriorEstimation\r\n",
    "printfn \"Решение с уточнением по Люстернику: %O\" infoUpperRelaxation.LusternikOptimization\r\n",
    "printfn \"Фактическая погрешность решения по Люстернику: %O\" <| (info.LusternikOptimization - accurateSolution).InfinityNorm()"
   ]
  }
 ],
 "metadata": {
  "kernelspec": {
   "display_name": ".NET (C#)",
   "language": "C#",
   "name": ".net-csharp"
  },
  "language_info": {
   "file_extension": ".cs",
   "mimetype": "text/x-csharp",
   "name": "C#",
   "pygments_lexer": "csharp",
   "version": "9.0"
  },
  "orig_nbformat": 3
 },
 "nbformat": 4,
 "nbformat_minor": 2
}