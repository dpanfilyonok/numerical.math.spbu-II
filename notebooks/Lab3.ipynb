{
 "cells": [
  {
   "cell_type": "code",
   "execution_count": null,
   "metadata": {
    "dotnet_interactive": {
     "language": "fsharp"
    }
   },
   "outputs": [
    {
     "data": {
      "text/plain": "Installed package MathNet.Numerics.FSharp version 4.15.0"
     },
     "output_type": "unknown"
    }
   ],
   "source": [
    "#r \"nuget: MathNet.Numerics.FSharp, 4.15.0\"\r\n",
    "\r\n",
    "open MathNet.Numerics.LinearAlgebra"
   ]
  },
  {
   "cell_type": "markdown",
   "metadata": {},
   "source": [
    "# Частичная проблема собственных значений\r\n",
    "## Варинат 9"
   ]
  },
  {
   "cell_type": "code",
   "execution_count": null,
   "metadata": {
    "dotnet_interactive": {
     "language": "fsharp"
    }
   },
   "outputs": [],
   "source": [
    "let a = matrix [\r\n",
    "    [-0.90701; -0.27716; 0.44570]\r\n",
    "    [-0.27716; 0.63372; 0.07774]\r\n",
    "    [0.44570; 0.07774; -0.95535]\r\n",
    "]"
   ]
  },
  {
   "cell_type": "markdown",
   "metadata": {},
   "source": [
    "**Задание 2.** Найти степенным методом c точностью ε = 0.001 максимальное по модулю собственное число λ матрицы A и соответствующий ему собственный вектор x, так чтобы ||x||_2 = 1"
   ]
  },
  {
   "cell_type": "code",
   "execution_count": null,
   "metadata": {
    "dotnet_interactive": {
     "language": "fsharp"
    }
   },
   "outputs": [],
   "source": [
    "let findEigenIterative accuracy (matrix: Matrix<float>) step = \r\n",
    "    // firstEstimation.[0] не должен быть слишком мал\r\n",
    "    let firstEstimation = DenseVector.randomStandard<float> a.RowCount\r\n",
    "    firstEstimation.[0] <- 1.\r\n",
    "    \r\n",
    "    let accurateLambda = matrix.Evd().EigenValues.[a.Evd().EigenValues.AbsoluteMaximumIndex()].Real\r\n",
    "\r\n",
    "    let calculatePosteriorEstimation (eigenValueEstimation: float) (eigenVectorEstimation: Vector<float>) = \r\n",
    "        (matrix * eigenVectorEstimation - eigenValueEstimation * eigenVectorEstimation).L2Norm() /\r\n",
    "        eigenVectorEstimation.L2Norm()\r\n",
    "    \r\n",
    "    let rec loop (previousVector: Vector<float>) iterationTable = \r\n",
    "        // unnormalized\r\n",
    "        let y = matrix * previousVector\r\n",
    "        let lambda = step y previousVector\r\n",
    "        let updatedTable = \r\n",
    "            {|\r\n",
    "                K = List.length iterationTable + 1\r\n",
    "                Lambda = lambda\r\n",
    "                AbsFactError = lambda - accurateLambda |> abs\r\n",
    "                AYminusLambdaY = (matrix * y - lambda * y).L2Norm()\r\n",
    "                PosteriorEstimation = calculatePosteriorEstimation lambda y\r\n",
    "            |}\r\n",
    "            |> List.singleton\r\n",
    "            |> List.append iterationTable\r\n",
    "        \r\n",
    "        if calculatePosteriorEstimation lambda y >= accuracy then   \r\n",
    "            loop y updatedTable\r\n",
    "        else \r\n",
    "            lambda, (y / y.L2Norm()), updatedTable\r\n",
    "\r\n",
    "    loop firstEstimation []"
   ]
  },
  {
   "cell_type": "code",
   "execution_count": null,
   "metadata": {
    "dotnet_interactive": {
     "language": "fsharp"
    }
   },
   "outputs": [],
   "source": [
    "let findEigenPowerMethod accuracy (matrix: Matrix<float>) = \r\n",
    "    findEigenIterative accuracy matrix <| fun (currentVector: Vector<float>) (previousVector: Vector<float>) ->\r\n",
    "        // i любое\r\n",
    "        (Vector.map2 (/) currentVector previousVector).[0]"
   ]
  },
  {
   "cell_type": "code",
   "execution_count": null,
   "metadata": {
    "dotnet_interactive": {
     "language": "fsharp"
    }
   },
   "outputs": [
    {
     "data": {
      "text/plain": "Наибольшее по модулю собственное число, полученное степенным методом: "
     },
     "output_type": "unknown"
    },
    {
     "data": {
      "text/plain": "-1.408068"
     },
     "output_type": "unknown"
    },
    {
     "data": {
      "text/plain": "\r\n"
     },
     "output_type": "unknown"
    },
    {
     "data": {
      "text/plain": "Соответствующий ему собственный вектор: "
     },
     "output_type": "unknown"
    },
    {
     "data": {
      "text/plain": "DenseVector 3-Double\r\n-0,696668\r\n -0,12117\r\n 0,707087\r\n"
     },
     "output_type": "unknown"
    },
    {
     "data": {
      "text/plain": "\r\n"
     },
     "output_type": "unknown"
    },
    {
     "data": {
      "text/plain": "Фактическая погрешнсть: "
     },
     "output_type": "unknown"
    },
    {
     "data": {
      "text/plain": "0.000288"
     },
     "output_type": "unknown"
    },
    {
     "data": {
      "text/plain": "\r\n"
     },
     "output_type": "unknown"
    },
    {
     "data": {
      "text/html": "<table><thead><tr><th><i>index</i></th><th>AYminusLambdaY</th><th>AbsFactError</th><th>K</th><th>Lambda</th><th>PosteriorEstimation</th></tr></thead><tbody><tr><td>0</td><td><div class=\"dni-plaintext\">0.32341895228349876</div></td><td><div class=\"dni-plaintext\">0.7855290780343804</div></td><td><div class=\"dni-plaintext\">1</div></td><td><div class=\"dni-plaintext\">-0.6222505366395275</div></td><td><div class=\"dni-plaintext\">0.42177150605757036</div></td></tr><tr><td>1</td><td><div class=\"dni-plaintext\">0.23671495124978</div></td><td><div class=\"dni-plaintext\">0.8644004130610661</div></td><td><div class=\"dni-plaintext\">2</div></td><td><div class=\"dni-plaintext\">-0.5433792016128418</div></td><td><div class=\"dni-plaintext\">0.5544545647355059</div></td></tr><tr><td>2</td><td><div class=\"dni-plaintext\">0.21621976001847135</div></td><td><div class=\"dni-plaintext\">0.5119524422028473</div></td><td><div class=\"dni-plaintext\">3</div></td><td><div class=\"dni-plaintext\">-0.8958271724710606</div></td><td><div class=\"dni-plaintext\">0.6988690234385924</div></td></tr><tr><td>3</td><td><div class=\"dni-plaintext\">0.20122244534937045</div></td><td><div class=\"dni-plaintext\">0.5067562399326545</div></td><td><div class=\"dni-plaintext\">4</div></td><td><div class=\"dni-plaintext\">-0.9010233747412534</div></td><td><div class=\"dni-plaintext\">0.5941615135202819</div></td></tr><tr><td>4</td><td><div class=\"dni-plaintext\">0.11667786794653631</div></td><td><div class=\"dni-plaintext\">0.11681475601151137</div></td><td><div class=\"dni-plaintext\">5</div></td><td><div class=\"dni-plaintext\">-1.2909648586623965</div></td><td><div class=\"dni-plaintext\">0.2578967826080197</div></td></tr><tr><td>5</td><td><div class=\"dni-plaintext\">0.10831713821404583</div></td><td><div class=\"dni-plaintext\">0.1332321742375091</div></td><td><div class=\"dni-plaintext\">6</div></td><td><div class=\"dni-plaintext\">-1.2745474404363988</div></td><td><div class=\"dni-plaintext\">0.1716441457447561</div></td></tr><tr><td>6</td><td><div class=\"dni-plaintext\">0.04942722876324101</div></td><td><div class=\"dni-plaintext\">0.00562692680534127</div></td><td><div class=\"dni-plaintext\">7</div></td><td><div class=\"dni-plaintext\">-1.4021526878685666</div></td><td><div class=\"dni-plaintext\">0.05573121017349013</div></td></tr><tr><td>7</td><td><div class=\"dni-plaintext\">0.045196116182672545</div></td><td><div class=\"dni-plaintext\">0.024854089430455417</div></td><td><div class=\"dni-plaintext\">8</div></td><td><div class=\"dni-plaintext\">-1.3829255252434525</div></td><td><div class=\"dni-plaintext\">0.03621128070136017</div></td></tr><tr><td>8</td><td><div class=\"dni-plaintext\">0.02292663439921462</div></td><td><div class=\"dni-plaintext\">0.0022241094940476103</div></td><td><div class=\"dni-plaintext\">9</div></td><td><div class=\"dni-plaintext\">-1.4100037241679555</div></td><td><div class=\"dni-plaintext\">0.013049052355910532</div></td></tr><tr><td>9</td><td><div class=\"dni-plaintext\">0.019154098797852733</div></td><td><div class=\"dni-plaintext\">0.004654795706023229</div></td><td><div class=\"dni-plaintext\">10</div></td><td><div class=\"dni-plaintext\">-1.4031248189678847</div></td><td><div class=\"dni-plaintext\">0.007744126617974683</div></td></tr><tr><td>10</td><td><div class=\"dni-plaintext\">0.010993832810090708</div></td><td><div class=\"dni-plaintext\">0.0009799099253677834</div></td><td><div class=\"dni-plaintext\">11</div></td><td><div class=\"dni-plaintext\">-1.4087595245992757</div></td><td><div class=\"dni-plaintext\">0.003157378877370083</div></td></tr><tr><td>11</td><td><div class=\"dni-plaintext\">0.00845629361710988</div></td><td><div class=\"dni-plaintext\">0.0009323829010938756</div></td><td><div class=\"dni-plaintext\">12</div></td><td><div class=\"dni-plaintext\">-1.406847231772814</div></td><td><div class=\"dni-plaintext\">0.0017251358598329607</div></td></tr><tr><td>12</td><td><div class=\"dni-plaintext\">0.005245066323398528</div></td><td><div class=\"dni-plaintext\">0.00028832419865310044</div></td><td><div class=\"dni-plaintext\">13</div></td><td><div class=\"dni-plaintext\">-1.408067938872561</div></td><td><div class=\"dni-plaintext\">0.0007600805896731213</div></td></tr></tbody></table>"
     },
     "output_type": "unknown"
    }
   ],
   "source": [
    "let epsilon = 0.001\r\n",
    "let (eigenValuePower, eigenVectorPower, iterationTablePower) = findEigenPowerMethod epsilon a\r\n",
    "printfn \"Наибольшее по модулю собственное число, полученное степенным методом: %f\" eigenValuePower\r\n",
    "printfn \"Соответствующий ему собственный вектор: %O\" eigenVectorPower\r\n",
    "printfn \"Фактическая погрешнсть: %f\" <| abs (eigenValuePower - a.Evd().EigenValues.[a.Evd().EigenValues.AbsoluteMaximumIndex()].Real)\r\n",
    "iterationTablePower"
   ]
  },
  {
   "cell_type": "markdown",
   "metadata": {},
   "source": [
    "**Задание 3.** Найти методом скалярных произведений с точностью ε^2 = 0.000001 максимальное по модулю собственное число матрицы λ. Сравнить требуемое количество итераций с п.2."
   ]
  },
  {
   "cell_type": "code",
   "execution_count": null,
   "metadata": {
    "dotnet_interactive": {
     "language": "fsharp"
    }
   },
   "outputs": [],
   "source": [
    "let findEigenScalarMethod accuracy (matrix: Matrix<float>) = \r\n",
    "    findEigenIterative accuracy matrix <| fun (currentVector: Vector<float>) (previousVector: Vector<float>) ->\r\n",
    "        // в предположении, что матрица симметрична\r\n",
    "        (currentVector * previousVector) / (previousVector * previousVector)"
   ]
  },
  {
   "cell_type": "code",
   "execution_count": null,
   "metadata": {
    "dotnet_interactive": {
     "language": "fsharp"
    }
   },
   "outputs": [
    {
     "data": {
      "text/plain": "Наибольшее по модулю собственное число, полученное методом скалярных произведений: "
     },
     "output_type": "unknown"
    },
    {
     "data": {
      "text/plain": "-1.407780"
     },
     "output_type": "unknown"
    },
    {
     "data": {
      "text/plain": "\r\n"
     },
     "output_type": "unknown"
    },
    {
     "data": {
      "text/plain": "Соответствующий ему собственный вектор: "
     },
     "output_type": "unknown"
    },
    {
     "data": {
      "text/plain": "DenseVector 3-Double\r\n 0,696591\r\n 0,121497\r\n-0,707106\r\n"
     },
     "output_type": "unknown"
    },
    {
     "data": {
      "text/plain": "\r\n"
     },
     "output_type": "unknown"
    },
    {
     "data": {
      "text/plain": "Фактическая погрешнсть: "
     },
     "output_type": "unknown"
    },
    {
     "data": {
      "text/plain": "0.000000"
     },
     "output_type": "unknown"
    },
    {
     "data": {
      "text/plain": "\r\n"
     },
     "output_type": "unknown"
    },
    {
     "data": {
      "text/html": "<table><thead><tr><th><i>index</i></th><th>AYminusLambdaY</th><th>AbsFactError</th><th>K</th><th>Lambda</th><th>PosteriorEstimation</th></tr></thead><tbody><tr><td>0</td><td><div class=\"dni-plaintext\">1.1382245218511011</div></td><td><div class=\"dni-plaintext\">0.9639081870822439</div></td><td><div class=\"dni-plaintext\">1</div></td><td><div class=\"dni-plaintext\">-0.44387142759166404</div></td><td><div class=\"dni-plaintext\">0.7598378139876837</div></td></tr><tr><td>1</td><td><div class=\"dni-plaintext\">1.070811845196695</div></td><td><div class=\"dni-plaintext\">0.658877252708455</div></td><td><div class=\"dni-plaintext\">2</div></td><td><div class=\"dni-plaintext\">-0.7489023619654529</div></td><td><div class=\"dni-plaintext\">0.6992199829516441</div></td></tr><tr><td>2</td><td><div class=\"dni-plaintext\">0.6565653065148922</div></td><td><div class=\"dni-plaintext\">0.21467973296144516</div></td><td><div class=\"dni-plaintext\">3</div></td><td><div class=\"dni-plaintext\">-1.1930998817124627</div></td><td><div class=\"dni-plaintext\">0.32736770768428286</div></td></tr><tr><td>3</td><td><div class=\"dni-plaintext\">0.3885409372307627</div></td><td><div class=\"dni-plaintext\">0.04664082141588599</div></td><td><div class=\"dni-plaintext\">4</div></td><td><div class=\"dni-plaintext\">-1.361138793258022</div></td><td><div class=\"dni-plaintext\">0.13939030459827187</div></td></tr><tr><td>4</td><td><div class=\"dni-plaintext\">0.252519225724827</div></td><td><div class=\"dni-plaintext\">0.009715219621224458</div></td><td><div class=\"dni-plaintext\">5</div></td><td><div class=\"dni-plaintext\">-1.3980643950526834</div></td><td><div class=\"dni-plaintext\">0.06450081336878374</div></td></tr><tr><td>5</td><td><div class=\"dni-plaintext\">0.1693315760535562</div></td><td><div class=\"dni-plaintext\">0.002096543613842483</div></td><td><div class=\"dni-plaintext\">6</div></td><td><div class=\"dni-plaintext\">-1.4056830710600654</div></td><td><div class=\"dni-plaintext\">0.030737668359132952</div></td></tr><tr><td>6</td><td><div class=\"dni-plaintext\">0.11462602960328858</div></td><td><div class=\"dni-plaintext\">0.0004677220398423554</div></td><td><div class=\"dni-plaintext\">7</div></td><td><div class=\"dni-plaintext\">-1.4073118926340655</div></td><td><div class=\"dni-plaintext\">0.014781638870856434</div></td></tr><tr><td>7</td><td><div class=\"dni-plaintext\">0.0778855195239591</div></td><td><div class=\"dni-plaintext\">0.00010663854864745304</div></td><td><div class=\"dni-plaintext\">8</div></td><td><div class=\"dni-plaintext\">-1.4076729761252604</div></td><td><div class=\"dni-plaintext\">0.007134611962947052</div></td></tr><tr><td>8</td><td><div class=\"dni-plaintext\">0.05301616138745155</div></td><td><div class=\"dni-plaintext\">2.4627863571158315E-05</div></td><td><div class=\"dni-plaintext\">9</div></td><td><div class=\"dni-plaintext\">-1.4077549868103367</div></td><td><div class=\"dni-plaintext\">0.003449763040612405</div></td></tr><tr><td>9</td><td><div class=\"dni-plaintext\">0.036121241229673855</div></td><td><div class=\"dni-plaintext\">5.729388345310227E-06</div></td><td><div class=\"dni-plaintext\">10</div></td><td><div class=\"dni-plaintext\">-1.4077738852855626</div></td><td><div class=\"dni-plaintext\">0.0016695884910306422</div></td></tr><tr><td>10</td><td><div class=\"dni-plaintext\">0.024622495333355764</div></td><td><div class=\"dni-plaintext\">1.3382937003036943E-06</div></td><td><div class=\"dni-plaintext\">11</div></td><td><div class=\"dni-plaintext\">-1.4077782763802076</div></td><td><div class=\"dni-plaintext\">0.0008084334523206799</div></td></tr><tr><td>11</td><td><div class=\"dni-plaintext\">0.016788718688758496</div></td><td><div class=\"dni-plaintext\">3.1330242422633603E-07</div></td><td><div class=\"dni-plaintext\">12</div></td><td><div class=\"dni-plaintext\">-1.4077793013714837</div></td><td><div class=\"dni-plaintext\">0.0003915571125378949</div></td></tr><tr><td>12</td><td><div class=\"dni-plaintext\">0.01144895884201832</div></td><td><div class=\"dni-plaintext\">7.34355449782953E-08</div></td><td><div class=\"dni-plaintext\">13</div></td><td><div class=\"dni-plaintext\">-1.407779541238363</div></td><td><div class=\"dni-plaintext\">0.00018967447599879214</div></td></tr><tr><td>13</td><td><div class=\"dni-plaintext\">0.0078081586967170165</div></td><td><div class=\"dni-plaintext\">1.7224164317042323E-08</div></td><td><div class=\"dni-plaintext\">14</div></td><td><div class=\"dni-plaintext\">-1.4077795974497436</div></td><td><div class=\"dni-plaintext\">9.188758968130473E-05</div></td></tr><tr><td>14</td><td><div class=\"dni-plaintext\">0.005325370829253256</div></td><td><div class=\"dni-plaintext\">4.041360357476265E-09</div></td><td><div class=\"dni-plaintext\">15</div></td><td><div class=\"dni-plaintext\">-1.4077796106325475</div></td><td><div class=\"dni-plaintext\">4.451674596886358E-05</div></td></tr><tr><td>15</td><td><div class=\"dni-plaintext\">0.0036321283144141866</div></td><td><div class=\"dni-plaintext\">9.484244500868044E-10</div></td><td><div class=\"dni-plaintext\">16</div></td><td><div class=\"dni-plaintext\">-1.4077796137254834</div></td><td><div class=\"dni-plaintext\">2.1567512922964466E-05</div></td></tr><tr><td>16</td><td><div class=\"dni-plaintext\">0.0024772965847296735</div></td><td><div class=\"dni-plaintext\">2.225999384819488E-10</div></td><td><div class=\"dni-plaintext\">17</div></td><td><div class=\"dni-plaintext\">-1.407779614451308</div></td><td><div class=\"dni-plaintext\">1.04491801334579E-05</div></td></tr><tr><td>17</td><td><div class=\"dni-plaintext\">0.0016896541212819466</div></td><td><div class=\"dni-plaintext\">5.224842780648942E-11</div></td><td><div class=\"dni-plaintext\">18</div></td><td><div class=\"dni-plaintext\">-1.4077796146216595</div></td><td><div class=\"dni-plaintext\">5.062526994302799E-06</div></td></tr><tr><td>18</td><td><div class=\"dni-plaintext\">0.0011524424416624725</div></td><td><div class=\"dni-plaintext\">1.2264189663824254E-11</div></td><td><div class=\"dni-plaintext\">19</div></td><td><div class=\"dni-plaintext\">-1.4077796146616437</div></td><td><div class=\"dni-plaintext\">2.452754673006468E-06</div></td></tr><tr><td>19</td><td><div class=\"dni-plaintext\">0.0007860344106679564</div></td><td><div class=\"dni-plaintext\">2.878586258248106E-12</div></td><td><div class=\"dni-plaintext\">20</div></td><td><div class=\"dni-plaintext\">-1.4077796146710293</div></td><td><div class=\"dni-plaintext\">1.188342842104278E-06</div></td></tr><tr><td colspan=\"6\">(1 more)</td></tr></tbody></table>"
     },
     "output_type": "unknown"
    }
   ],
   "source": [
    "let epsilon2 = 0.001 ** 2.\r\n",
    "let (eigenValueScalar, eigenVectorScalar, iterationTableScalar) = findEigenScalarMethod epsilon2 a\r\n",
    "printfn \"Наибольшее по модулю собственное число, полученное методом скалярных произведений: %f\" eigenValueScalar\r\n",
    "printfn \"Соответствующий ему собственный вектор: %O\" eigenVectorScalar\r\n",
    "printfn \"Фактическая погрешнсть: %f\" <| abs (eigenValueScalar - a.Evd().EigenValues.[a.Evd().EigenValues.AbsoluteMaximumIndex()].Real)\r\n",
    "iterationTableScalar"
   ]
  }
 ],
 "metadata": {
  "kernelspec": {
   "display_name": ".NET (F#)",
   "language": "F#",
   "name": ".net-fsharp"
  },
  "language_info": {
   "name": "F#",
   "version": ""
  },
  "orig_nbformat": 2
 },
 "nbformat": 4,
 "nbformat_minor": 2
}