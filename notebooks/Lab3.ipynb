{
 "cells": [
  {
   "cell_type": "code",
   "execution_count": null,
   "metadata": {
    "dotnet_interactive": {
     "language": "fsharp"
    }
   },
   "outputs": [
    {
     "data": {
      "text/plain": "Installed package MathNet.Numerics.FSharp version 4.15.0"
     },
     "output_type": "unknown"
    }
   ],
   "source": [
    "#r \"nuget: MathNet.Numerics.FSharp, 4.15.0\"\r\n",
    "\r\n",
    "open MathNet.Numerics.LinearAlgebra"
   ]
  },
  {
   "cell_type": "markdown",
   "metadata": {},
   "source": [
    "## Варинат 9"
   ]
  },
  {
   "cell_type": "code",
   "execution_count": null,
   "metadata": {
    "dotnet_interactive": {
     "language": "fsharp"
    }
   },
   "outputs": [],
   "source": [
    "let matrix = matrix [\r\n",
    "    [-0.90701; -0.27716; 0.44570]\r\n",
    "    [-0.27716; 0.63372; 0.07774]\r\n",
    "    [0.44570; 0.07774; -0.95535]\r\n",
    "]"
   ]
  },
  {
   "cell_type": "markdown",
   "metadata": {},
   "source": [
    "1) Найти степенным методом c точностью ε = 0.001 максимальное по модулю собственное число λ1 матрицы A и соответствующий ему собственный вектор x_1, так чтобы ||x_1||_2 = 1"
   ]
  },
  {
   "cell_type": "code",
   "execution_count": null,
   "metadata": {
    "dotnet_interactive": {
     "language": "fsharp"
    }
   },
   "outputs": [],
   "source": [
    "let epsilon = 0.001\r\n",
    "\r\n",
    "let findPowerMethod (matrix: Matrix<float>) = \r\n",
    "    let step (previous: Vector<float>) = \r\n",
    "        let y = matrix * previous\r\n",
    "        let eigen = Vector.map2 (fun u v -> u / v) y previous\r\n",
    "        y, eigen\r\n",
    "\r\n",
    "    let mutable y = DenseVector.create matrix.RowCount 1.\r\n",
    "    let mutable prevEigen = 0.\r\n",
    "    let mutable currentEigen = 0.\r\n",
    "\r\n",
    "    y <- fst <| step y\r\n",
    "    currentEigen <- snd <| step y\r\n",
    "\r\n",
    "    while (prevEigen - currentEigen).InfinityNorm() >= epsilon do\r\n",
    "        prevEigen <- currentEigen\r\n",
    "        y <- fst <| step y\r\n",
    "        currentEigen <- snd <| step y\r\n",
    "    \r\n",
    "    currentEigen.max"
   ]
  }
 ],
 "metadata": {
  "kernelspec": {
   "display_name": ".NET (F#)",
   "language": "F#",
   "name": ".net-fsharp"
  },
  "language_info": {
   "file_extension": ".fs",
   "mimetype": "text/x-fsharp",
   "name": "C#",
   "pygments_lexer": "fsharp",
   "version": "4.5"
  },
  "orig_nbformat": 2
 },
 "nbformat": 4,
 "nbformat_minor": 2
}