{
 "cells": [
  {
   "cell_type": "code",
   "execution_count": 1,
   "metadata": {
    "dotnet_interactive": {
     "language": "fsharp"
    }
   },
   "outputs": [
    {
     "data": {
      "text/html": "\r\n<div>\r\n    <div id='dotnet-interactive-this-cell-4520.876b130a1b3a4686a8a3e92f709dd9fe' style='display: none'>\r\n        The below script needs to be able to find the current output cell; this is an easy method to get it.\r\n    </div>\r\n    <script type='text/javascript'>\r\n// ensure `require` is available globally\r\nif (typeof require !== typeof Function || typeof require.config !== typeof Function) {\r\n    let require_script = document.createElement('script');\r\n    require_script.setAttribute('src', 'https://cdnjs.cloudflare.com/ajax/libs/require.js/2.3.6/require.min.js');\r\n    require_script.setAttribute('type', 'text/javascript');\r\n    require_script.onload = function () {\r\n        loadDotnetInteractiveApi();\r\n    };\r\n\r\n    document.getElementsByTagName('head')[0].appendChild(require_script);\r\n}\r\nelse {\r\n    loadDotnetInteractiveApi();\r\n}\r\n\r\nasync function probeAddresses(probingAddresses) {\r\n    function timeout(ms, promise) {\r\n        return new Promise(function (resolve, reject) {\r\n            setTimeout(function () {\r\n                reject(new Error('timeout'))\r\n            }, ms)\r\n            promise.then(resolve, reject)\r\n        })\r\n    }\r\n\r\n    if (Array.isArray(probingAddresses)) {\r\n        for (let i = 0; i < probingAddresses.length; i++) {\r\n\r\n            let rootUrl = probingAddresses[i];\r\n\r\n            if (!rootUrl.endsWith('/')) {\r\n                rootUrl = `${rootUrl}/`;\r\n            }\r\n\r\n            try {\r\n                let response = await timeout(1000, fetch(`${rootUrl}discovery`, {\r\n                    method: 'POST',\r\n                    cache: 'no-cache',\r\n                    mode: 'cors',\r\n                    timeout: 1000,\r\n                    headers: {\r\n                        'Content-Type': 'text/plain'\r\n                    },\r\n                    body: probingAddresses[i]\r\n                }));\r\n\r\n                if (response.status == 200) {\r\n                    return rootUrl;\r\n                }\r\n            }\r\n            catch (e) { }\r\n        }\r\n    }\r\n}\r\n\r\nfunction loadDotnetInteractiveApi() {\r\n    probeAddresses([\"http://192.168.1.46:1004/\", \"http://192.168.56.1:1004/\", \"http://192.168.99.1:1004/\", \"http://127.0.0.1:1004/\"])\r\n        .then((root) => {\r\n            // use probing to find host url and api resources\r\n            // load interactive helpers and language services\r\n            let dotnetInteractiveRequire = require.config({\r\n                context: '4520.876b130a1b3a4686a8a3e92f709dd9fe',\r\n                paths: {\r\n                    'dotnet-interactive': `${root}resources`\r\n                }\r\n            }) || require;\r\n\r\n            let dotnetInteractiveExtensionsRequire = require.config({\r\n                context: '4520.876b130a1b3a4686a8a3e92f709dd9fe',\r\n                paths: {\r\n                    'dotnet-interactive-extensions': `${root}extensions`\r\n                }\r\n            }) || require;\r\n\r\n            if (!window.dotnetInteractiveRequire) {\r\n                window.dotnetInteractiveRequire = dotnetInteractiveRequire;\r\n            }\r\n\r\n            if (!window.dotnetInteractiveExtensionsRequire) {\r\n                window.dotnetInteractiveExtensionsRequire = dotnetInteractiveExtensionsRequire;\r\n            }\r\n\r\n            window.getExtensionRequire = function(extensionName, extensionCacheBuster) {\r\n                let paths = {};\r\n                paths[extensionName] = `${root}extensions/${extensionName}/resources/`;\r\n                \r\n                let internalRequire = require.config({\r\n                    context: extensionCacheBuster,\r\n                    paths: paths,\r\n                    urlArgs: `cacheBuster=${extensionCacheBuster}`\r\n                    }) || require;\r\n\r\n                return internalRequire\r\n            };\r\n        \r\n            dotnetInteractiveRequire([\r\n                    'dotnet-interactive/dotnet-interactive'\r\n                ],\r\n                function (dotnet) {\r\n                    dotnet.init(window);\r\n                },\r\n                function (error) {\r\n                    console.log(error);\r\n                }\r\n            );\r\n        })\r\n        .catch(error => {console.log(error);});\r\n    }\r\n    </script>\r\n</div>"
     },
     "metadata": {},
     "output_type": "display_data"
    },
    {
     "data": {
      "text/plain": "Installed package MathNet.Numerics.FSharp version 4.15.0"
     },
     "metadata": {},
     "output_type": "display_data"
    }
   ],
   "source": [
    "#r \"nuget: MathNet.Numerics.FSharp, 4.15.0\"\r\n",
    "\r\n",
    "open MathNet.Numerics.LinearAlgebra"
   ]
  },
  {
   "cell_type": "markdown",
   "metadata": {},
   "source": [
    "# Частичная проблема собственных значений\r\n",
    "## Варинат 9"
   ]
  },
  {
   "cell_type": "code",
   "execution_count": 2,
   "metadata": {
    "dotnet_interactive": {
     "language": "fsharp"
    }
   },
   "outputs": [],
   "source": [
    "let a = matrix [\r\n",
    "    [-0.90701; -0.27716; 0.44570]\r\n",
    "    [-0.27716; 0.63372; 0.07774]\r\n",
    "    [0.44570; 0.07774; -0.95535]\r\n",
    "]"
   ]
  },
  {
   "cell_type": "markdown",
   "metadata": {},
   "source": [
    "**Задание 2.** Найти степенным методом c точностью ε = 0.001 максимальное по модулю собственное число λ матрицы A и соответствующий ему собственный вектор x, так чтобы ||x||_2 = 1"
   ]
  },
  {
   "cell_type": "code",
   "execution_count": 3,
   "metadata": {
    "dotnet_interactive": {
     "language": "fsharp"
    }
   },
   "outputs": [],
   "source": [
    "let findEigenIterative accuracy (matrix: Matrix<float>) step = \r\n",
    "    // firstEstimation.[0] не должен быть слишком мал\r\n",
    "    let firstEstimation = DenseVector.randomStandard<float> a.RowCount\r\n",
    "    firstEstimation.[0] <- 1.\r\n",
    "    \r\n",
    "    let accurateLambda = matrix.Evd().EigenValues.[a.Evd().EigenValues.AbsoluteMaximumIndex()].Real\r\n",
    "\r\n",
    "    let calculatePosteriorEstimation (eigenValueEstimation: float) (eigenVectorEstimation: Vector<float>) = \r\n",
    "        (matrix * eigenVectorEstimation - eigenValueEstimation * eigenVectorEstimation).L2Norm() /\r\n",
    "        eigenVectorEstimation.L2Norm()\r\n",
    "    \r\n",
    "    let rec loop (previousVector: Vector<float>) iterationTable = \r\n",
    "        // unnormalized\r\n",
    "        let y = matrix * previousVector\r\n",
    "        let lambda = step y previousVector\r\n",
    "        let updatedTable = \r\n",
    "            {|\r\n",
    "                K = List.length iterationTable + 1\r\n",
    "                Lambda = lambda\r\n",
    "                AbsFactError = lambda - accurateLambda |> abs\r\n",
    "                AYminusLambdaY = (matrix * y - lambda * y).L2Norm()\r\n",
    "                PosteriorEstimation = calculatePosteriorEstimation lambda y\r\n",
    "            |}\r\n",
    "            |> List.singleton\r\n",
    "            |> List.append iterationTable\r\n",
    "        \r\n",
    "        if calculatePosteriorEstimation lambda y >= accuracy then   \r\n",
    "            loop y updatedTable\r\n",
    "        else \r\n",
    "            lambda, (y / y.L2Norm()), updatedTable\r\n",
    "\r\n",
    "    loop firstEstimation []"
   ]
  },
  {
   "cell_type": "code",
   "execution_count": 4,
   "metadata": {
    "dotnet_interactive": {
     "language": "fsharp"
    }
   },
   "outputs": [],
   "source": [
    "let findEigenPowerMethod accuracy (matrix: Matrix<float>) = \r\n",
    "    findEigenIterative accuracy matrix <| fun (currentVector: Vector<float>) (previousVector: Vector<float>) ->\r\n",
    "        // i любое\r\n",
    "        (Vector.map2 (/) currentVector previousVector).[0]"
   ]
  },
  {
   "cell_type": "code",
   "execution_count": 5,
   "metadata": {
    "dotnet_interactive": {
     "language": "fsharp"
    }
   },
   "outputs": [
    {
     "name": "stdout",
     "output_type": "stream",
     "text": [
      "Наибольшее по модулю собственное число, полученное степенным методом: -1.408069\n",
      "Соответствующий ему собственный вектор: DenseVector 3-Double\n",
      "-0,696639\n",
      "-0,121228\n",
      " 0,707106\n",
      "\n",
      "Фактическая погрешнсть: 0.000289\n"
     ]
    },
    {
     "data": {
      "text/html": "<table><thead><tr><th><i>index</i></th><th>AYminusLambdaY</th><th>AbsFactError</th><th>K</th><th>Lambda</th><th>PosteriorEstimation</th></tr></thead><tbody><tr><td>0</td><td><div class=\"dni-plaintext\">2.2939706272973828</div></td><td><div class=\"dni-plaintext\">0.36709953141458773</div></td><td><div class=\"dni-plaintext\">1</div></td><td><div class=\"dni-plaintext\">-1.7748791460884956</div></td><td><div class=\"dni-plaintext\">0.946508454427856</div></td></tr><tr><td>1</td><td><div class=\"dni-plaintext\">1.2910619630091575</div></td><td><div class=\"dni-plaintext\">0.2016349183185262</div></td><td><div class=\"dni-plaintext\">2</div></td><td><div class=\"dni-plaintext\">-1.2061446963553817</div></td><td><div class=\"dni-plaintext\">0.3987112177691134</div></td></tr><tr><td>2</td><td><div class=\"dni-plaintext\">0.9671243997890169</div></td><td><div class=\"dni-plaintext\">0.08876925502755473</div></td><td><div class=\"dni-plaintext\">3</div></td><td><div class=\"dni-plaintext\">-1.4965488697014626</div></td><td><div class=\"dni-plaintext\">0.21494720703580586</div></td></tr><tr><td>3</td><td><div class=\"dni-plaintext\">0.6422691769297507</div></td><td><div class=\"dni-plaintext\">0.048943511646937</div></td><td><div class=\"dni-plaintext\">4</div></td><td><div class=\"dni-plaintext\">-1.3588361030269709</div></td><td><div class=\"dni-plaintext\">0.10171443157066987</div></td></tr><tr><td>4</td><td><div class=\"dni-plaintext\">0.44056736367309707</div></td><td><div class=\"dni-plaintext\">0.02142604660734837</div></td><td><div class=\"dni-plaintext\">5</div></td><td><div class=\"dni-plaintext\">-1.4292056612812563</div></td><td><div class=\"dni-plaintext\">0.04959764842954086</div></td></tr><tr><td>5</td><td><div class=\"dni-plaintext\">0.3020823047807478</div></td><td><div class=\"dni-plaintext\">0.01133042599872347</div></td><td><div class=\"dni-plaintext\">6</div></td><td><div class=\"dni-plaintext\">-1.3964491886751844</div></td><td><div class=\"dni-plaintext\">0.024160951480677515</div></td></tr><tr><td>6</td><td><div class=\"dni-plaintext\">0.2044852606911593</div></td><td><div class=\"dni-plaintext\">0.005136018561051614</div></td><td><div class=\"dni-plaintext\">7</div></td><td><div class=\"dni-plaintext\">-1.4129156332349595</div></td><td><div class=\"dni-plaintext\">0.01161805978440569</div></td></tr><tr><td>7</td><td><div class=\"dni-plaintext\">0.14054330612146965</div></td><td><div class=\"dni-plaintext\">0.0026210104773711773</div></td><td><div class=\"dni-plaintext\">8</div></td><td><div class=\"dni-plaintext\">-1.4051586041965367</div></td><td><div class=\"dni-plaintext\">0.0056721956643417505</div></td></tr><tr><td>8</td><td><div class=\"dni-plaintext\">0.09523136085599923</div></td><td><div class=\"dni-plaintext\">0.0012215231065701992</div></td><td><div class=\"dni-plaintext\">9</div></td><td><div class=\"dni-plaintext\">-1.409001137780478</div></td><td><div class=\"dni-plaintext\">0.0027301551100321303</div></td></tr><tr><td>9</td><td><div class=\"dni-plaintext\">0.06529925535553019</div></td><td><div class=\"dni-plaintext\">0.0006094081932355166</div></td><td><div class=\"dni-plaintext\">10</div></td><td><div class=\"dni-plaintext\">-1.4071702064806724</div></td><td><div class=\"dni-plaintext\">0.00132978403429513</div></td></tr><tr><td>10</td><td><div class=\"dni-plaintext\">0.044354066938459155</div></td><td><div class=\"dni-plaintext\">0.00028891366056749135</div></td><td><div class=\"dni-plaintext\">11</div></td><td><div class=\"dni-plaintext\">-1.4080685283344754</div></td><td><div class=\"dni-plaintext\">0.0006416108717774776</div></td></tr></tbody></table>"
     },
     "execution_count": 5,
     "metadata": {},
     "output_type": "execute_result"
    }
   ],
   "source": [
    "let epsilon = 0.001\r\n",
    "let (eigenValuePower, eigenVectorPower, iterationTablePower) = findEigenPowerMethod epsilon a\r\n",
    "printfn \"Наибольшее по модулю собственное число, полученное степенным методом: %f\" eigenValuePower\r\n",
    "printfn \"Соответствующий ему собственный вектор: %O\" eigenVectorPower\r\n",
    "printfn \"Фактическая погрешнсть: %f\" <| abs (eigenValuePower - a.Evd().EigenValues.[a.Evd().EigenValues.AbsoluteMaximumIndex()].Real)\r\n",
    "iterationTablePower"
   ]
  },
  {
   "cell_type": "markdown",
   "metadata": {},
   "source": [
    "**Задание 3.** Найти методом скалярных произведений с точностью ε^2 = 0.000001 максимальное по модулю собственное число матрицы λ. Сравнить требуемое количество итераций с п.2."
   ]
  },
  {
   "cell_type": "code",
   "execution_count": 6,
   "metadata": {
    "dotnet_interactive": {
     "language": "fsharp"
    }
   },
   "outputs": [],
   "source": [
    "let findEigenScalarMethod accuracy (matrix: Matrix<float>) = \r\n",
    "    findEigenIterative accuracy matrix <| fun (currentVector: Vector<float>) (previousVector: Vector<float>) ->\r\n",
    "        // в предположении, что матрица симметрична\r\n",
    "        (currentVector * previousVector) / (previousVector * previousVector)"
   ]
  },
  {
   "cell_type": "code",
   "execution_count": 8,
   "metadata": {
    "dotnet_interactive": {
     "language": "fsharp"
    }
   },
   "outputs": [
    {
     "name": "stdout",
     "output_type": "stream",
     "text": [
      "Наибольшее по модулю собственное число, полученное методом скалярных произведений: -1.407780\n",
      "Соответствующий ему собственный вектор: DenseVector 3-Double\n",
      " 0,696591\n",
      " 0,121497\n",
      "-0,707106\n",
      "\n",
      "Фактическая погрешнсть: 0.000000\n"
     ]
    },
    {
     "data": {
      "text/html": "<table><thead><tr><th><i>index</i></th><th>AYminusLambdaY</th><th>AbsFactError</th><th>K</th><th>Lambda</th><th>PosteriorEstimation</th></tr></thead><tbody><tr><td>0</td><td><div class=\"dni-plaintext\">1.083790880705197</div></td><td><div class=\"dni-plaintext\">0.587836786281753</div></td><td><div class=\"dni-plaintext\">1</div></td><td><div class=\"dni-plaintext\">-0.8199428283921549</div></td><td><div class=\"dni-plaintext\">0.7069198381591515</div></td></tr><tr><td>1</td><td><div class=\"dni-plaintext\">0.6779524153390699</div></td><td><div class=\"dni-plaintext\">0.17575068288362306</div></td><td><div class=\"dni-plaintext\">2</div></td><td><div class=\"dni-plaintext\">-1.2320289317902848</div></td><td><div class=\"dni-plaintext\">0.3253078391090966</div></td></tr><tr><td>2</td><td><div class=\"dni-plaintext\">0.4361676138360931</div></td><td><div class=\"dni-plaintext\">0.043618718868072115</div></td><td><div class=\"dni-plaintext\">3</div></td><td><div class=\"dni-plaintext\">-1.3641608958058358</div></td><td><div class=\"dni-plaintext\">0.1499026282533117</div></td></tr><tr><td>3</td><td><div class=\"dni-plaintext\">0.2921397140951521</div></td><td><div class=\"dni-plaintext\">0.010328220823764056</div></td><td><div class=\"dni-plaintext\">4</div></td><td><div class=\"dni-plaintext\">-1.3974513938501438</div></td><td><div class=\"dni-plaintext\">0.07145740410978563</div></td></tr><tr><td>4</td><td><div class=\"dni-plaintext\">0.1983090543737116</div></td><td><div class=\"dni-plaintext\">0.002423291875353728</div></td><td><div class=\"dni-plaintext\">5</div></td><td><div class=\"dni-plaintext\">-1.4053563227985542</div></td><td><div class=\"dni-plaintext\">0.03447139823375866</div></td></tr><tr><td>5</td><td><div class=\"dni-plaintext\">0.13508543591219951</div></td><td><div class=\"dni-plaintext\">0.0005680058784465203</div></td><td><div class=\"dni-plaintext\">6</div></td><td><div class=\"dni-plaintext\">-1.4072116087954614</div></td><td><div class=\"dni-plaintext\">0.01668151879310448</div></td></tr><tr><td>6</td><td><div class=\"dni-plaintext\">0.09210093686355766</div></td><td><div class=\"dni-plaintext\">0.0001331882479431723</div></td><td><div class=\"dni-plaintext\">7</div></td><td><div class=\"dni-plaintext\">-1.4076464264259647</div></td><td><div class=\"dni-plaintext\">0.008079175709926346</div></td></tr><tr><td>7</td><td><div class=\"dni-plaintext\">0.0628098623702309</div></td><td><div class=\"dni-plaintext\">3.1243699033511874E-05</div></td><td><div class=\"dni-plaintext\">8</div></td><td><div class=\"dni-plaintext\">-1.4077483709748744</div></td><td><div class=\"dni-plaintext\">0.003913800306886272</div></td></tr><tr><td>8</td><td><div class=\"dni-plaintext\">0.042837708915344434</div></td><td><div class=\"dni-plaintext\">7.331291391077244E-06</div></td><td><div class=\"dni-plaintext\">9</div></td><td><div class=\"dni-plaintext\">-1.4077722833825168</div></td><td><div class=\"dni-plaintext\">0.0018961075516774506</div></td></tr><tr><td>9</td><td><div class=\"dni-plaintext\">0.029217144056296773</div></td><td><div class=\"dni-plaintext\">1.7205593854097145E-06</div></td><td><div class=\"dni-plaintext\">10</div></td><td><div class=\"dni-plaintext\">-1.4077778941145225</div></td><td><div class=\"dni-plaintext\">0.0009186285930617699</div></td></tr><tr><td>10</td><td><div class=\"dni-plaintext\">0.019927604647421878</div></td><td><div class=\"dni-plaintext\">4.0383014265898964E-07</div></td><td><div class=\"dni-plaintext\">11</div></td><td><div class=\"dni-plaintext\">-1.4077792108437652</div></td><td><div class=\"dni-plaintext\">0.00044506419351029774</div></td></tr><tr><td>11</td><td><div class=\"dni-plaintext\">0.013591747011634384</div></td><td><div class=\"dni-plaintext\">9.478721452182981E-08</div></td><td><div class=\"dni-plaintext\">12</div></td><td><div class=\"dni-plaintext\">-1.4077795198866934</div></td><td><div class=\"dni-plaintext\">0.0002156294995036528</div></td></tr><tr><td>12</td><td><div class=\"dni-plaintext\">0.009270367285586804</div></td><td><div class=\"dni-plaintext\">2.2249118103445653E-08</div></td><td><div class=\"dni-plaintext\">13</div></td><td><div class=\"dni-plaintext\">-1.4077795924247898</div></td><td><div class=\"dni-plaintext\">0.00010447085840784088</div></td></tr><tr><td>13</td><td><div class=\"dni-plaintext\">0.006322944712166565</div></td><td><div class=\"dni-plaintext\">5.222547283523227E-09</div></td><td><div class=\"dni-plaintext\">14</div></td><td><div class=\"dni-plaintext\">-1.4077796094513606</div></td><td><div class=\"dni-plaintext\">5.06154304890581E-05</div></td></tr><tr><td>14</td><td><div class=\"dni-plaintext\">0.0043126305040056545</div></td><td><div class=\"dni-plaintext\">1.22590160245295E-09</div></td><td><div class=\"dni-plaintext\">15</div></td><td><div class=\"dni-plaintext\">-1.4077796134480063</div></td><td><div class=\"dni-plaintext\">2.4522860574592812E-05</div></td></tr><tr><td>15</td><td><div class=\"dni-plaintext\">0.0029414762441845235</div></td><td><div class=\"dni-plaintext\">2.8776003802022387E-10</div></td><td><div class=\"dni-plaintext\">16</div></td><td><div class=\"dni-plaintext\">-1.4077796143861478</div></td><td><div class=\"dni-plaintext\">1.1881179350261935E-05</div></td></tr><tr><td>16</td><td><div class=\"dni-plaintext\">0.002006266236196048</div></td><td><div class=\"dni-plaintext\">6.754730108582407E-11</div></td><td><div class=\"dni-plaintext\">17</div></td><td><div class=\"dni-plaintext\">-1.4077796146063606</div></td><td><div class=\"dni-plaintext\">5.756362015186479E-06</div></td></tr><tr><td>17</td><td><div class=\"dni-plaintext\">0.001368396173113524</div></td><td><div class=\"dni-plaintext\">1.5855761148486636E-11</div></td><td><div class=\"dni-plaintext\">18</div></td><td><div class=\"dni-plaintext\">-1.4077796146580521</div></td><td><div class=\"dni-plaintext\">2.788924215410476E-06</div></td></tr><tr><td>18</td><td><div class=\"dni-plaintext\">0.0009333298895603946</div></td><td><div class=\"dni-plaintext\">3.721911667753375E-12</div></td><td><div class=\"dni-plaintext\">19</div></td><td><div class=\"dni-plaintext\">-1.407779614670186</div></td><td><div class=\"dni-plaintext\">1.3512178204473043E-06</div></td></tr><tr><td>19</td><td><div class=\"dni-plaintext\">0.0006365881020911181</div></td><td><div class=\"dni-plaintext\">8.737455203799982E-13</div></td><td><div class=\"dni-plaintext\">20</div></td><td><div class=\"dni-plaintext\">-1.4077796146730341</div></td><td><div class=\"dni-plaintext\">6.546573306121673E-07</div></td></tr></tbody></table>"
     },
     "execution_count": 8,
     "metadata": {},
     "output_type": "execute_result"
    }
   ],
   "source": [
    "let epsilon2 = 0.001 ** 2.\r\n",
    "let (eigenValueScalar, eigenVectorScalar, iterationTableScalar) = findEigenScalarMethod epsilon2 a\r\n",
    "printfn \"Наибольшее по модулю собственное число, полученное методом скалярных произведений: %f\" eigenValueScalar\r\n",
    "printfn \"Соответствующий ему собственный вектор: %O\" eigenVectorScalar\r\n",
    "printfn \"Фактическая погрешнсть: %f\" <| abs (eigenValueScalar - a.Evd().EigenValues.[a.Evd().EigenValues.AbsoluteMaximumIndex()].Real)\r\n",
    "iterationTableScalar"
   ]
  }
 ],
 "metadata": {
  "kernelspec": {
   "display_name": ".NET (F#)",
   "language": "F#",
   "name": ".net-fsharp"
  },
  "language_info": {
   "file_extension": ".fs",
   "mimetype": "text/x-fsharp",
   "name": "C#",
   "pygments_lexer": "fsharp",
   "version": "4.5"
  },
  "orig_nbformat": 2
 },
 "nbformat": 4,
 "nbformat_minor": 2
}