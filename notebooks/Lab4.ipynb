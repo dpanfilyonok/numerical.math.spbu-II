{
 "cells": [
  {
   "cell_type": "code",
   "execution_count": null,
   "metadata": {
    "dotnet_interactive": {
     "language": "fsharp"
    }
   },
   "outputs": [],
   "source": [
    "#r \"nuget: MathNet.Numerics.FSharp, 4.15.0\"\r\n",
    "#r \"nuget: XPlot.GoogleCharts, 3.0.1\"\r\n",
    "\r\n",
    "open MathNet.Numerics.LinearAlgebra\r\n",
    "open XPlot.GoogleCharts"
   ]
  },
  {
   "cell_type": "markdown",
   "metadata": {},
   "source": [
    "## Вариант 9"
   ]
  },
  {
   "cell_type": "code",
   "execution_count": null,
   "metadata": {
    "dotnet_interactive": {
     "language": "fsharp"
    }
   },
   "outputs": [],
   "source": [
    "let a = 0.\r\n",
    "let b = 1.\r\n",
    "let lambda = 0.1\r\n",
    "let h = fun x y -> - lambda * sin (x * (0.5 + y ** 2.))\r\n",
    "let f = fun x -> x + 0.1"
   ]
  },
  {
   "cell_type": "code",
   "execution_count": null,
   "metadata": {
    "dotnet_interactive": {
     "language": "fsharp"
    }
   },
   "outputs": [],
   "source": [
    "/// Отрезок [A; B]\r\n",
    "type LineSegment = {\r\n",
    "    Left: float\r\n",
    "    Right: float\r\n",
    "} with \r\n",
    "    static member Default = {\r\n",
    "        Left = 0.\r\n",
    "        Right = 1. \r\n",
    "    } \r\n",
    "    \r\n",
    "    member this.Length = \r\n",
    "        this.Right - this.Left\r\n",
    "        \r\n",
    "    member this.Middle = \r\n",
    "        (this.Left + this.Right) / 2.\r\n",
    "\r\n",
    "    override this.ToString () = \r\n",
    "        sprintf \"[%0.2f , %0.2f]\" this.Left this.Right\r\n",
    "\r\n",
    "module Segment = \r\n",
    "    open System\r\n",
    "\r\n",
    "    type SegmentType = \r\n",
    "        | WithRightEndpoint\r\n",
    "        | WithLeftEndpoint\r\n",
    "        | WithBothEndpoints\r\n",
    "        | WithoutBothEndpoints\r\n",
    "\r\n",
    "    let splitSegmentWithStep stepSize segment = \r\n",
    "        Seq.unfold \r\n",
    "            (fun leftBorder -> \r\n",
    "                if Math.Abs (leftBorder - segment.Right) < 1e-10 then None\r\n",
    "                else\r\n",
    "                    let rightBoarder = min segment.Right (leftBorder + stepSize)\r\n",
    "                    Some ({Left = leftBorder; Right = rightBoarder}, rightBoarder)\r\n",
    "            ) segment.Left\r\n",
    "\r\n",
    "    let splitSegmentIntoEqualParts amountOfParts segment = \r\n",
    "        splitSegmentWithStep ((segment.Right - segment.Left) / (float)amountOfParts) segment\r\n",
    "\r\n",
    "    let getEquidistantPoints sType amountOfParts (segment: LineSegment) = \r\n",
    "        let bothEndpoint = \r\n",
    "            splitSegmentIntoEqualParts amountOfParts segment\r\n",
    "            |> Seq.map (fun segment -> segment.Right)\r\n",
    "            |> Seq.toList\r\n",
    "            |> (fun tail -> segment.Left :: tail)\r\n",
    "        let withoutLeft = lazy bothEndpoint.Tail\r\n",
    "        let withoutRight = lazy List.take (bothEndpoint.Length - 1) bothEndpoint\r\n",
    "        let withoutBoth = lazy withoutRight.Value.Tail\r\n",
    "\r\n",
    "        match sType with \r\n",
    "        | WithBothEndpoints -> bothEndpoint\r\n",
    "        | WithLeftEndpoint -> withoutRight.Value\r\n",
    "        | WithRightEndpoint -> withoutLeft.Value\r\n",
    "        | WithoutBothEndpoints -> withoutBoth.Value"
   ]
  },
  {
   "cell_type": "code",
   "execution_count": null,
   "metadata": {
    "dotnet_interactive": {
     "language": "fsharp"
    }
   },
   "outputs": [],
   "source": [
    "open Segment\r\n",
    "\r\n",
    "let solveQuadrature (h: float -> float -> float) f (segment: LineSegment) knotsCount= \r\n",
    "    let compositeTrapezoidalRule (segment: LineSegment) knotsCount = \r\n",
    "        let knots = segment |> Segment.getEquidistantPoints WithBothEndpoints (knotsCount - 1)\r\n",
    "        let coeffs = \r\n",
    "            List.init knotsCount (fun i ->\r\n",
    "                if i = 0 then (knots.[1] - knots.[0]) / 2.\r\n",
    "                elif i = knotsCount - 1 then (knots.[knotsCount - 1] - knots.[knotsCount - 2]) / 2.\r\n",
    "                else (knots.[i + 1] - knots.[i - 1]) / 2.\r\n",
    "            )\r\n",
    "\r\n",
    "        knots, coeffs\r\n",
    "\r\n",
    "    let (knots, coeffs) = compositeTrapezoidalRule segment knotsCount\r\n",
    "\r\n",
    "    let d = \r\n",
    "        DenseMatrix.init knotsCount knotsCount (fun i j ->\r\n",
    "            (if i = j then 1. else 0.) - coeffs.[j] * h knots.[i] knots.[j]\r\n",
    "        )\r\n",
    "    let g = DenseVector.ofList knots |> Vector.map f\r\n",
    "    let z = d.Solve g\r\n",
    "    let u = fun x -> (Vector.sum <| DenseVector.init knotsCount (fun i -> coeffs.[i] * h x knots.[i] * z.[i])) + f x\r\n",
    "\r\n",
    "    u, knots, coeffs"
   ]
  },
  {
   "cell_type": "code",
   "execution_count": null,
   "metadata": {
    "dotnet_interactive": {
     "language": "fsharp"
    }
   },
   "outputs": [
    {
     "data": {
      "text/html": "<table><thead><tr><th><i>index</i></th><th>KnotsCount</th><th>ValueInA</th><th>ValueInMiddle</th><th>ValueInB</th></tr></thead><tbody><tr><td>0</td><td><div class=\"dni-plaintext\">2</div></td><td><div class=\"dni-plaintext\">0.1</div></td><td><div class=\"dni-plaintext\">0.5631316507830182</div></td><td><div class=\"dni-plaintext\">1.0454607780663607</div></td></tr><tr><td>1</td><td><div class=\"dni-plaintext\">4</div></td><td><div class=\"dni-plaintext\">0.1</div></td><td><div class=\"dni-plaintext\">0.5723679624966344</div></td><td><div class=\"dni-plaintext\">1.053999664259087</div></td></tr><tr><td>2</td><td><div class=\"dni-plaintext\">8</div></td><td><div class=\"dni-plaintext\">0.1</div></td><td><div class=\"dni-plaintext\">0.5732586500927012</div></td><td><div class=\"dni-plaintext\">1.054507667179724</div></td></tr><tr><td>3</td><td><div class=\"dni-plaintext\">16</div></td><td><div class=\"dni-plaintext\">0.1</div></td><td><div class=\"dni-plaintext\">0.5734139921437909</div></td><td><div class=\"dni-plaintext\">1.0545896445289982</div></td></tr><tr><td>4</td><td><div class=\"dni-plaintext\">32</div></td><td><div class=\"dni-plaintext\">0.1</div></td><td><div class=\"dni-plaintext\">0.5734470585075647</div></td><td><div class=\"dni-plaintext\">1.0546068399378103</div></td></tr><tr><td>5</td><td><div class=\"dni-plaintext\">64</div></td><td><div class=\"dni-plaintext\">0.1</div></td><td><div class=\"dni-plaintext\">0.5734547167073013</div></td><td><div class=\"dni-plaintext\">1.054610809671885</div></td></tr><tr><td>6</td><td><div class=\"dni-plaintext\">128</div></td><td><div class=\"dni-plaintext\">0.1</div></td><td><div class=\"dni-plaintext\">0.5734565611310649</div></td><td><div class=\"dni-plaintext\">1.0546117650386602</div></td></tr><tr><td>7</td><td><div class=\"dni-plaintext\">256</div></td><td><div class=\"dni-plaintext\">0.1</div></td><td><div class=\"dni-plaintext\">0.5734570138118867</div></td><td><div class=\"dni-plaintext\">1.0546119994738747</div></td></tr></tbody></table>"
     },
     "output_type": "unknown"
    },
    {
     "data": {
      "text/html": "<div class=\"dni-plaintext\">4.5268082182747804E-07</div>"
     },
     "output_type": "unknown"
    }
   ],
   "source": [
    "open System.Collections.Generic\r\n",
    "\r\n",
    "let doWhile body condition =\r\n",
    "    body ()\r\n",
    "    while condition () do\r\n",
    "        body ()\r\n",
    "\r\n",
    "type InerationTableRecord = {\r\n",
    "    KnotsCount: int\r\n",
    "    ValueInA: float\r\n",
    "    ValueInMiddle: float\r\n",
    "    ValueInB: float\r\n",
    "}\r\n",
    "\r\n",
    "let iterationTable = List<InerationTableRecord>()\r\n",
    "\r\n",
    "let mutable n = 2\r\n",
    "let middle = (a + b) / 2.\r\n",
    "let epsilon = 0.000001\r\n",
    "let taskSolver = solveQuadrature h f { Left = a; Right = b }\r\n",
    "\r\n",
    "let (u, knots, coeffs) = taskSolver n\r\n",
    "let mutable prevIteration = u\r\n",
    "\r\n",
    "{\r\n",
    "    KnotsCount = n\r\n",
    "    ValueInA = prevIteration a\r\n",
    "    ValueInMiddle = prevIteration middle\r\n",
    "    ValueInB = prevIteration b\r\n",
    "} \r\n",
    "|> iterationTable.Add\r\n",
    "\r\n",
    "[\r\n",
    "    List.init n (fun i -> i, knots.[i] :> value)\r\n",
    "    List.init n (fun i -> i, coeffs.[i] :> value)\r\n",
    "    List.init n (fun i -> i, u knots.[i] :> value)\r\n",
    "]\r\n",
    "|> Chart.Table\r\n",
    "|> Chart.WithLabels [\"Knot Index\"; \"Knot\"; \"Coeff\"; \"Value\"]\r\n",
    "|> Chart.Show\r\n",
    "\r\n",
    "let mutable currIteration = prevIteration\r\n",
    "\r\n",
    "doWhile \r\n",
    "    <| fun () ->\r\n",
    "        prevIteration <- currIteration\r\n",
    "\r\n",
    "        n <- n * 2\r\n",
    "        let (u, knots, coeffs) = taskSolver n\r\n",
    "        currIteration <- u\r\n",
    "\r\n",
    "        [\r\n",
    "            List.init n (fun i -> i, knots.[i] :> value)\r\n",
    "            List.init n (fun i -> i, coeffs.[i] :> value)\r\n",
    "            List.init n (fun i -> i, u knots.[i] :> value)\r\n",
    "        ]\r\n",
    "        |> Chart.Table\r\n",
    "        |> Chart.WithLabels [\"Knot Index\"; \"Knot\"; \"Coeff\"; \"Value\"]\r\n",
    "        |> Chart.Show\r\n",
    "\r\n",
    "        {\r\n",
    "            KnotsCount = n\r\n",
    "            ValueInA = currIteration a\r\n",
    "            ValueInMiddle = currIteration middle\r\n",
    "            ValueInB = currIteration b\r\n",
    "        }\r\n",
    "        |> iterationTable.Add\r\n",
    "\r\n",
    "    <| fun () -> \r\n",
    "        [\r\n",
    "            currIteration a - prevIteration a\r\n",
    "            currIteration middle - prevIteration middle\r\n",
    "            currIteration b - prevIteration b\r\n",
    "        ]\r\n",
    "        |> List.map abs\r\n",
    "        |> List.max >= epsilon\r\n",
    "\r\n",
    "display iterationTable\r\n",
    "\r\n",
    "[\r\n",
    "    currIteration a - prevIteration a\r\n",
    "    currIteration middle - prevIteration middle\r\n",
    "    currIteration b - prevIteration b\r\n",
    "]\r\n",
    "|> List.map abs\r\n",
    "|> List.max"
   ]
  }
 ],
 "metadata": {
  "kernelspec": {
   "display_name": ".NET (C#)",
   "language": "C#",
   "name": ".net-csharp"
  },
  "language_info": {
   "name": "C#",
   "version": ""
  },
  "orig_nbformat": 2
 },
 "nbformat": 4,
 "nbformat_minor": 2
}