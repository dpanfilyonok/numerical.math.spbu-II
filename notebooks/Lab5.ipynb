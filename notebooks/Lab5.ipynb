{
 "cells": [
  {
   "cell_type": "code",
   "execution_count": null,
   "metadata": {
    "dotnet_interactive": {
     "language": "fsharp"
    }
   },
   "outputs": [
    {
     "data": {
      "text/plain": "Installed package MathNet.Numerics.FSharp version 4.15.0"
     },
     "output_type": "unknown"
    }
   ],
   "source": [
    "#r \"nuget: MathNet.Numerics.FSharp, 4.15.0\""
   ]
  },
  {
   "cell_type": "code",
   "execution_count": null,
   "metadata": {
    "dotnet_interactive": {
     "language": "fsharp"
    }
   },
   "outputs": [],
   "source": [
    "open MathNet.Numerics.LinearAlgebra\r\n",
    "open MathNet.Numerics.Integration\r\n",
    "open System.Collections.Generic"
   ]
  },
  {
   "cell_type": "markdown",
   "metadata": {},
   "source": [
    "Рассмотрим краевую задачу для линейного обыкновенного дифференциального уравнения\r\n",
    "второго порядка с однородными граничными условиями."
   ]
  },
  {
   "cell_type": "code",
   "execution_count": null,
   "metadata": {
    "dotnet_interactive": {
     "language": "fsharp"
    }
   },
   "outputs": [],
   "source": [
    "let l u du d2u = fun x ->\r\n",
    "    - (6. + x) / (7. + 3. * x) * d2u x\r\n",
    "    - (1. - x / 2.) * du x\r\n",
    "    + (1. + 0.5 * cos x) * u x\r\n",
    "\r\n",
    "let f = fun x -> 1. - x / 3.\r\n",
    "\r\n",
    "let left = -1.\r\n",
    "let right = 1.\r\n",
    "\r\n",
    "let (alpha1, alpha2) = -2., -1\r\n",
    "let (beta1, beta2) = 0., 1"
   ]
  },
  {
   "cell_type": "code",
   "execution_count": null,
   "metadata": {
    "dotnet_interactive": {
     "language": "fsharp"
    }
   },
   "outputs": [],
   "source": [
    "let k = 2\r\n",
    "\r\n",
    "/// k - верхний индекс, n - максимальная степень\r\n",
    "let jacobiPolynomials k =\r\n",
    "    let rec recurrenceRelation n prevPoly2 prevPoly = seq {\r\n",
    "        yield prevPoly2\r\n",
    "        yield! \r\n",
    "            fun (x: float) -> \r\n",
    "                (\r\n",
    "                    (float n + float k + 2.) * (2. * float n + 2. * float k + 3.) * x * prevPoly x - \r\n",
    "                    (float n + float k + 2.) * (float n + float k + 1.) * prevPoly2 x\r\n",
    "                ) \r\n",
    "                / ((float n + 2. * float k + 2.) * (float n + 2.))\r\n",
    "            |> recurrenceRelation (n + 1) prevPoly\r\n",
    "    }   \r\n",
    "\r\n",
    "    recurrenceRelation 0 (fun x -> 1.) (fun x -> (float k + 1.) * x) \r\n",
    "\r\n",
    "let jacobiDerivatives k =\r\n",
    "    let jacobi = jacobiPolynomials (k + 1)\r\n",
    "\r\n",
    "    let rec recurrenceRelation n = seq {\r\n",
    "        yield fun (x: float) -> (float n + 2. * float k + 1.) / 2. * (jacobi |> Seq.item (n - 1)) x\r\n",
    "        yield! recurrenceRelation (n + 1)\r\n",
    "    }   \r\n",
    "\r\n",
    "    seq {\r\n",
    "        yield (fun x -> 0.) \r\n",
    "        yield! recurrenceRelation 1\r\n",
    "    }\r\n",
    "   \r\n",
    "let jacobiDerivatives2 k = \r\n",
    "    let jacobi = jacobiPolynomials (k + 2)\r\n",
    "\r\n",
    "    let rec recurrenceRelation n = seq {\r\n",
    "        yield fun (x: float) -> (float n + 2. * float k + 1.) * (float n + 2. * float k + 2.) / 4. * (jacobi |> Seq.item (n - 2)) x\r\n",
    "        yield! recurrenceRelation (n + 1)\r\n",
    "    }   \r\n",
    "\r\n",
    "    seq {\r\n",
    "        yield (fun x -> 0.) \r\n",
    "        yield (fun x -> 0.) \r\n",
    "        yield! recurrenceRelation 2  \r\n",
    "    } "
   ]
  },
  {
   "cell_type": "code",
   "execution_count": null,
   "metadata": {
    "dotnet_interactive": {
     "language": "fsharp"
    }
   },
   "outputs": [],
   "source": [
    "let w1 = fun x -> x ** 2. - 2. * x - 5.\r\n",
    "let dw1 = fun x -> 2. * x - 2.\r\n",
    "let ddw1 = fun x -> 2.\r\n",
    "\r\n",
    "let w2 = fun x -> x ** 3. - 3. * x + 2.\r\n",
    "let dw2 = fun x -> 3. * x ** 2. - 3.\r\n",
    "let ddw2 = fun x -> 6. * x"
   ]
  },
  {
   "cell_type": "code",
   "execution_count": null,
   "metadata": {
    "dotnet_interactive": {
     "language": "fsharp"
    }
   },
   "outputs": [],
   "source": [
    "let coordinateFunctionsAndDerivatives =\r\n",
    "    let jacobi = jacobiPolynomials k\r\n",
    "    let jacobiD = jacobiDerivatives k\r\n",
    "    let jacobiD2 = jacobiDerivatives2 k\r\n",
    "\r\n",
    "    let rec recurrenceRelation n = seq {\r\n",
    "        yield \r\n",
    "            (fun (x: float) -> (1. - x ** 2.) ** 2. * (Seq.item (n - 2) jacobi) x),\r\n",
    "            (fun (x: float) -> -2. * float (n - 2) * (1. - x ** 2.) * (Seq.item (n - 1) jacobi) x),\r\n",
    "            (fun (x: float) -> -2. * float (n - 2) * (((-2. * x) * (Seq.item (n - 1) jacobi) x + (1. - x ** 2.) * (float (n - 2) + 3.)) / 2.) * (Seq.item (n - 2) jacobi) x)\r\n",
    "            \r\n",
    "        yield! recurrenceRelation (n + 1)\r\n",
    "    } \r\n",
    "\r\n",
    "    seq {\r\n",
    "        yield (w1, dw1, ddw1)\r\n",
    "        yield (w2, dw2, ddw2)\r\n",
    "        yield! recurrenceRelation 2\r\n",
    "    }"
   ]
  },
  {
   "cell_type": "code",
   "execution_count": null,
   "metadata": {
    "dotnet_interactive": {
     "language": "fsharp"
    }
   },
   "outputs": [
    {
     "data": {
      "text/html": "<table><thead><tr><th><i>index</i></th><th>N</th><th>CondA</th><th>Yn_05</th><th>Yn0</th><th>Yn05</th></tr></thead><tbody><tr><td>0</td><td><div class=\"dni-plaintext\">3</div></td><td><div class=\"dni-plaintext\">417.6371330289169</div></td><td><div class=\"dni-plaintext\">0.5969500889993333</div></td><td><div class=\"dni-plaintext\">0.4716895571601008</div></td><td><div class=\"dni-plaintext\">0.5557339880242801</div></td></tr><tr><td>1</td><td><div class=\"dni-plaintext\">4</div></td><td><div class=\"dni-plaintext\">1991.0724493971406</div></td><td><div class=\"dni-plaintext\">0.588851728499239</div></td><td><div class=\"dni-plaintext\">0.49885861995149716</div></td><td><div class=\"dni-plaintext\">0.5480519853642027</div></td></tr><tr><td>2</td><td><div class=\"dni-plaintext\">5</div></td><td><div class=\"dni-plaintext\">66079.255567005</div></td><td><div class=\"dni-plaintext\">0.5919749040715132</div></td><td><div class=\"dni-plaintext\">0.4763525852639595</div></td><td><div class=\"dni-plaintext\">0.5531347916774096</div></td></tr><tr><td>3</td><td><div class=\"dni-plaintext\">6</div></td><td><div class=\"dni-plaintext\">890110.6719833454</div></td><td><div class=\"dni-plaintext\">0.5905999247778897</div></td><td><div class=\"dni-plaintext\">0.4646259787127684</div></td><td><div class=\"dni-plaintext\">0.5518730735793704</div></td></tr><tr><td>4</td><td><div class=\"dni-plaintext\">7</div></td><td><div class=\"dni-plaintext\">17639724.79134643</div></td><td><div class=\"dni-plaintext\">0.5909121420363972</div></td><td><div class=\"dni-plaintext\">0.4558703417092177</div></td><td><div class=\"dni-plaintext\">0.5515554229563946</div></td></tr></tbody></table>"
     },
     "output_type": "unknown"
    }
   ],
   "source": [
    "let n = 7\r\n",
    "let coordinates = \r\n",
    "    coordinateFunctionsAndDerivatives \r\n",
    "    |> Seq.take n\r\n",
    "    |> Seq.toList\r\n",
    "\r\n",
    "let a = DenseMatrix.init n n (fun i j ->\r\n",
    "    let (wi, dwi, ddwi) = coordinates.[i]\r\n",
    "    let (wj, dwj, ddwj) = coordinates.[j]\r\n",
    "    let lwj = l wj dwj ddwj\r\n",
    "    let lwi = l wi dwi ddwi\r\n",
    "    GaussLegendreRule.Integrate((fun x -> lwj x * lwi x), left, right, 20)\r\n",
    ")    \r\n",
    "\r\n",
    "let b = DenseVector.init n (fun i ->\r\n",
    "    let (wi, dwi, ddwi) = coordinates.[i]\r\n",
    "    let lwi = l wi dwi ddwi\r\n",
    "    GaussLegendreRule.Integrate((fun x -> f x * lwi x), left, right, 20)\r\n",
    ")\r\n",
    "\r\n",
    "type Info = {\r\n",
    "    N: int\r\n",
    "    CondA: float\r\n",
    "    Yn_05: float\r\n",
    "    Yn0: float\r\n",
    "    Yn05: float\r\n",
    "}\r\n",
    "\r\n",
    "let table = List<Info>()\r\n",
    "\r\n",
    "for k = 3 to n do\r\n",
    "    let c = a.[0 .. k - 1, 0 .. k - 1].Solve(b.[0 .. k - 1])\r\n",
    "    let u = fun x ->\r\n",
    "        [ 0 .. k - 1 ]\r\n",
    "        |> List.map \r\n",
    "            (fun i -> \r\n",
    "                let (wi, _, _) = coordinates.[i]\r\n",
    "                wi x * c.[i]\r\n",
    "            )\r\n",
    "        |> List.sum\r\n",
    "    \r\n",
    "    {\r\n",
    "        N = k\r\n",
    "        CondA = a.[0 .. k - 1, 0 .. k - 1].ConditionNumber()\r\n",
    "        Yn_05 = u -0.5\r\n",
    "        Yn0 = u 0.\r\n",
    "        Yn05 = u 0.5\r\n",
    "    }\r\n",
    "    |> table.Add\r\n",
    "\r\n",
    "table"
   ]
  },
  {
   "cell_type": "code",
   "execution_count": null,
   "metadata": {
    "dotnet_interactive": {
     "language": "fsharp"
    }
   },
   "outputs": [],
   "source": [
    "let getChebyshevRoots n = \r\n",
    "    [0 .. (n - 1)]\r\n",
    "    |> List.map (fun k -> Math.Cos (Math.PI * (float k + 0.5) / float n))"
   ]
  },
  {
   "cell_type": "code",
   "execution_count": null,
   "metadata": {
    "dotnet_interactive": {
     "language": "fsharp"
    }
   },
   "outputs": [
    {
     "data": {
      "text/html": "<table><thead><tr><th><i>index</i></th><th>N</th><th>CondA</th><th>Yn_05</th><th>Yn0</th><th>Yn05</th></tr></thead><tbody><tr><td>0</td><td><div class=\"dni-plaintext\">3</div></td><td><div class=\"dni-plaintext\">198.55566467364758</div></td><td><div class=\"dni-plaintext\">0.43049305815253897</div></td><td><div class=\"dni-plaintext\">0.5537852759352879</div></td><td><div class=\"dni-plaintext\">0.545079257226006</div></td></tr><tr><td>1</td><td><div class=\"dni-plaintext\">4</div></td><td><div class=\"dni-plaintext\">201.27274263047917</div></td><td><div class=\"dni-plaintext\">0.5646642035920786</div></td><td><div class=\"dni-plaintext\">0.5349428245974295</div></td><td><div class=\"dni-plaintext\">0.5606379924701927</div></td></tr><tr><td>2</td><td><div class=\"dni-plaintext\">5</div></td><td><div class=\"dni-plaintext\">405.28738574716874</div></td><td><div class=\"dni-plaintext\">0.5842656610150162</div></td><td><div class=\"dni-plaintext\">0.5102673627356759</div></td><td><div class=\"dni-plaintext\">0.5594621824606794</div></td></tr><tr><td>3</td><td><div class=\"dni-plaintext\">6</div></td><td><div class=\"dni-plaintext\">1026.8108642849083</div></td><td><div class=\"dni-plaintext\">0.5883734909029307</div></td><td><div class=\"dni-plaintext\">0.46465324867256486</div></td><td><div class=\"dni-plaintext\">0.5497129608472219</div></td></tr><tr><td>4</td><td><div class=\"dni-plaintext\">7</div></td><td><div class=\"dni-plaintext\">7557.66107257316</div></td><td><div class=\"dni-plaintext\">0.5885859491770903</div></td><td><div class=\"dni-plaintext\">0.4618169913395334</div></td><td><div class=\"dni-plaintext\">0.5494710826787325</div></td></tr></tbody></table>"
     },
     "output_type": "unknown"
    }
   ],
   "source": [
    "let roots = getChebyshevRoots n\r\n",
    "\r\n",
    "let aCollocation = DenseMatrix.init n n (fun i j ->\r\n",
    "    let (wj, dwj, ddwj) = coordinates.[j]\r\n",
    "    let lwj = l wj dwj ddwj\r\n",
    "    lwj roots.[i]\r\n",
    ")    \r\n",
    "\r\n",
    "let bCollocation = DenseVector.init n (fun i ->\r\n",
    "    f roots.[i]\r\n",
    ")\r\n",
    "\r\n",
    "let tableCollocation = List<Info>()\r\n",
    "\r\n",
    "for k = 3 to n do\r\n",
    "    let cCollocation = aCollocation.[0 .. k - 1, 0 .. k - 1].Solve(bCollocation.[0 .. k - 1])\r\n",
    "    let uCollocation = fun x ->\r\n",
    "        [ 0 .. k - 1 ]\r\n",
    "        |> List.map \r\n",
    "            (fun i -> \r\n",
    "                let (wi, _, _) = coordinates.[i]\r\n",
    "                wi x * cCollocation.[i]\r\n",
    "            )\r\n",
    "        |> List.sum\r\n",
    "    \r\n",
    "    {\r\n",
    "        N = k\r\n",
    "        CondA = aCollocation.[0 .. k - 1, 0 .. k - 1].ConditionNumber()\r\n",
    "        Yn_05 = uCollocation -0.5\r\n",
    "        Yn0 = uCollocation 0.\r\n",
    "        Yn05 = uCollocation 0.5\r\n",
    "    }\r\n",
    "    |> tableCollocation.Add\r\n",
    "\r\n",
    "tableCollocation"
   ]
  },
  {
   "cell_type": "code",
   "execution_count": null,
   "metadata": {
    "dotnet_interactive": {
     "language": "fsharp"
    }
   },
   "outputs": [
    {
     "data": {
      "text/plain": "(0.1664570308, 0.002326192859)"
     },
     "output_type": "unknown"
    },
    {
     "data": {
      "text/plain": "\r\n"
     },
     "output_type": "unknown"
    },
    {
     "data": {
      "text/plain": "(-0.08209571878, -0.00594664963)"
     },
     "output_type": "unknown"
    },
    {
     "data": {
      "text/plain": "\r\n"
     },
     "output_type": "unknown"
    },
    {
     "data": {
      "text/plain": "(0.0106547308, 0.002084340278)"
     },
     "output_type": "unknown"
    },
    {
     "data": {
      "text/plain": "\r\n"
     },
     "output_type": "unknown"
    }
   ],
   "source": [
    "printfn \"%A\" <| (table.[0].Yn_05 - tableCollocation.[0].Yn_05, table.[4].Yn_05 - tableCollocation.[4].Yn_05)\r\n",
    "printfn \"%A\" <| (table.[0].Yn0 - tableCollocation.[0].Yn0, table.[4].Yn0 - tableCollocation.[4].Yn0)\r\n",
    "printfn \"%A\" <| (table.[0].Yn05 - tableCollocation.[0].Yn05, table.[4].Yn05 - tableCollocation.[4].Yn05)\r\n"
   ]
  }
 ],
 "metadata": {
  "kernelspec": {
   "display_name": ".NET (C#)",
   "language": "C#",
   "name": ".net-csharp"
  },
  "language_info": {
   "name": "C#",
   "version": ""
  },
  "orig_nbformat": 2
 },
 "nbformat": 4,
 "nbformat_minor": 2
}