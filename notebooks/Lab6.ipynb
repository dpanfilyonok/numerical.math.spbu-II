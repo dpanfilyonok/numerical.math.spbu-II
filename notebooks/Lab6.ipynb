{
 "cells": [
  {
   "cell_type": "code",
   "execution_count": null,
   "metadata": {
    "dotnet_interactive": {
     "language": "fsharp"
    }
   },
   "outputs": [
    {
     "data": {
      "text/plain": "Installed package MathNet.Numerics.FSharp version 4.15.0"
     },
     "output_type": "unknown"
    }
   ],
   "source": [
    "#r \"nuget: MathNet.Numerics.FSharp, 4.15.0\""
   ]
  },
  {
   "cell_type": "code",
   "execution_count": null,
   "metadata": {
    "dotnet_interactive": {
     "language": "fsharp"
    }
   },
   "outputs": [],
   "source": [
    "open MathNet.Numerics.LinearAlgebra\r\n",
    "open System.Collections.Generic"
   ]
  },
  {
   "cell_type": "code",
   "execution_count": null,
   "metadata": {
    "dotnet_interactive": {
     "language": "fsharp"
    }
   },
   "outputs": [],
   "source": [
    "let p = fun x -> 1. + x\r\n",
    "// b = 0, t = 0\r\n",
    "\r\n",
    "let u = fun x t -> x ** 3. + t ** 3.\r\n",
    "let f = fun x t -> 3. * (t ** 2. - 3. * x ** 2. - 2. * x)\r\n",
    "let phi = fun (x: float) -> x ** 3.\r\n",
    "let alpha = fun (t: float) -> 0.\r\n",
    "let beta = fun (t: float) -> t ** 3. + 1.\r\n",
    "\r\n",
    "let left = 0.\r\n",
    "let right = 1.\r\n",
    "let T = 0.1"
   ]
  },
  {
   "cell_type": "code",
   "execution_count": null,
   "metadata": {
    "dotnet_interactive": {
     "language": "fsharp"
    }
   },
   "outputs": [],
   "source": [
    "let n = 5\r\n",
    "let h = (right - left) / float n\r\n",
    "let x = [ left .. h .. right ]\r\n",
    "\r\n",
    "let m = 5\r\n",
    "let tau = T / float m\r\n",
    "let t = [ 0. .. tau .. T ]"
   ]
  },
  {
   "cell_type": "code",
   "execution_count": null,
   "metadata": {
    "dotnet_interactive": {
     "language": "fsharp"
    }
   },
   "outputs": [],
   "source": [
    "let l i k (u: Matrix<float>) = p ((float i + 0.5) / float n) * (u.[i + 1, k] - u.[i, k]) / h ** 2. - p ((float i - 0.5) / float n) * (u.[i, k] - u.[i - 1, k]) / h ** 2."
   ]
  },
  {
   "cell_type": "code",
   "execution_count": null,
   "metadata": {
    "dotnet_interactive": {
     "language": "fsharp"
    }
   },
   "outputs": [],
   "source": [
    "let explicitScheme n m = \r\n",
    "    let u = DenseMatrix.zero<float> (n + 1) (m + 1)\r\n",
    "\r\n",
    "    x |> List.iteri (fun i x -> u.[i, 0] <- phi x)\r\n",
    "\r\n",
    "    for k = 1 to m do\r\n",
    "        let column = DenseVector.init (m + 1) (fun i ->\r\n",
    "            if i = 0 then (-2. * alpha t.[k] / float n + 4. * u.[1, k] - u.[2, k]) / 3.\r\n",
    "            elif i = n then beta t.[k]\r\n",
    "            else u.[i, k - 1] + tau * (l i (k - 1) u + f x.[i] t.[k - 1])\r\n",
    "        )\r\n",
    "\r\n",
    "        u.SetColumn(k, column)\r\n",
    "\r\n",
    "    u"
   ]
  },
  {
   "cell_type": "code",
   "execution_count": null,
   "metadata": {
    "dotnet_interactive": {
     "language": "fsharp"
    }
   },
   "outputs": [],
   "source": [
    "let weightScheme w n m = \r\n",
    "    let u = DenseMatrix.zero<float> (n + 1) (m + 1)\r\n",
    "\r\n",
    "    // из начальных условий\r\n",
    "    x |> List.iteri (fun i x -> u.[i, 0] <- phi x)\r\n",
    "\r\n",
    "    let a = [ for i = 0 to n - 2 do yield (w * p ((float i + 0.5) / float n) / h ** 2.) ] @ [0.]\r\n",
    "    let b = [ yield float n; for i = 1 to n - 1 do yield (w * (p ((float i + 0.5) / float n) + p ((float i - 0.5) / float n)) / h ** 2. + 1. / tau) ] @ [-1.]\r\n",
    "    let c = [ yield float n; for i = 1 to n - 1 do yield (w * p ((float i + 0.5) / float n) / h ** 2.) ]\r\n",
    "\r\n",
    "    // решение в виде y_i = s_i*y_i+1 + t_i\r\n",
    "    let solveSweep (a: float list) (b: float list) (c: float list) (g: float list) = \r\n",
    "        let n = List.length a\r\n",
    "\r\n",
    "        // из нулевого уравнения системы\r\n",
    "        let s = List<float>()\r\n",
    "        let t = List<float>()\r\n",
    "        s.Add(c.[0] / b.[0])\r\n",
    "        t.Add(-g.[0] / b.[0])\r\n",
    "\r\n",
    "        // рекурентные формулы\r\n",
    "        for i = 1 to n - 1 do\r\n",
    "            s.Add(c.[i] / b.[i] - a.[i - 1] * s.[i - 1])\r\n",
    "            t.Add((a.[i - 1] * t.[i - 1] - g.[i]) / b.[i] - a.[i - 1] * s.[i - 1])\r\n",
    "\r\n",
    "        let y = List<float>() \r\n",
    "        y.Add((a.[n - 1] * t.[n - 1] - g.[n]) / (b.[n] - a.[n - 1] * s.[n - 1]))\r\n",
    "\r\n",
    "        for i = n - 1 downto 0 do\r\n",
    "            y.Add(s.[i] * y.[y.Count - 1] + t.[i])\r\n",
    "\r\n",
    "        // обратная прогонка\r\n",
    "        for i = 0 to y.Count / 2 - 1 do\r\n",
    "            let temp = y.[i]\r\n",
    "            y.[i] <- y.[y.Count - 1 - i]   \r\n",
    "            y.[y.Count - 1 - i] <- temp\r\n",
    "\r\n",
    "        y\r\n",
    "\r\n",
    "    for k = 1 to m do\r\n",
    "        // Gik\r\n",
    "        let g = DenseVector.init (n + 1) (fun i ->\r\n",
    "            if i = 0 then alpha t.[k]\r\n",
    "            elif i = n then beta t.[k]\r\n",
    "            else -1. / tau * u.[i, k - 1] - (1. - w) * l i (k - 1) u - f x.[i] t.[k] - (1. - w) * tau)\r\n",
    "        ) \r\n",
    "        \r\n",
    "        let s = solveSweep a b c (Vector.toList g)\r\n",
    "\r\n",
    "        for i = 0 to n do\r\n",
    "            u.[i, k] <- s.[i]\r\n",
    "\r\n",
    "    u"
   ]
  },
  {
   "cell_type": "code",
   "execution_count": null,
   "metadata": {
    "dotnet_interactive": {
     "language": "fsharp"
    }
   },
   "outputs": [
    {
     "data": {
      "text/plain": "Точное решение в узлах решетки"
     },
     "output_type": "unknown"
    },
    {
     "data": {
      "text/plain": "\r\n"
     },
     "output_type": "unknown"
    },
    {
     "data": {
      "text/html": "<table><thead><tr><th><i>index</i></th><th>T0</th><th>T02</th><th>T04</th><th>T06</th><th>T08</th><th>T1</th><th>X</th></tr></thead><tbody><tr><td>0</td><td><div class=\"dni-plaintext\">0</div></td><td><div class=\"dni-plaintext\">8.000000000000001E-06</div></td><td><div class=\"dni-plaintext\">6.400000000000001E-05</div></td><td><div class=\"dni-plaintext\">0.00021599999999999996</div></td><td><div class=\"dni-plaintext\">0.0005120000000000001</div></td><td><div class=\"dni-plaintext\">0.0010000000000000002</div></td><td><div class=\"dni-plaintext\">0</div></td></tr><tr><td>1</td><td><div class=\"dni-plaintext\">0.008000000000000002</div></td><td><div class=\"dni-plaintext\">0.008008000000000001</div></td><td><div class=\"dni-plaintext\">0.008064000000000002</div></td><td><div class=\"dni-plaintext\">0.008216000000000001</div></td><td><div class=\"dni-plaintext\">0.008512000000000002</div></td><td><div class=\"dni-plaintext\">0.009000000000000003</div></td><td><div class=\"dni-plaintext\">0.2</div></td></tr><tr><td>2</td><td><div class=\"dni-plaintext\">0.06400000000000002</div></td><td><div class=\"dni-plaintext\">0.06400800000000001</div></td><td><div class=\"dni-plaintext\">0.06406400000000001</div></td><td><div class=\"dni-plaintext\">0.06421600000000001</div></td><td><div class=\"dni-plaintext\">0.06451200000000001</div></td><td><div class=\"dni-plaintext\">0.06500000000000002</div></td><td><div class=\"dni-plaintext\">0.4</div></td></tr><tr><td>3</td><td><div class=\"dni-plaintext\">0.2160000000000001</div></td><td><div class=\"dni-plaintext\">0.21600800000000012</div></td><td><div class=\"dni-plaintext\">0.21606400000000012</div></td><td><div class=\"dni-plaintext\">0.2162160000000001</div></td><td><div class=\"dni-plaintext\">0.21651200000000012</div></td><td><div class=\"dni-plaintext\">0.2170000000000001</div></td><td><div class=\"dni-plaintext\">0.6000000000000001</div></td></tr><tr><td>4</td><td><div class=\"dni-plaintext\">0.5120000000000001</div></td><td><div class=\"dni-plaintext\">0.5120080000000001</div></td><td><div class=\"dni-plaintext\">0.5120640000000001</div></td><td><div class=\"dni-plaintext\">0.5122160000000001</div></td><td><div class=\"dni-plaintext\">0.5125120000000001</div></td><td><div class=\"dni-plaintext\">0.5130000000000001</div></td><td><div class=\"dni-plaintext\">0.8</div></td></tr><tr><td>5</td><td><div class=\"dni-plaintext\">1</div></td><td><div class=\"dni-plaintext\">1.000008</div></td><td><div class=\"dni-plaintext\">1.000064</div></td><td><div class=\"dni-plaintext\">1.000216</div></td><td><div class=\"dni-plaintext\">1.000512</div></td><td><div class=\"dni-plaintext\">1.001</div></td><td><div class=\"dni-plaintext\">1</div></td></tr></tbody></table>"
     },
     "output_type": "unknown"
    }
   ],
   "source": [
    "printfn \"Точное решение в узлах решетки\"\r\n",
    "DenseMatrix.init (n + 1) (m + 1) (fun i k -> x.[i] ** 3. + t.[k] ** 3.)\r\n",
    "|> Matrix.toRowSeq\r\n",
    "|> Seq.mapi (fun i row -> {| X = x.[i]; T0 = row.[0]; T02 = row.[1]; T04 = row.[2]; T06 = row.[3]; T08 = row.[4]; T1 = row.[5] |})"
   ]
  },
  {
   "cell_type": "code",
   "execution_count": null,
   "metadata": {
    "dotnet_interactive": {
     "language": "fsharp"
    }
   },
   "outputs": [
    {
     "data": {
      "text/plain": "Решение явной разностной схемой"
     },
     "output_type": "unknown"
    },
    {
     "data": {
      "text/plain": "\r\n"
     },
     "output_type": "unknown"
    },
    {
     "data": {
      "text/html": "<table><thead><tr><th><i>index</i></th><th>T0</th><th>T02</th><th>T04</th><th>T06</th><th>T08</th><th>T1</th><th>X</th></tr></thead><tbody><tr><td>0</td><td><div class=\"dni-plaintext\">0</div></td><td><div class=\"dni-plaintext\">0</div></td><td><div class=\"dni-plaintext\">0</div></td><td><div class=\"dni-plaintext\">0</div></td><td><div class=\"dni-plaintext\">0</div></td><td><div class=\"dni-plaintext\">0</div></td><td><div class=\"dni-plaintext\">0</div></td></tr><tr><td>1</td><td><div class=\"dni-plaintext\">0.008000000000000002</div></td><td><div class=\"dni-plaintext\">0.008800000000000002</div></td><td><div class=\"dni-plaintext\">0.009184000000000013</div></td><td><div class=\"dni-plaintext\">0.00971480000000001</div></td><td><div class=\"dni-plaintext\">0.010125139999999835</div></td><td><div class=\"dni-plaintext\">0.010479759250000251</div></td><td><div class=\"dni-plaintext\">0.2</div></td></tr><tr><td>2</td><td><div class=\"dni-plaintext\">0.06400000000000002</div></td><td><div class=\"dni-plaintext\">0.06480000000000004</div></td><td><div class=\"dni-plaintext\">0.06562400000000003</div></td><td><div class=\"dni-plaintext\">0.06623399999999977</div></td><td><div class=\"dni-plaintext\">0.06664736500000035</div></td><td><div class=\"dni-plaintext\">0.06772426199999904</div></td><td><div class=\"dni-plaintext\">0.4</div></td></tr><tr><td>3</td><td><div class=\"dni-plaintext\">0.2160000000000001</div></td><td><div class=\"dni-plaintext\">0.21680000000000005</div></td><td><div class=\"dni-plaintext\">0.21762399999999973</div></td><td><div class=\"dni-plaintext\">0.21788046000000036</div></td><td><div class=\"dni-plaintext\">0.21895715599999907</div></td><td><div class=\"dni-plaintext\">0.21867673690000128</div></td><td><div class=\"dni-plaintext\">0.6000000000000001</div></td></tr><tr><td>4</td><td><div class=\"dni-plaintext\">0.5120000000000001</div></td><td><div class=\"dni-plaintext\">0.5127999999999998</div></td><td><div class=\"dni-plaintext\">0.5128716000000002</div></td><td><div class=\"dni-plaintext\">0.5136399199999995</div></td><td><div class=\"dni-plaintext\">0.5135076550000006</div></td><td><div class=\"dni-plaintext\">0.5149778585999987</div></td><td><div class=\"dni-plaintext\">0.8</div></td></tr><tr><td>5</td><td><div class=\"dni-plaintext\">1</div></td><td><div class=\"dni-plaintext\">1.000008</div></td><td><div class=\"dni-plaintext\">1.000064</div></td><td><div class=\"dni-plaintext\">1.000216</div></td><td><div class=\"dni-plaintext\">1.000512</div></td><td><div class=\"dni-plaintext\">1.001</div></td><td><div class=\"dni-plaintext\">1</div></td></tr></tbody></table>"
     },
     "output_type": "unknown"
    }
   ],
   "source": [
    "printfn \"Решение явной разностной схемой\"\r\n",
    "explicitScheme n m\r\n",
    "|> Matrix.toRowSeq\r\n",
    "|> Seq.mapi (fun i row -> {| X = x.[i]; T0 = row.[0]; T02 = row.[1]; T04 = row.[2]; T06 = row.[3]; T08 = row.[4]; T1 = row.[5] |})"
   ]
  },
  {
   "cell_type": "code",
   "execution_count": null,
   "metadata": {
    "dotnet_interactive": {
     "language": "fsharp"
    }
   },
   "outputs": [
    {
     "data": {
      "text/plain": "Решение схемой с весом 0.5"
     },
     "output_type": "unknown"
    },
    {
     "data": {
      "text/plain": "\r\n"
     },
     "output_type": "unknown"
    },
    {
     "data": {
      "text/html": "<table><thead><tr><th><i>index</i></th><th>T0</th><th>T02</th><th>T04</th><th>T06</th><th>T08</th><th>T1</th><th>X</th></tr></thead><tbody><tr><td>0</td><td><div class=\"dni-plaintext\">0</div></td><td><div class=\"dni-plaintext\">2154279300371.9321</div></td><td><div class=\"dni-plaintext\">2.2293460113954272E+17</div></td><td><div class=\"dni-plaintext\">2.307009970238644E+22</div></td><td><div class=\"dni-plaintext\">2.387379516302018E+27</div></td><td><div class=\"dni-plaintext\">2.4705489045931054E+32</div></td><td><div class=\"dni-plaintext\">0</div></td></tr><tr><td>1</td><td><div class=\"dni-plaintext\">0.008000000000000002</div></td><td><div class=\"dni-plaintext\">2154279300371.9321</div></td><td><div class=\"dni-plaintext\">2.2293460113954272E+17</div></td><td><div class=\"dni-plaintext\">2.307009970238644E+22</div></td><td><div class=\"dni-plaintext\">2.387379516302018E+27</div></td><td><div class=\"dni-plaintext\">2.4705489045931054E+32</div></td><td><div class=\"dni-plaintext\">0.2</div></td></tr><tr><td>2</td><td><div class=\"dni-plaintext\">0.06400000000000002</div></td><td><div class=\"dni-plaintext\">-159024077537.12106</div></td><td><div class=\"dni-plaintext\">-16456468713613190</div></td><td><div class=\"dni-plaintext\">-1.7029764425058765E+21</div></td><td><div class=\"dni-plaintext\">-1.7623032097962048E+26</div></td><td><div class=\"dni-plaintext\">-1.823696749843496E+31</div></td><td><div class=\"dni-plaintext\">0.4</div></td></tr><tr><td>3</td><td><div class=\"dni-plaintext\">0.2160000000000001</div></td><td><div class=\"dni-plaintext\">-721664645.1631229</div></td><td><div class=\"dni-plaintext\">-74683341055687.69</div></td><td><div class=\"dni-plaintext\">-7.728509239371981E+18</div></td><td><div class=\"dni-plaintext\">-7.997748118842758E+23</div></td><td><div class=\"dni-plaintext\">-8.27636650113527E+28</div></td><td><div class=\"dni-plaintext\">0.6000000000000001</div></td></tr><tr><td>4</td><td><div class=\"dni-plaintext\">0.5120000000000001</div></td><td><div class=\"dni-plaintext\">174674.31994201237</div></td><td><div class=\"dni-plaintext\">18096484630.2342</div></td><td><div class=\"dni-plaintext\">1872691395546492</div></td><td><div class=\"dni-plaintext\">1.9379305402918303E+20</div></td><td><div class=\"dni-plaintext\">2.0054424279017002E+25</div></td><td><div class=\"dni-plaintext\">0.8</div></td></tr><tr><td>5</td><td><div class=\"dni-plaintext\">1</div></td><td><div class=\"dni-plaintext\">1.000008</div></td><td><div class=\"dni-plaintext\">1.000064</div></td><td><div class=\"dni-plaintext\">1.000216</div></td><td><div class=\"dni-plaintext\">1.000512</div></td><td><div class=\"dni-plaintext\">1.001</div></td><td><div class=\"dni-plaintext\">1</div></td></tr></tbody></table>"
     },
     "output_type": "unknown"
    }
   ],
   "source": [
    "printfn \"Решение схемой с весом 0.5\"\r\n",
    "weightScheme 0.5 n m\r\n",
    "|> Matrix.toRowSeq\r\n",
    "|> Seq.mapi (fun i row -> {| X = x.[i]; T0 = row.[0]; T02 = row.[1]; T04 = row.[2]; T06 = row.[3]; T08 = row.[4]; T1 = row.[5] |})"
   ]
  }
 ],
 "metadata": {
  "kernelspec": {
   "display_name": ".NET (C#)",
   "language": "C#",
   "name": ".net-csharp"
  },
  "language_info": {
   "name": "C#",
   "version": ""
  },
  "orig_nbformat": 2
 },
 "nbformat": 4,
 "nbformat_minor": 2
}