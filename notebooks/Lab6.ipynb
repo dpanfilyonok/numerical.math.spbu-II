{
 "cells": [
  {
   "cell_type": "code",
   "execution_count": null,
   "metadata": {
    "dotnet_interactive": {
     "language": "fsharp"
    }
   },
   "outputs": [
    {
     "data": {
      "text/plain": "Installed package MathNet.Numerics.FSharp version 4.15.0"
     },
     "output_type": "unknown"
    }
   ],
   "source": [
    "#r \"nuget: MathNet.Numerics.FSharp, 4.15.0\""
   ]
  },
  {
   "cell_type": "code",
   "execution_count": null,
   "metadata": {
    "dotnet_interactive": {
     "language": "fsharp"
    }
   },
   "outputs": [],
   "source": [
    "open MathNet.Numerics.LinearAlgebra"
   ]
  },
  {
   "cell_type": "code",
   "execution_count": null,
   "metadata": {
    "dotnet_interactive": {
     "language": "fsharp"
    }
   },
   "outputs": [],
   "source": [
    "let a = fun x -> cos x\r\n",
    "// b = 0, t = 0\r\n",
    "\r\n",
    "// u = x ^ 3 + t ^ 3\r\n",
    "let f = fun x t -> 3. * t ** 2. - 6. * x * cos x\r\n",
    "let phi = fun (x: float) -> x ** 3.\r\n",
    "let alpha = fun (t: float) -> t ** 3.\r\n",
    "let beta = fun (t: float) -> 3.\r\n",
    "\r\n",
    "let left = 0.\r\n",
    "let right = 1.\r\n",
    "let T = 0.1"
   ]
  },
  {
   "cell_type": "code",
   "execution_count": null,
   "metadata": {
    "dotnet_interactive": {
     "language": "fsharp"
    }
   },
   "outputs": [],
   "source": [
    "let n = 5\r\n",
    "let h = (right - left) / float n\r\n",
    "let x = [ left .. h .. right ]\r\n",
    "\r\n",
    "let m = 5\r\n",
    "let tau = T / float m\r\n",
    "let t = [ 0. .. tau .. T ]"
   ]
  },
  {
   "cell_type": "code",
   "execution_count": null,
   "metadata": {
    "dotnet_interactive": {
     "language": "fsharp"
    }
   },
   "outputs": [],
   "source": [
    "let explicitScheme n m = \r\n",
    "    let u = DenseMatrix.zero<float> (n + 1) (m + 1)\r\n",
    "\r\n",
    "    x\r\n",
    "    |> List.iteri (fun i x -> u.[i, 0] <- phi x)\r\n",
    "\r\n",
    "    let l i k = a x.[i] * (u.[i + 1, k] - 2. * u.[i, k] + u.[i - 1, k]) / h ** 2.\r\n",
    "\r\n",
    "    for k = 1 to m do\r\n",
    "        for i = 1 to n - 1 do\r\n",
    "            u.[i, k] <- u.[i, k - 1] + tau * (l i (k - 1) + f x.[i] t.[k - 1])\r\n",
    "        u.[0, k] <- alpha t.[k]\r\n",
    "        u.[n, k] <- 2. / 3. * h * beta t.[k] + 4. * u.[n - 1, k] - u.[n - 2, k]\r\n",
    "\r\n",
    "    u"
   ]
  },
  {
   "cell_type": "code",
   "execution_count": null,
   "metadata": {
    "dotnet_interactive": {
     "language": "fsharp"
    }
   },
   "outputs": [],
   "source": [
    "let weightScheme n m = \r\n",
    "    let u = DenseMatrix.zero<float> (n + 1) (m + 1)\r\n",
    "\r\n",
    "    x\r\n",
    "    |> List.iteri (fun i x -> u.[i, 0] <- phi x)\r\n",
    "\r\n",
    "    let l i k = a x.[i] * (u.[i + 1, k] - 2. * u.[i, k] + u.[i - 1, k]) / h ** 2.\r\n",
    "\r\n",
    "    for k = 1 to m do\r\n",
    "        let m = DenseMatrix.zero<float> (n + 1) (n + 1)\r\n",
    "\r\n",
    "        m.[0, 0] <- 1.\r\n",
    "        m.[0, 1] <- 0.\r\n",
    "\r\n",
    "        m.[n, n - 1] <- -1. / h\r\n",
    "        m.[n, n] <- -1. / h\r\n",
    "\r\n",
    "        let g = DenseVector.zero<float> (n + 1)\r\n",
    "        g.[0] <- alpha t.[k]\r\n",
    "        g.[n] <- beta t.[k]\r\n",
    "\r\n",
    "        for i = 1 to n - 1 do \r\n",
    "            m.[i, i - 1] <- a x.[i] / h ** 2.\r\n",
    "            m.[i, i] <- -2. * a x.[i] / h ** 2.\r\n",
    "            m.[i, i + 1] <- a x.[i] / h ** 2.\r\n",
    "            \r\n",
    "            g.[i] <- -1. / tau * u.[i, k - 1] - (1. - 1. / 2.) * l i (k - 1) - f x.[i] t.[k]\r\n",
    "\r\n",
    "        let s = m.Solve g\r\n",
    "\r\n",
    "        for i = 0 to n do\r\n",
    "            u.[i, k] <- s.[i]\r\n",
    "\r\n",
    "    u"
   ]
  },
  {
   "cell_type": "code",
   "execution_count": null,
   "metadata": {
    "dotnet_interactive": {
     "language": "fsharp"
    }
   },
   "outputs": [
    {
     "data": {
      "text/html": "<table><thead><tr><th><i>index</i></th><th>A</th><th>B</th><th>C</th><th>D</th><th>E</th></tr></thead><tbody><tr><td>0</td><td><div class=\"dni-plaintext\">0</div></td><td><div class=\"dni-plaintext\">-0.009866666666666682</div></td><td><div class=\"dni-plaintext\">-0.016864888888888863</div></td><td><div class=\"dni-plaintext\">-0.018869629629629556</div></td><td><div class=\"dni-plaintext\">-0.022121991543210068</div></td></tr><tr><td>1</td><td><div class=\"dni-plaintext\">0.008000000000000002</div></td><td><div class=\"dni-plaintext\">0.008800000000000002</div></td><td><div class=\"dni-plaintext\">0.003757333333333358</div></td><td><div class=\"dni-plaintext\">0.0015244444444444606</div></td><td><div class=\"dni-plaintext\">-0.0009078518518519253</div></td></tr><tr><td>2</td><td><div class=\"dni-plaintext\">0.06400000000000002</div></td><td><div class=\"dni-plaintext\">0.06480000000000005</div></td><td><div class=\"dni-plaintext\">0.06562400000000003</div></td><td><div class=\"dni-plaintext\">0.06270666666666651</div></td><td><div class=\"dni-plaintext\">0.0627345672222225</div></td></tr><tr><td>3</td><td><div class=\"dni-plaintext\">0.2160000000000001</div></td><td><div class=\"dni-plaintext\">0.21680000000000008</div></td><td><div class=\"dni-plaintext\">0.21762399999999976</div></td><td><div class=\"dni-plaintext\">0.2178804600000003</div></td><td><div class=\"dni-plaintext\">0.21631165599999927</div></td></tr><tr><td>4</td><td><div class=\"dni-plaintext\">0.5120000000000001</div></td><td><div class=\"dni-plaintext\">0.5127999999999998</div></td><td><div class=\"dni-plaintext\">0.5128716000000002</div></td><td><div class=\"dni-plaintext\">0.5136399199999996</div></td><td><div class=\"dni-plaintext\">0.5135076550000005</div></td></tr><tr><td>5</td><td><div class=\"dni-plaintext\">1</div></td><td><div class=\"dni-plaintext\">1.000008</div></td><td><div class=\"dni-plaintext\">1.000064</div></td><td><div class=\"dni-plaintext\">1.000216</div></td><td><div class=\"dni-plaintext\">1.000512</div></td></tr></tbody></table>"
     },
     "output_type": "unknown"
    }
   ],
   "source": [
    "(Matrix.toRowSeq <| explicitScheme n m)\r\n",
    "|> Seq.map (fun row -> {| A = row.[0]; B = row.[1]; C = row.[2]; D = row.[3]; E = row.[4] |})"
   ]
  },
  {
   "cell_type": "code",
   "execution_count": null,
   "metadata": {
    "dotnet_interactive": {
     "language": "fsharp"
    }
   },
   "outputs": [
    {
     "data": {
      "text/html": "<table><thead><tr><th><i>index</i></th><th>A</th><th>B</th><th>C</th><th>D</th><th>E</th></tr></thead><tbody><tr><td>0</td><td><div class=\"dni-plaintext\">0</div></td><td><div class=\"dni-plaintext\">8.000000000000001E-06</div></td><td><div class=\"dni-plaintext\">6.400000000000001E-05</div></td><td><div class=\"dni-plaintext\">0.00021599999999999996</div></td><td><div class=\"dni-plaintext\">0.0005120000000000001</div></td></tr><tr><td>1</td><td><div class=\"dni-plaintext\">0.008000000000000002</div></td><td><div class=\"dni-plaintext\">0.008008000000000001</div></td><td><div class=\"dni-plaintext\">0.008064000000000002</div></td><td><div class=\"dni-plaintext\">0.008216000000000001</div></td><td><div class=\"dni-plaintext\">0.008512000000000002</div></td></tr><tr><td>2</td><td><div class=\"dni-plaintext\">0.06400000000000002</div></td><td><div class=\"dni-plaintext\">0.06400800000000001</div></td><td><div class=\"dni-plaintext\">0.06406400000000001</div></td><td><div class=\"dni-plaintext\">0.06421600000000001</div></td><td><div class=\"dni-plaintext\">0.06451200000000001</div></td></tr><tr><td>3</td><td><div class=\"dni-plaintext\">0.2160000000000001</div></td><td><div class=\"dni-plaintext\">0.21600800000000012</div></td><td><div class=\"dni-plaintext\">0.21606400000000012</div></td><td><div class=\"dni-plaintext\">0.2162160000000001</div></td><td><div class=\"dni-plaintext\">0.21651200000000012</div></td></tr><tr><td>4</td><td><div class=\"dni-plaintext\">0.5120000000000001</div></td><td><div class=\"dni-plaintext\">0.5120080000000001</div></td><td><div class=\"dni-plaintext\">0.5120640000000001</div></td><td><div class=\"dni-plaintext\">0.5122160000000001</div></td><td><div class=\"dni-plaintext\">0.5125120000000001</div></td></tr><tr><td>5</td><td><div class=\"dni-plaintext\">1</div></td><td><div class=\"dni-plaintext\">1.000008</div></td><td><div class=\"dni-plaintext\">1.000064</div></td><td><div class=\"dni-plaintext\">1.000216</div></td><td><div class=\"dni-plaintext\">1.000512</div></td></tr></tbody></table>"
     },
     "output_type": "unknown"
    }
   ],
   "source": [
    "DenseMatrix.init (n + 1) (m + 1) (fun i k -> x.[i] ** 3. + t.[k] ** 3.)\r\n",
    "|> Matrix.toRowSeq\r\n",
    "|> Seq.map (fun row -> {| A = row.[0]; B = row.[1]; C = row.[2]; D = row.[3]; E = row.[4] |})"
   ]
  },
  {
   "cell_type": "markdown",
   "metadata": {},
   "source": [
    "7 вар"
   ]
  },
  {
   "cell_type": "code",
   "execution_count": null,
   "metadata": {
    "dotnet_interactive": {
     "language": "fsharp"
    }
   },
   "outputs": [],
   "source": [
    "let p = fun x -> 1. + x\r\n",
    "// b = 0, t = 0\r\n",
    "\r\n",
    "// u = x ^ 3 + t ^ 3\r\n",
    "let f = fun x t -> 3. * (t ** 2. - 3. * x ** 2. - 2. * x)\r\n",
    "let phi = fun (x: float) -> x ** 3.\r\n",
    "let alpha = fun (t: float) -> 0.\r\n",
    "let beta = fun (t: float) -> t ** 3. + 1.\r\n",
    "\r\n",
    "let left = 0.\r\n",
    "let right = 1.\r\n",
    "let T = 0.1"
   ]
  },
  {
   "cell_type": "code",
   "execution_count": null,
   "metadata": {
    "dotnet_interactive": {
     "language": "fsharp"
    }
   },
   "outputs": [],
   "source": [
    "let n = 5\r\n",
    "let h = (right - left) / float n\r\n",
    "let x = [ left .. h .. right ]\r\n",
    "\r\n",
    "let m = 5\r\n",
    "let tau = T / float m\r\n",
    "let t = [ 0. .. tau .. T ]"
   ]
  },
  {
   "cell_type": "code",
   "execution_count": null,
   "metadata": {
    "dotnet_interactive": {
     "language": "fsharp"
    }
   },
   "outputs": [],
   "source": [
    "let explicitScheme n m = \r\n",
    "    let u = DenseMatrix.zero<float> (n + 1) (m + 1)\r\n",
    "\r\n",
    "    x\r\n",
    "    |> List.iteri (fun i x -> u.[i, 0] <- phi x)\r\n",
    "\r\n",
    "    let l i k = p ((float i + 0.5) / float n) * (u.[i + 1, k] - u.[i, k]) / h / h - p ((float i - 0.5) / float n) * (u.[i, k] - u.[i - 1, k]) / h / h\r\n",
    "\r\n",
    "    for k = 1 to m do\r\n",
    "        for i = 1 to n - 1 do\r\n",
    "            u.[i, k] <- u.[i, k - 1] + tau * (l i (k - 1) + f x.[i] t.[k - 1])\r\n",
    "        u.[0, k] <- (-2. * alpha t.[k] / float n + 4. * u.[1, k] - u.[2, k]) / 3.\r\n",
    "        u.[n, k] <- beta t.[k]\r\n",
    "\r\n",
    "    u"
   ]
  },
  {
   "cell_type": "code",
   "execution_count": null,
   "metadata": {
    "dotnet_interactive": {
     "language": "fsharp"
    }
   },
   "outputs": [],
   "source": [
    "let weightScheme w n m = \r\n",
    "    let u = DenseMatrix.zero<float> (n + 1) (m + 1)\r\n",
    "\r\n",
    "    x\r\n",
    "    |> List.iteri (fun i x -> u.[i, 0] <- phi x)\r\n",
    "\r\n",
    "    let l i k = p ((float i + 0.5) / float n) * (u.[i + 1, k] - u.[i, k]) / h / h - p ((float i - 0.5) / float n) * (u.[i, k] - u.[i - 1, k]) / h / h\r\n",
    "\r\n",
    "    let a = [ for i = 0 to n - 2 do yield (w * p ((float i + 0.5) / float n) / h / h) ] @ [0.]\r\n",
    "    let b = [ yield float n; for i = 1 to n - 1 do yield (w * ( p ((float i + 0.5) / float n) + p ((float i - 0.5) / float n)) / h / h + 1. / tau) ] @ [-1.]\r\n",
    "    let c = [ yield float n; for i = 1 to n - 1 do yield (w * p ((float i + 0.5) / float n) / h ** 2.) ]\r\n",
    "\r\n",
    "    let slv (a: float list) (b: float list) (c: float list) (g: float list) = \r\n",
    "        let n = List.length a\r\n",
    "\r\n",
    "        let mutable s = [ c.[0] / b.[0] ]\r\n",
    "        let mutable t = [ -g.[0] / b.[0] ]\r\n",
    "\r\n",
    "        for i = 1 to n - 1 do\r\n",
    "            let d = b.[i] - a.[i - 1] * s.[i - 1]\r\n",
    "            s <- List.append s [ c.[i] / d ]\r\n",
    "            t <- List.append t [ (a.[i - 1] * t.[i - 1] - g.[i]) / d]\r\n",
    "\r\n",
    "        let mutable y = [| (a.[n - 1] * t.[n - 1] - g.[n]) / (b.[n] - a.[n - 1] * s.[n - 1]) |]\r\n",
    "\r\n",
    "        for i = n - 1 downto 0 do\r\n",
    "            y <- Array.append y [| s.[i] * y.[^0] + t.[i] |]\r\n",
    "\r\n",
    "        printfn \"%i\" <| Array.length y\r\n",
    "\r\n",
    "        for i = 0 to Array.length y / 2 - 1 do\r\n",
    "            let temp = y.[i]\r\n",
    "            y.[i] <- y.[^i]   \r\n",
    "            y.[^i] <- temp\r\n",
    "\r\n",
    "        y\r\n",
    "\r\n",
    "    for k = 1 to m do\r\n",
    "        let g = DenseVector.init (n + 1) (fun i ->\r\n",
    "            if i = 0 then alpha t.[k]\r\n",
    "            elif i = n then beta t.[k]\r\n",
    "            else -1. / tau * u.[i, k - 1] - (1. - w) * l i (k - 1) - f x.[i] (t.[k] - (1. - w) * tau)\r\n",
    "        ) \r\n",
    "\r\n",
    "        let s = slv a b c (Vector.toList g)\r\n",
    "\r\n",
    "        for i = 0 to n do\r\n",
    "            u.[i, k] <- s.[i]\r\n",
    "\r\n",
    "    u"
   ]
  },
  {
   "cell_type": "code",
   "execution_count": null,
   "metadata": {
    "dotnet_interactive": {
     "language": "fsharp"
    }
   },
   "outputs": [
    {
     "data": {
      "text/plain": "1"
     },
     "output_type": "unknown"
    },
    {
     "data": {
      "text/plain": "\r\n"
     },
     "output_type": "unknown"
    },
    {
     "data": {
      "text/plain": "4"
     },
     "output_type": "unknown"
    },
    {
     "data": {
      "text/plain": "\r\n"
     },
     "output_type": "unknown"
    },
    {
     "data": {
      "text/plain": "3"
     },
     "output_type": "unknown"
    },
    {
     "data": {
      "text/plain": "\r\n"
     },
     "output_type": "unknown"
    },
    {
     "data": {
      "text/plain": "2"
     },
     "output_type": "unknown"
    },
    {
     "data": {
      "text/plain": "\r\n"
     },
     "output_type": "unknown"
    },
    {
     "data": {
      "text/plain": "1"
     },
     "output_type": "unknown"
    },
    {
     "data": {
      "text/plain": "\r\n"
     },
     "output_type": "unknown"
    },
    {
     "data": {
      "text/plain": "0"
     },
     "output_type": "unknown"
    },
    {
     "data": {
      "text/plain": "\r\n"
     },
     "output_type": "unknown"
    },
    {
     "data": {
      "text/plain": "6"
     },
     "output_type": "unknown"
    },
    {
     "data": {
      "text/plain": "\r\n"
     },
     "output_type": "unknown"
    },
    {
     "data": {
      "text/plain": "1"
     },
     "output_type": "unknown"
    },
    {
     "data": {
      "text/plain": "\r\n"
     },
     "output_type": "unknown"
    },
    {
     "data": {
      "text/plain": "4"
     },
     "output_type": "unknown"
    },
    {
     "data": {
      "text/plain": "\r\n"
     },
     "output_type": "unknown"
    },
    {
     "data": {
      "text/plain": "3"
     },
     "output_type": "unknown"
    },
    {
     "data": {
      "text/plain": "\r\n"
     },
     "output_type": "unknown"
    },
    {
     "data": {
      "text/plain": "2"
     },
     "output_type": "unknown"
    },
    {
     "data": {
      "text/plain": "\r\n"
     },
     "output_type": "unknown"
    },
    {
     "data": {
      "text/plain": "1"
     },
     "output_type": "unknown"
    },
    {
     "data": {
      "text/plain": "\r\n"
     },
     "output_type": "unknown"
    },
    {
     "data": {
      "text/plain": "0"
     },
     "output_type": "unknown"
    },
    {
     "data": {
      "text/plain": "\r\n"
     },
     "output_type": "unknown"
    },
    {
     "data": {
      "text/plain": "6"
     },
     "output_type": "unknown"
    },
    {
     "data": {
      "text/plain": "\r\n"
     },
     "output_type": "unknown"
    },
    {
     "data": {
      "text/plain": "1"
     },
     "output_type": "unknown"
    },
    {
     "data": {
      "text/plain": "\r\n"
     },
     "output_type": "unknown"
    },
    {
     "data": {
      "text/plain": "4"
     },
     "output_type": "unknown"
    },
    {
     "data": {
      "text/plain": "\r\n"
     },
     "output_type": "unknown"
    },
    {
     "data": {
      "text/plain": "3"
     },
     "output_type": "unknown"
    },
    {
     "data": {
      "text/plain": "\r\n"
     },
     "output_type": "unknown"
    },
    {
     "data": {
      "text/plain": "2"
     },
     "output_type": "unknown"
    },
    {
     "data": {
      "text/plain": "\r\n"
     },
     "output_type": "unknown"
    },
    {
     "data": {
      "text/plain": "1"
     },
     "output_type": "unknown"
    },
    {
     "data": {
      "text/plain": "\r\n"
     },
     "output_type": "unknown"
    },
    {
     "data": {
      "text/plain": "0"
     },
     "output_type": "unknown"
    },
    {
     "data": {
      "text/plain": "\r\n"
     },
     "output_type": "unknown"
    },
    {
     "data": {
      "text/plain": "6"
     },
     "output_type": "unknown"
    },
    {
     "data": {
      "text/plain": "\r\n"
     },
     "output_type": "unknown"
    },
    {
     "data": {
      "text/plain": "1"
     },
     "output_type": "unknown"
    },
    {
     "data": {
      "text/plain": "\r\n"
     },
     "output_type": "unknown"
    },
    {
     "data": {
      "text/plain": "4"
     },
     "output_type": "unknown"
    },
    {
     "data": {
      "text/plain": "\r\n"
     },
     "output_type": "unknown"
    },
    {
     "data": {
      "text/plain": "3"
     },
     "output_type": "unknown"
    },
    {
     "data": {
      "text/plain": "\r\n"
     },
     "output_type": "unknown"
    },
    {
     "data": {
      "text/plain": "2"
     },
     "output_type": "unknown"
    },
    {
     "data": {
      "text/plain": "\r\n"
     },
     "output_type": "unknown"
    },
    {
     "data": {
      "text/plain": "1"
     },
     "output_type": "unknown"
    },
    {
     "data": {
      "text/plain": "\r\n"
     },
     "output_type": "unknown"
    },
    {
     "data": {
      "text/plain": "0"
     },
     "output_type": "unknown"
    },
    {
     "data": {
      "text/plain": "\r\n"
     },
     "output_type": "unknown"
    },
    {
     "data": {
      "text/plain": "6"
     },
     "output_type": "unknown"
    },
    {
     "data": {
      "text/plain": "\r\n"
     },
     "output_type": "unknown"
    },
    {
     "data": {
      "text/plain": "1"
     },
     "output_type": "unknown"
    },
    {
     "data": {
      "text/plain": "\r\n"
     },
     "output_type": "unknown"
    },
    {
     "data": {
      "text/plain": "4"
     },
     "output_type": "unknown"
    },
    {
     "data": {
      "text/plain": "\r\n"
     },
     "output_type": "unknown"
    },
    {
     "data": {
      "text/plain": "3"
     },
     "output_type": "unknown"
    },
    {
     "data": {
      "text/plain": "\r\n"
     },
     "output_type": "unknown"
    },
    {
     "data": {
      "text/plain": "2"
     },
     "output_type": "unknown"
    },
    {
     "data": {
      "text/plain": "\r\n"
     },
     "output_type": "unknown"
    },
    {
     "data": {
      "text/plain": "1"
     },
     "output_type": "unknown"
    },
    {
     "data": {
      "text/plain": "\r\n"
     },
     "output_type": "unknown"
    },
    {
     "data": {
      "text/plain": "0"
     },
     "output_type": "unknown"
    },
    {
     "data": {
      "text/plain": "\r\n"
     },
     "output_type": "unknown"
    },
    {
     "data": {
      "text/plain": "6"
     },
     "output_type": "unknown"
    },
    {
     "data": {
      "text/plain": "\r\n"
     },
     "output_type": "unknown"
    },
    {
     "data": {
      "text/html": "<table><thead><tr><th><i>index</i></th><th>A</th><th>B</th><th>C</th><th>D</th><th>E</th></tr></thead><tbody><tr><td>0</td><td><div class=\"dni-plaintext\">0</div></td><td><div class=\"dni-plaintext\">0.008799999999999999</div></td><td><div class=\"dni-plaintext\">0.014024000000000028</div></td><td><div class=\"dni-plaintext\">0.016460000000000044</div></td><td><div class=\"dni-plaintext\">0.019873999999999833</div></td></tr><tr><td>1</td><td><div class=\"dni-plaintext\">0.008000000000000002</div></td><td><div class=\"dni-plaintext\">0.008799999999999999</div></td><td><div class=\"dni-plaintext\">0.014024000000000028</div></td><td><div class=\"dni-plaintext\">0.016460000000000044</div></td><td><div class=\"dni-plaintext\">0.019873999999999833</div></td></tr><tr><td>2</td><td><div class=\"dni-plaintext\">0.06400000000000002</div></td><td><div class=\"dni-plaintext\">0.06480000000000005</div></td><td><div class=\"dni-plaintext\">0.06562400000000007</div></td><td><div class=\"dni-plaintext\">0.06937999999999973</div></td><td><div class=\"dni-plaintext\">0.06977334500000038</div></td></tr><tr><td>3</td><td><div class=\"dni-plaintext\">0.2160000000000001</div></td><td><div class=\"dni-plaintext\">0.21680000000000013</div></td><td><div class=\"dni-plaintext\">0.21762399999999968</div></td><td><div class=\"dni-plaintext\">0.21788046000000036</div></td><td><div class=\"dni-plaintext\">0.22131665599999917</div></td></tr><tr><td>4</td><td><div class=\"dni-plaintext\">0.5120000000000001</div></td><td><div class=\"dni-plaintext\">0.5127999999999997</div></td><td><div class=\"dni-plaintext\">0.5128716000000002</div></td><td><div class=\"dni-plaintext\">0.5136399199999996</div></td><td><div class=\"dni-plaintext\">0.5135076550000006</div></td></tr><tr><td>5</td><td><div class=\"dni-plaintext\">1</div></td><td><div class=\"dni-plaintext\">1.000008</div></td><td><div class=\"dni-plaintext\">1.000064</div></td><td><div class=\"dni-plaintext\">1.000216</div></td><td><div class=\"dni-plaintext\">1.000512</div></td></tr></tbody></table>"
     },
     "output_type": "unknown"
    }
   ],
   "source": [
    "(Matrix.toRowSeq <| weightScheme 0. n m)\r\n",
    "|> Seq.map (fun row -> {| A = row.[0]; B = row.[1]; C = row.[2]; D = row.[3]; E = row.[4] |})"
   ]
  },
  {
   "cell_type": "code",
   "execution_count": null,
   "metadata": {
    "dotnet_interactive": {
     "language": "fsharp"
    }
   },
   "outputs": [
    {
     "data": {
      "text/html": "<div class=\"dni-plaintext\">3</div>"
     },
     "output_type": "unknown"
    }
   ],
   "source": [
    "[|1;2;3|].[^0]"
   ]
  }
 ],
 "metadata": {
  "kernelspec": {
   "display_name": ".NET (C#)",
   "language": "C#",
   "name": ".net-csharp"
  },
  "language_info": {
   "name": "C#",
   "version": ""
  },
  "orig_nbformat": 2
 },
 "nbformat": 4,
 "nbformat_minor": 2
}